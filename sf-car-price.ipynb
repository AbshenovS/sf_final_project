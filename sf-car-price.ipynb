{
 "cells": [
  {
   "cell_type": "code",
   "execution_count": 1,
   "metadata": {
    "_cell_guid": "b1076dfc-b9ad-4769-8c92-a6c4dae69d19",
    "_uuid": "8f2839f25d086af736a60e9eeb907d3b93b6e0e5",
    "execution": {
     "iopub.execute_input": "2021-01-16T15:10:56.167561Z",
     "iopub.status.busy": "2021-01-16T15:10:56.166842Z",
     "iopub.status.idle": "2021-01-16T15:10:56.184152Z",
     "shell.execute_reply": "2021-01-16T15:10:56.183448Z"
    },
    "papermill": {
     "duration": 0.125942,
     "end_time": "2021-01-16T15:10:56.184303",
     "exception": false,
     "start_time": "2021-01-16T15:10:56.058361",
     "status": "completed"
    },
    "tags": []
   },
   "outputs": [
    {
     "name": "stdout",
     "output_type": "stream",
     "text": [
      "/kaggle/input/parsing-all-moscow-auto-ru-09-09-2020/all_auto_ru_09_09_2020.csv\n",
      "/kaggle/input/auto-ru-car-ads-parsed/data1.csv\n",
      "/kaggle/input/sf-dst-car-price-prediction/sample_submission.csv\n",
      "/kaggle/input/sf-dst-car-price-prediction/test.csv\n"
     ]
    }
   ],
   "source": [
    "# This Python 3 environment comes with many helpful analytics libraries installed\n",
    "# It is defined by the kaggle/python Docker image: https://github.com/kaggle/docker-python\n",
    "# For example, here's several helpful packages to load\n",
    "\n",
    "import numpy as np # linear algebra\n",
    "import pandas as pd # data processing, CSV file I/O (e.g. pd.read_csv)\n",
    "\n",
    "# Input data files are available in the read-only \"../input/\" directory\n",
    "# For example, running this (by clicking run or pressing Shift+Enter) will list all files under the input directory\n",
    "\n",
    "import os\n",
    "for dirname, _, filenames in os.walk('/kaggle/input'):\n",
    "    for filename in filenames:\n",
    "        print(os.path.join(dirname, filename))\n",
    "\n",
    "# You can write up to 20GB to the current directory (/kaggle/working/) that gets preserved as output when you create a version using \"Save & Run All\" \n",
    "# You can also write temporary files to /kaggle/temp/, but they won't be saved outside of the current session"
   ]
  },
  {
   "cell_type": "code",
   "execution_count": 2,
   "metadata": {
    "_cell_guid": "79c7e3d0-c299-4dcb-8224-4455121ee9b0",
    "_uuid": "d629ff2d2480ee46fbb7e2d37f6b5fab8052498a",
    "execution": {
     "iopub.execute_input": "2021-01-16T15:10:56.397829Z",
     "iopub.status.busy": "2021-01-16T15:10:56.397074Z",
     "iopub.status.idle": "2021-01-16T15:11:03.056243Z",
     "shell.execute_reply": "2021-01-16T15:11:03.055714Z"
    },
    "papermill": {
     "duration": 6.76775,
     "end_time": "2021-01-16T15:11:03.056347",
     "exception": false,
     "start_time": "2021-01-16T15:10:56.288597",
     "status": "completed"
    },
    "tags": []
   },
   "outputs": [
    {
     "data": {
      "text/html": [
       "<style type='text/css'>\n",
       ".datatable table.frame { margin-bottom: 0; }\n",
       ".datatable table.frame thead { border-bottom: none; }\n",
       ".datatable table.frame tr.coltypes td {  color: #FFFFFF;  line-height: 6px;  padding: 0 0.5em;}\n",
       ".datatable .bool    { background: #DDDD99; }\n",
       ".datatable .object  { background: #565656; }\n",
       ".datatable .int     { background: #5D9E5D; }\n",
       ".datatable .float   { background: #4040CC; }\n",
       ".datatable .str     { background: #CC4040; }\n",
       ".datatable .row_index {  background: var(--jp-border-color3);  border-right: 1px solid var(--jp-border-color0);  color: var(--jp-ui-font-color3);  font-size: 9px;}\n",
       ".datatable .frame tr.coltypes .row_index {  background: var(--jp-border-color0);}\n",
       ".datatable th:nth-child(2) { padding-left: 12px; }\n",
       ".datatable .hellipsis {  color: var(--jp-cell-editor-border-color);}\n",
       ".datatable .vellipsis {  background: var(--jp-layout-color0);  color: var(--jp-cell-editor-border-color);}\n",
       ".datatable .na {  color: var(--jp-cell-editor-border-color);  font-size: 80%;}\n",
       ".datatable .footer { font-size: 9px; }\n",
       ".datatable .frame_dimensions {  background: var(--jp-border-color3);  border-top: 1px solid var(--jp-border-color0);  color: var(--jp-ui-font-color3);  display: inline-block;  opacity: 0.6;  padding: 1px 10px 1px 5px;}\n",
       "</style>\n"
      ],
      "text/plain": [
       "<IPython.core.display.HTML object>"
      ]
     },
     "metadata": {},
     "output_type": "display_data"
    }
   ],
   "source": [
    "from sklearn.model_selection import train_test_split\n",
    "from sklearn.model_selection import KFold, GridSearchCV, RandomizedSearchCV\n",
    "from sklearn.preprocessing import StandardScaler\n",
    "from tqdm.notebook import tqdm\n",
    "\n",
    "from sklearn.tree import DecisionTreeRegressor, ExtraTreeRegressor\n",
    "from sklearn.linear_model import RidgeCV, ElasticNet, Lasso\n",
    "from sklearn.ensemble import (RandomForestRegressor, BaggingRegressor,\n",
    "                              GradientBoostingRegressor,AdaBoostRegressor, StackingRegressor)\n",
    "from catboost import CatBoostRegressor\n",
    "import xgboost as xgb\n",
    "import lightgbm as lgb\n",
    "\n",
    "from sklearn.metrics import mean_squared_error, make_scorer\n",
    "from sklearn.preprocessing import LabelEncoder, Normalizer\n",
    "from sklearn.preprocessing import PolynomialFeatures"
   ]
  },
  {
   "cell_type": "code",
   "execution_count": 3,
   "metadata": {
    "execution": {
     "iopub.execute_input": "2021-01-16T15:11:03.266103Z",
     "iopub.status.busy": "2021-01-16T15:11:03.264615Z",
     "iopub.status.idle": "2021-01-16T15:11:03.267053Z",
     "shell.execute_reply": "2021-01-16T15:11:03.267589Z"
    },
    "papermill": {
     "duration": 0.111932,
     "end_time": "2021-01-16T15:11:03.267718",
     "exception": false,
     "start_time": "2021-01-16T15:11:03.155786",
     "status": "completed"
    },
    "tags": []
   },
   "outputs": [],
   "source": [
    "RANDOM_SEED = 42\n",
    "\n",
    "VERSION = 11\n",
    "VAL_SIZE = 0.2   # 20% данных для локального тестирования и валидации\n",
    "N_FOLDS = 5"
   ]
  },
  {
   "cell_type": "code",
   "execution_count": 4,
   "metadata": {
    "execution": {
     "iopub.execute_input": "2021-01-16T15:11:03.475714Z",
     "iopub.status.busy": "2021-01-16T15:11:03.474931Z",
     "iopub.status.idle": "2021-01-16T15:11:03.477766Z",
     "shell.execute_reply": "2021-01-16T15:11:03.477274Z"
    },
    "papermill": {
     "duration": 0.10523,
     "end_time": "2021-01-16T15:11:03.477864",
     "exception": false,
     "start_time": "2021-01-16T15:11:03.372634",
     "status": "completed"
    },
    "tags": []
   },
   "outputs": [],
   "source": [
    "def mape(y_true, y_pred):\n",
    "    return np.mean(np.abs((y_pred-y_true)/y_true))"
   ]
  },
  {
   "cell_type": "markdown",
   "metadata": {
    "papermill": {
     "duration": 0.099389,
     "end_time": "2021-01-16T15:11:03.677083",
     "exception": false,
     "start_time": "2021-01-16T15:11:03.577694",
     "status": "completed"
    },
    "tags": []
   },
   "source": [
    "# Data"
   ]
  },
  {
   "cell_type": "code",
   "execution_count": 5,
   "metadata": {
    "execution": {
     "iopub.execute_input": "2021-01-16T15:11:03.881878Z",
     "iopub.status.busy": "2021-01-16T15:11:03.881283Z",
     "iopub.status.idle": "2021-01-16T15:11:09.776133Z",
     "shell.execute_reply": "2021-01-16T15:11:09.775483Z"
    },
    "papermill": {
     "duration": 6.000803,
     "end_time": "2021-01-16T15:11:09.776247",
     "exception": false,
     "start_time": "2021-01-16T15:11:03.775444",
     "status": "completed"
    },
    "tags": []
   },
   "outputs": [],
   "source": [
    "train = pd.read_csv('../input/parsing-all-moscow-auto-ru-09-09-2020/all_auto_ru_09_09_2020.csv')"
   ]
  },
  {
   "cell_type": "code",
   "execution_count": 6,
   "metadata": {
    "execution": {
     "iopub.execute_input": "2021-01-16T15:11:09.981047Z",
     "iopub.status.busy": "2021-01-16T15:11:09.980382Z",
     "iopub.status.idle": "2021-01-16T15:11:16.208384Z",
     "shell.execute_reply": "2021-01-16T15:11:16.207784Z"
    },
    "papermill": {
     "duration": 6.332916,
     "end_time": "2021-01-16T15:11:16.208509",
     "exception": false,
     "start_time": "2021-01-16T15:11:09.875593",
     "status": "completed"
    },
    "tags": []
   },
   "outputs": [
    {
     "name": "stderr",
     "output_type": "stream",
     "text": [
      "/opt/conda/lib/python3.7/site-packages/IPython/core/interactiveshell.py:3063: DtypeWarning: Columns (20) have mixed types.Specify dtype option on import or set low_memory=False.\n",
      "  interactivity=interactivity, compiler=compiler, result=result)\n"
     ]
    }
   ],
   "source": [
    "train2 = pd.read_csv('../input/auto-ru-car-ads-parsed/data1.csv')"
   ]
  },
  {
   "cell_type": "code",
   "execution_count": 7,
   "metadata": {
    "execution": {
     "iopub.execute_input": "2021-01-16T15:11:16.429080Z",
     "iopub.status.busy": "2021-01-16T15:11:16.428468Z",
     "iopub.status.idle": "2021-01-16T15:11:19.033086Z",
     "shell.execute_reply": "2021-01-16T15:11:19.033593Z"
    },
    "papermill": {
     "duration": 2.713019,
     "end_time": "2021-01-16T15:11:19.033792",
     "exception": false,
     "start_time": "2021-01-16T15:11:16.320773",
     "status": "completed"
    },
    "tags": []
   },
   "outputs": [],
   "source": [
    "test = pd.read_csv('../input/sf-dst-car-price-prediction/test.csv')\n",
    "sample_submission = pd.read_csv('../input/sf-dst-car-price-prediction/sample_submission.csv')\n",
    "sample_submission_final = pd.read_csv('../input/sf-dst-car-price-prediction/sample_submission.csv')"
   ]
  },
  {
   "cell_type": "code",
   "execution_count": 8,
   "metadata": {
    "execution": {
     "iopub.execute_input": "2021-01-16T15:11:19.263425Z",
     "iopub.status.busy": "2021-01-16T15:11:19.244976Z",
     "iopub.status.idle": "2021-01-16T15:11:19.280912Z",
     "shell.execute_reply": "2021-01-16T15:11:19.281383Z"
    },
    "papermill": {
     "duration": 0.146506,
     "end_time": "2021-01-16T15:11:19.281508",
     "exception": false,
     "start_time": "2021-01-16T15:11:19.135002",
     "status": "completed"
    },
    "tags": []
   },
   "outputs": [
    {
     "data": {
      "text/html": [
       "<div>\n",
       "<style scoped>\n",
       "    .dataframe tbody tr th:only-of-type {\n",
       "        vertical-align: middle;\n",
       "    }\n",
       "\n",
       "    .dataframe tbody tr th {\n",
       "        vertical-align: top;\n",
       "    }\n",
       "\n",
       "    .dataframe thead th {\n",
       "        text-align: right;\n",
       "    }\n",
       "</style>\n",
       "<table border=\"1\" class=\"dataframe\">\n",
       "  <thead>\n",
       "    <tr style=\"text-align: right;\">\n",
       "      <th></th>\n",
       "      <th>bodyType</th>\n",
       "      <th>brand</th>\n",
       "      <th>car_url</th>\n",
       "      <th>color</th>\n",
       "      <th>complectation_dict</th>\n",
       "      <th>description</th>\n",
       "      <th>engineDisplacement</th>\n",
       "      <th>enginePower</th>\n",
       "      <th>equipment_dict</th>\n",
       "      <th>fuelType</th>\n",
       "      <th>...</th>\n",
       "      <th>vehicleConfiguration</th>\n",
       "      <th>vehicleTransmission</th>\n",
       "      <th>vendor</th>\n",
       "      <th>Владельцы</th>\n",
       "      <th>Владение</th>\n",
       "      <th>ПТС</th>\n",
       "      <th>Привод</th>\n",
       "      <th>Руль</th>\n",
       "      <th>Состояние</th>\n",
       "      <th>Таможня</th>\n",
       "    </tr>\n",
       "  </thead>\n",
       "  <tbody>\n",
       "    <tr>\n",
       "      <th>0</th>\n",
       "      <td>лифтбек</td>\n",
       "      <td>SKODA</td>\n",
       "      <td>https://auto.ru/cars/used/sale/skoda/octavia/1...</td>\n",
       "      <td>синий</td>\n",
       "      <td>NaN</td>\n",
       "      <td>Все автомобили, представленные в продаже, прох...</td>\n",
       "      <td>1.2 LTR</td>\n",
       "      <td>105 N12</td>\n",
       "      <td>{\"engine-proof\":true,\"tinted-glass\":true,\"airb...</td>\n",
       "      <td>бензин</td>\n",
       "      <td>...</td>\n",
       "      <td>LIFTBACK ROBOT 1.2</td>\n",
       "      <td>роботизированная</td>\n",
       "      <td>EUROPEAN</td>\n",
       "      <td>3 или более</td>\n",
       "      <td>NaN</td>\n",
       "      <td>Оригинал</td>\n",
       "      <td>передний</td>\n",
       "      <td>Левый</td>\n",
       "      <td>Не требует ремонта</td>\n",
       "      <td>Растаможен</td>\n",
       "    </tr>\n",
       "    <tr>\n",
       "      <th>1</th>\n",
       "      <td>лифтбек</td>\n",
       "      <td>SKODA</td>\n",
       "      <td>https://auto.ru/cars/used/sale/skoda/octavia/1...</td>\n",
       "      <td>чёрный</td>\n",
       "      <td>NaN</td>\n",
       "      <td>ЛОТ: 01217195\\nАвтопрага Север\\nДанный автомоб...</td>\n",
       "      <td>1.6 LTR</td>\n",
       "      <td>110 N12</td>\n",
       "      <td>{\"cruise-control\":true,\"asr\":true,\"esp\":true,\"...</td>\n",
       "      <td>бензин</td>\n",
       "      <td>...</td>\n",
       "      <td>LIFTBACK MECHANICAL 1.6</td>\n",
       "      <td>механическая</td>\n",
       "      <td>EUROPEAN</td>\n",
       "      <td>1 владелец</td>\n",
       "      <td>NaN</td>\n",
       "      <td>Оригинал</td>\n",
       "      <td>передний</td>\n",
       "      <td>Левый</td>\n",
       "      <td>Не требует ремонта</td>\n",
       "      <td>Растаможен</td>\n",
       "    </tr>\n",
       "    <tr>\n",
       "      <th>2</th>\n",
       "      <td>лифтбек</td>\n",
       "      <td>SKODA</td>\n",
       "      <td>https://auto.ru/cars/used/sale/skoda/superb/11...</td>\n",
       "      <td>серый</td>\n",
       "      <td>{\"id\":\"20026336\",\"name\":\"Ambition\",\"available_...</td>\n",
       "      <td>Все автомобили, представленные в продаже, прох...</td>\n",
       "      <td>1.8 LTR</td>\n",
       "      <td>152 N12</td>\n",
       "      <td>{\"cruise-control\":true,\"tinted-glass\":true,\"es...</td>\n",
       "      <td>бензин</td>\n",
       "      <td>...</td>\n",
       "      <td>LIFTBACK ROBOT 1.8</td>\n",
       "      <td>роботизированная</td>\n",
       "      <td>EUROPEAN</td>\n",
       "      <td>1 владелец</td>\n",
       "      <td>NaN</td>\n",
       "      <td>Оригинал</td>\n",
       "      <td>передний</td>\n",
       "      <td>Левый</td>\n",
       "      <td>Не требует ремонта</td>\n",
       "      <td>Растаможен</td>\n",
       "    </tr>\n",
       "    <tr>\n",
       "      <th>3</th>\n",
       "      <td>лифтбек</td>\n",
       "      <td>SKODA</td>\n",
       "      <td>https://auto.ru/cars/used/sale/skoda/octavia/1...</td>\n",
       "      <td>коричневый</td>\n",
       "      <td>{\"id\":\"20803582\",\"name\":\"Ambition\",\"available_...</td>\n",
       "      <td>КОМПЛЕКТ ЗИМНЕЙ (ЛЕТНЕЙ) РЕЗИНЫ ПО СЕЗОНУ В ПО...</td>\n",
       "      <td>1.6 LTR</td>\n",
       "      <td>110 N12</td>\n",
       "      <td>{\"cruise-control\":true,\"roller-blind-for-rear-...</td>\n",
       "      <td>бензин</td>\n",
       "      <td>...</td>\n",
       "      <td>LIFTBACK AUTOMATIC 1.6</td>\n",
       "      <td>автоматическая</td>\n",
       "      <td>EUROPEAN</td>\n",
       "      <td>1 владелец</td>\n",
       "      <td>NaN</td>\n",
       "      <td>Оригинал</td>\n",
       "      <td>передний</td>\n",
       "      <td>Левый</td>\n",
       "      <td>Не требует ремонта</td>\n",
       "      <td>Растаможен</td>\n",
       "    </tr>\n",
       "    <tr>\n",
       "      <th>4</th>\n",
       "      <td>лифтбек</td>\n",
       "      <td>SKODA</td>\n",
       "      <td>https://auto.ru/cars/used/sale/skoda/octavia/1...</td>\n",
       "      <td>белый</td>\n",
       "      <td>NaN</td>\n",
       "      <td>ЛОТ: 01220889\\nАвтопрага Север\\n\\nВы можете по...</td>\n",
       "      <td>1.8 LTR</td>\n",
       "      <td>152 N12</td>\n",
       "      <td>{\"cruise-control\":true,\"asr\":true,\"esp\":true,\"...</td>\n",
       "      <td>бензин</td>\n",
       "      <td>...</td>\n",
       "      <td>LIFTBACK AUTOMATIC 1.8</td>\n",
       "      <td>автоматическая</td>\n",
       "      <td>EUROPEAN</td>\n",
       "      <td>1 владелец</td>\n",
       "      <td>NaN</td>\n",
       "      <td>Оригинал</td>\n",
       "      <td>передний</td>\n",
       "      <td>Левый</td>\n",
       "      <td>Не требует ремонта</td>\n",
       "      <td>Растаможен</td>\n",
       "    </tr>\n",
       "  </tbody>\n",
       "</table>\n",
       "<p>5 rows × 32 columns</p>\n",
       "</div>"
      ],
      "text/plain": [
       "  bodyType  brand                                            car_url  \\\n",
       "0  лифтбек  SKODA  https://auto.ru/cars/used/sale/skoda/octavia/1...   \n",
       "1  лифтбек  SKODA  https://auto.ru/cars/used/sale/skoda/octavia/1...   \n",
       "2  лифтбек  SKODA  https://auto.ru/cars/used/sale/skoda/superb/11...   \n",
       "3  лифтбек  SKODA  https://auto.ru/cars/used/sale/skoda/octavia/1...   \n",
       "4  лифтбек  SKODA  https://auto.ru/cars/used/sale/skoda/octavia/1...   \n",
       "\n",
       "        color                                 complectation_dict  \\\n",
       "0       синий                                                NaN   \n",
       "1      чёрный                                                NaN   \n",
       "2       серый  {\"id\":\"20026336\",\"name\":\"Ambition\",\"available_...   \n",
       "3  коричневый  {\"id\":\"20803582\",\"name\":\"Ambition\",\"available_...   \n",
       "4       белый                                                NaN   \n",
       "\n",
       "                                         description engineDisplacement  \\\n",
       "0  Все автомобили, представленные в продаже, прох...            1.2 LTR   \n",
       "1  ЛОТ: 01217195\\nАвтопрага Север\\nДанный автомоб...            1.6 LTR   \n",
       "2  Все автомобили, представленные в продаже, прох...            1.8 LTR   \n",
       "3  КОМПЛЕКТ ЗИМНЕЙ (ЛЕТНЕЙ) РЕЗИНЫ ПО СЕЗОНУ В ПО...            1.6 LTR   \n",
       "4  ЛОТ: 01220889\\nАвтопрага Север\\n\\nВы можете по...            1.8 LTR   \n",
       "\n",
       "  enginePower                                     equipment_dict fuelType  \\\n",
       "0     105 N12  {\"engine-proof\":true,\"tinted-glass\":true,\"airb...   бензин   \n",
       "1     110 N12  {\"cruise-control\":true,\"asr\":true,\"esp\":true,\"...   бензин   \n",
       "2     152 N12  {\"cruise-control\":true,\"tinted-glass\":true,\"es...   бензин   \n",
       "3     110 N12  {\"cruise-control\":true,\"roller-blind-for-rear-...   бензин   \n",
       "4     152 N12  {\"cruise-control\":true,\"asr\":true,\"esp\":true,\"...   бензин   \n",
       "\n",
       "   ...     vehicleConfiguration  vehicleTransmission    vendor    Владельцы  \\\n",
       "0  ...       LIFTBACK ROBOT 1.2     роботизированная  EUROPEAN  3 или более   \n",
       "1  ...  LIFTBACK MECHANICAL 1.6         механическая  EUROPEAN   1 владелец   \n",
       "2  ...       LIFTBACK ROBOT 1.8     роботизированная  EUROPEAN   1 владелец   \n",
       "3  ...   LIFTBACK AUTOMATIC 1.6       автоматическая  EUROPEAN   1 владелец   \n",
       "4  ...   LIFTBACK AUTOMATIC 1.8       автоматическая  EUROPEAN   1 владелец   \n",
       "\n",
       "  Владение       ПТС    Привод   Руль           Состояние     Таможня  \n",
       "0      NaN  Оригинал  передний  Левый  Не требует ремонта  Растаможен  \n",
       "1      NaN  Оригинал  передний  Левый  Не требует ремонта  Растаможен  \n",
       "2      NaN  Оригинал  передний  Левый  Не требует ремонта  Растаможен  \n",
       "3      NaN  Оригинал  передний  Левый  Не требует ремонта  Растаможен  \n",
       "4      NaN  Оригинал  передний  Левый  Не требует ремонта  Растаможен  \n",
       "\n",
       "[5 rows x 32 columns]"
      ]
     },
     "execution_count": 8,
     "metadata": {},
     "output_type": "execute_result"
    }
   ],
   "source": [
    "test.head()"
   ]
  },
  {
   "cell_type": "code",
   "execution_count": 9,
   "metadata": {
    "execution": {
     "iopub.execute_input": "2021-01-16T15:11:19.590016Z",
     "iopub.status.busy": "2021-01-16T15:11:19.589063Z",
     "iopub.status.idle": "2021-01-16T15:11:19.613757Z",
     "shell.execute_reply": "2021-01-16T15:11:19.614482Z"
    },
    "papermill": {
     "duration": 0.231227,
     "end_time": "2021-01-16T15:11:19.614690",
     "exception": false,
     "start_time": "2021-01-16T15:11:19.383463",
     "status": "completed"
    },
    "tags": []
   },
   "outputs": [
    {
     "name": "stdout",
     "output_type": "stream",
     "text": [
      "<class 'pandas.core.frame.DataFrame'>\n",
      "RangeIndex: 34686 entries, 0 to 34685\n",
      "Data columns (total 32 columns):\n",
      " #   Column                Non-Null Count  Dtype \n",
      "---  ------                --------------  ----- \n",
      " 0   bodyType              34686 non-null  object\n",
      " 1   brand                 34686 non-null  object\n",
      " 2   car_url               34686 non-null  object\n",
      " 3   color                 34686 non-null  object\n",
      " 4   complectation_dict    6418 non-null   object\n",
      " 5   description           34686 non-null  object\n",
      " 6   engineDisplacement    34686 non-null  object\n",
      " 7   enginePower           34686 non-null  object\n",
      " 8   equipment_dict        24690 non-null  object\n",
      " 9   fuelType              34686 non-null  object\n",
      " 10  image                 34686 non-null  object\n",
      " 11  mileage               34686 non-null  int64 \n",
      " 12  modelDate             34686 non-null  int64 \n",
      " 13  model_info            34686 non-null  object\n",
      " 14  model_name            34686 non-null  object\n",
      " 15  name                  34686 non-null  object\n",
      " 16  numberOfDoors         34686 non-null  int64 \n",
      " 17  parsing_unixtime      34686 non-null  int64 \n",
      " 18  priceCurrency         34686 non-null  object\n",
      " 19  productionDate        34686 non-null  int64 \n",
      " 20  sell_id               34686 non-null  int64 \n",
      " 21  super_gen             34686 non-null  object\n",
      " 22  vehicleConfiguration  34686 non-null  object\n",
      " 23  vehicleTransmission   34686 non-null  object\n",
      " 24  vendor                34686 non-null  object\n",
      " 25  Владельцы             34686 non-null  object\n",
      " 26  Владение              11995 non-null  object\n",
      " 27  ПТС                   34685 non-null  object\n",
      " 28  Привод                34686 non-null  object\n",
      " 29  Руль                  34686 non-null  object\n",
      " 30  Состояние             34686 non-null  object\n",
      " 31  Таможня               34686 non-null  object\n",
      "dtypes: int64(6), object(26)\n",
      "memory usage: 8.5+ MB\n"
     ]
    }
   ],
   "source": [
    "test.info()"
   ]
  },
  {
   "cell_type": "code",
   "execution_count": 10,
   "metadata": {
    "execution": {
     "iopub.execute_input": "2021-01-16T15:11:19.860990Z",
     "iopub.status.busy": "2021-01-16T15:11:19.860221Z",
     "iopub.status.idle": "2021-01-16T15:11:19.864187Z",
     "shell.execute_reply": "2021-01-16T15:11:19.864667Z"
    },
    "papermill": {
     "duration": 0.141971,
     "end_time": "2021-01-16T15:11:19.864795",
     "exception": false,
     "start_time": "2021-01-16T15:11:19.722824",
     "status": "completed"
    },
    "tags": []
   },
   "outputs": [
    {
     "data": {
      "text/html": [
       "<div>\n",
       "<style scoped>\n",
       "    .dataframe tbody tr th:only-of-type {\n",
       "        vertical-align: middle;\n",
       "    }\n",
       "\n",
       "    .dataframe tbody tr th {\n",
       "        vertical-align: top;\n",
       "    }\n",
       "\n",
       "    .dataframe thead th {\n",
       "        text-align: right;\n",
       "    }\n",
       "</style>\n",
       "<table border=\"1\" class=\"dataframe\">\n",
       "  <thead>\n",
       "    <tr style=\"text-align: right;\">\n",
       "      <th></th>\n",
       "      <th>bodyType</th>\n",
       "      <th>brand</th>\n",
       "      <th>color</th>\n",
       "      <th>fuelType</th>\n",
       "      <th>modelDate</th>\n",
       "      <th>name</th>\n",
       "      <th>numberOfDoors</th>\n",
       "      <th>productionDate</th>\n",
       "      <th>vehicleConfiguration</th>\n",
       "      <th>vehicleTransmission</th>\n",
       "      <th>...</th>\n",
       "      <th>Руль</th>\n",
       "      <th>Состояние</th>\n",
       "      <th>Владельцы</th>\n",
       "      <th>ПТС</th>\n",
       "      <th>Таможня</th>\n",
       "      <th>Владение</th>\n",
       "      <th>price</th>\n",
       "      <th>start_date</th>\n",
       "      <th>hidden</th>\n",
       "      <th>model</th>\n",
       "    </tr>\n",
       "  </thead>\n",
       "  <tbody>\n",
       "    <tr>\n",
       "      <th>0</th>\n",
       "      <td>Седан</td>\n",
       "      <td>AUDI</td>\n",
       "      <td>040001</td>\n",
       "      <td>бензин</td>\n",
       "      <td>1990.0</td>\n",
       "      <td>2.8 MT (174 л.с.) 4WD</td>\n",
       "      <td>4.0</td>\n",
       "      <td>1991</td>\n",
       "      <td>SEDAN MECHANICAL 2.8</td>\n",
       "      <td>MECHANICAL</td>\n",
       "      <td>...</td>\n",
       "      <td>LEFT</td>\n",
       "      <td>NaN</td>\n",
       "      <td>3.0</td>\n",
       "      <td>ORIGINAL</td>\n",
       "      <td>True</td>\n",
       "      <td>NaN</td>\n",
       "      <td>200000.0</td>\n",
       "      <td>2019-10-03T08:09:11Z</td>\n",
       "      <td>NaN</td>\n",
       "      <td>100</td>\n",
       "    </tr>\n",
       "    <tr>\n",
       "      <th>1</th>\n",
       "      <td>Седан</td>\n",
       "      <td>AUDI</td>\n",
       "      <td>EE1D19</td>\n",
       "      <td>бензин</td>\n",
       "      <td>1982.0</td>\n",
       "      <td>1.8 MT (90 л.с.)</td>\n",
       "      <td>4.0</td>\n",
       "      <td>1986</td>\n",
       "      <td>SEDAN MECHANICAL 1.8</td>\n",
       "      <td>MECHANICAL</td>\n",
       "      <td>...</td>\n",
       "      <td>LEFT</td>\n",
       "      <td>NaN</td>\n",
       "      <td>3.0</td>\n",
       "      <td>ORIGINAL</td>\n",
       "      <td>True</td>\n",
       "      <td>NaN</td>\n",
       "      <td>60000.0</td>\n",
       "      <td>2020-09-06T06:49:40Z</td>\n",
       "      <td>NaN</td>\n",
       "      <td>100</td>\n",
       "    </tr>\n",
       "    <tr>\n",
       "      <th>2</th>\n",
       "      <td>Универсал 5 дв.</td>\n",
       "      <td>AUDI</td>\n",
       "      <td>0000CC</td>\n",
       "      <td>бензин</td>\n",
       "      <td>1988.0</td>\n",
       "      <td>2.3 MT (136 л.с.) 4WD</td>\n",
       "      <td>5.0</td>\n",
       "      <td>1989</td>\n",
       "      <td>WAGON_5_DOORS MECHANICAL 2.3</td>\n",
       "      <td>MECHANICAL</td>\n",
       "      <td>...</td>\n",
       "      <td>LEFT</td>\n",
       "      <td>NaN</td>\n",
       "      <td>3.0</td>\n",
       "      <td>ORIGINAL</td>\n",
       "      <td>True</td>\n",
       "      <td>NaN</td>\n",
       "      <td>99000.0</td>\n",
       "      <td>2020-09-02T14:04:21Z</td>\n",
       "      <td>NaN</td>\n",
       "      <td>100</td>\n",
       "    </tr>\n",
       "    <tr>\n",
       "      <th>3</th>\n",
       "      <td>Седан</td>\n",
       "      <td>AUDI</td>\n",
       "      <td>CACECB</td>\n",
       "      <td>бензин</td>\n",
       "      <td>1988.0</td>\n",
       "      <td>1.8 MT (90 л.с.)</td>\n",
       "      <td>4.0</td>\n",
       "      <td>1989</td>\n",
       "      <td>SEDAN MECHANICAL 1.8</td>\n",
       "      <td>MECHANICAL</td>\n",
       "      <td>...</td>\n",
       "      <td>LEFT</td>\n",
       "      <td>NaN</td>\n",
       "      <td>3.0</td>\n",
       "      <td>ORIGINAL</td>\n",
       "      <td>True</td>\n",
       "      <td>NaN</td>\n",
       "      <td>65000.0</td>\n",
       "      <td>2020-08-23T17:40:09Z</td>\n",
       "      <td>NaN</td>\n",
       "      <td>100</td>\n",
       "    </tr>\n",
       "    <tr>\n",
       "      <th>4</th>\n",
       "      <td>Седан</td>\n",
       "      <td>AUDI</td>\n",
       "      <td>040001</td>\n",
       "      <td>бензин</td>\n",
       "      <td>1990.0</td>\n",
       "      <td>2.0 MT (101 л.с.)</td>\n",
       "      <td>4.0</td>\n",
       "      <td>1991</td>\n",
       "      <td>SEDAN MECHANICAL 2.0</td>\n",
       "      <td>MECHANICAL</td>\n",
       "      <td>...</td>\n",
       "      <td>LEFT</td>\n",
       "      <td>NaN</td>\n",
       "      <td>3.0</td>\n",
       "      <td>DUPLICATE</td>\n",
       "      <td>True</td>\n",
       "      <td>NaN</td>\n",
       "      <td>100000.0</td>\n",
       "      <td>2020-09-08T09:22:07Z</td>\n",
       "      <td>NaN</td>\n",
       "      <td>100</td>\n",
       "    </tr>\n",
       "  </tbody>\n",
       "</table>\n",
       "<p>5 rows × 26 columns</p>\n",
       "</div>"
      ],
      "text/plain": [
       "          bodyType brand   color fuelType  modelDate                   name  \\\n",
       "0            Седан  AUDI  040001   бензин     1990.0  2.8 MT (174 л.с.) 4WD   \n",
       "1            Седан  AUDI  EE1D19   бензин     1982.0       1.8 MT (90 л.с.)   \n",
       "2  Универсал 5 дв.  AUDI  0000CC   бензин     1988.0  2.3 MT (136 л.с.) 4WD   \n",
       "3            Седан  AUDI  CACECB   бензин     1988.0       1.8 MT (90 л.с.)   \n",
       "4            Седан  AUDI  040001   бензин     1990.0      2.0 MT (101 л.с.)   \n",
       "\n",
       "   numberOfDoors  productionDate          vehicleConfiguration  \\\n",
       "0            4.0            1991          SEDAN MECHANICAL 2.8   \n",
       "1            4.0            1986          SEDAN MECHANICAL 1.8   \n",
       "2            5.0            1989  WAGON_5_DOORS MECHANICAL 2.3   \n",
       "3            4.0            1989          SEDAN MECHANICAL 1.8   \n",
       "4            4.0            1991          SEDAN MECHANICAL 2.0   \n",
       "\n",
       "  vehicleTransmission  ...  Руль  Состояние Владельцы        ПТС Таможня  \\\n",
       "0          MECHANICAL  ...  LEFT        NaN       3.0   ORIGINAL    True   \n",
       "1          MECHANICAL  ...  LEFT        NaN       3.0   ORIGINAL    True   \n",
       "2          MECHANICAL  ...  LEFT        NaN       3.0   ORIGINAL    True   \n",
       "3          MECHANICAL  ...  LEFT        NaN       3.0   ORIGINAL    True   \n",
       "4          MECHANICAL  ...  LEFT        NaN       3.0  DUPLICATE    True   \n",
       "\n",
       "  Владение     price            start_date  hidden model  \n",
       "0      NaN  200000.0  2019-10-03T08:09:11Z     NaN   100  \n",
       "1      NaN   60000.0  2020-09-06T06:49:40Z     NaN   100  \n",
       "2      NaN   99000.0  2020-09-02T14:04:21Z     NaN   100  \n",
       "3      NaN   65000.0  2020-08-23T17:40:09Z     NaN   100  \n",
       "4      NaN  100000.0  2020-09-08T09:22:07Z     NaN   100  \n",
       "\n",
       "[5 rows x 26 columns]"
      ]
     },
     "execution_count": 10,
     "metadata": {},
     "output_type": "execute_result"
    }
   ],
   "source": [
    "train.head()"
   ]
  },
  {
   "cell_type": "code",
   "execution_count": 11,
   "metadata": {
    "execution": {
     "iopub.execute_input": "2021-01-16T15:11:20.085760Z",
     "iopub.status.busy": "2021-01-16T15:11:20.084970Z",
     "iopub.status.idle": "2021-01-16T15:11:20.235544Z",
     "shell.execute_reply": "2021-01-16T15:11:20.236931Z"
    },
    "papermill": {
     "duration": 0.264886,
     "end_time": "2021-01-16T15:11:20.237124",
     "exception": false,
     "start_time": "2021-01-16T15:11:19.972238",
     "status": "completed"
    },
    "tags": []
   },
   "outputs": [
    {
     "name": "stdout",
     "output_type": "stream",
     "text": [
      "<class 'pandas.core.frame.DataFrame'>\n",
      "RangeIndex: 89378 entries, 0 to 89377\n",
      "Data columns (total 26 columns):\n",
      " #   Column                Non-Null Count  Dtype  \n",
      "---  ------                --------------  -----  \n",
      " 0   bodyType              89377 non-null  object \n",
      " 1   brand                 89378 non-null  object \n",
      " 2   color                 89378 non-null  object \n",
      " 3   fuelType              89378 non-null  object \n",
      " 4   modelDate             89377 non-null  float64\n",
      " 5   name                  89377 non-null  object \n",
      " 6   numberOfDoors         89377 non-null  float64\n",
      " 7   productionDate        89378 non-null  int64  \n",
      " 8   vehicleConfiguration  89377 non-null  object \n",
      " 9   vehicleTransmission   89377 non-null  object \n",
      " 10  engineDisplacement    89377 non-null  object \n",
      " 11  enginePower           89377 non-null  float64\n",
      " 12  description           86124 non-null  object \n",
      " 13  mileage               89378 non-null  int64  \n",
      " 14  Комплектация          89378 non-null  object \n",
      " 15  Привод                89377 non-null  object \n",
      " 16  Руль                  89378 non-null  object \n",
      " 17  Состояние             0 non-null      float64\n",
      " 18  Владельцы             75790 non-null  float64\n",
      " 19  ПТС                   89017 non-null  object \n",
      " 20  Таможня               89378 non-null  bool   \n",
      " 21  Владение              29201 non-null  object \n",
      " 22  price                 88968 non-null  float64\n",
      " 23  start_date            89378 non-null  object \n",
      " 24  hidden                0 non-null      float64\n",
      " 25  model                 89378 non-null  object \n",
      "dtypes: bool(1), float64(7), int64(2), object(16)\n",
      "memory usage: 17.1+ MB\n"
     ]
    }
   ],
   "source": [
    "train.info()"
   ]
  },
  {
   "cell_type": "code",
   "execution_count": 12,
   "metadata": {
    "execution": {
     "iopub.execute_input": "2021-01-16T15:11:20.478215Z",
     "iopub.status.busy": "2021-01-16T15:11:20.477588Z",
     "iopub.status.idle": "2021-01-16T15:11:20.483579Z",
     "shell.execute_reply": "2021-01-16T15:11:20.484021Z"
    },
    "papermill": {
     "duration": 0.138984,
     "end_time": "2021-01-16T15:11:20.484165",
     "exception": false,
     "start_time": "2021-01-16T15:11:20.345181",
     "status": "completed"
    },
    "tags": []
   },
   "outputs": [
    {
     "data": {
      "text/html": [
       "<div>\n",
       "<style scoped>\n",
       "    .dataframe tbody tr th:only-of-type {\n",
       "        vertical-align: middle;\n",
       "    }\n",
       "\n",
       "    .dataframe tbody tr th {\n",
       "        vertical-align: top;\n",
       "    }\n",
       "\n",
       "    .dataframe thead th {\n",
       "        text-align: right;\n",
       "    }\n",
       "</style>\n",
       "<table border=\"1\" class=\"dataframe\">\n",
       "  <thead>\n",
       "    <tr style=\"text-align: right;\">\n",
       "      <th></th>\n",
       "      <th>bodyType</th>\n",
       "      <th>brand</th>\n",
       "      <th>car_url</th>\n",
       "      <th>color</th>\n",
       "      <th>complectation_dict</th>\n",
       "      <th>description</th>\n",
       "      <th>engineDisplacement</th>\n",
       "      <th>enginePower</th>\n",
       "      <th>equipment_dict</th>\n",
       "      <th>fuelType</th>\n",
       "      <th>...</th>\n",
       "      <th>vendor</th>\n",
       "      <th>Владельцы</th>\n",
       "      <th>Владение</th>\n",
       "      <th>ПТС</th>\n",
       "      <th>Привод</th>\n",
       "      <th>Руль</th>\n",
       "      <th>Состояние</th>\n",
       "      <th>Таможня</th>\n",
       "      <th>is_train</th>\n",
       "      <th>price</th>\n",
       "    </tr>\n",
       "  </thead>\n",
       "  <tbody>\n",
       "    <tr>\n",
       "      <th>0</th>\n",
       "      <td>лифтбек</td>\n",
       "      <td>SKODA</td>\n",
       "      <td>https://auto.ru/cars/used/sale/skoda/octavia/1...</td>\n",
       "      <td>синий</td>\n",
       "      <td>NaN</td>\n",
       "      <td>Все автомобили, представленные в продаже, прох...</td>\n",
       "      <td>1.2</td>\n",
       "      <td>105.0</td>\n",
       "      <td>{\"engine-proof\":true,\"tinted-glass\":true,\"airb...</td>\n",
       "      <td>бензин</td>\n",
       "      <td>...</td>\n",
       "      <td>EUROPEAN</td>\n",
       "      <td>3 или более</td>\n",
       "      <td>NaN</td>\n",
       "      <td>Оригинал</td>\n",
       "      <td>передний</td>\n",
       "      <td>Левый</td>\n",
       "      <td>Не требует ремонта</td>\n",
       "      <td>Растаможен</td>\n",
       "      <td>False</td>\n",
       "      <td>0</td>\n",
       "    </tr>\n",
       "    <tr>\n",
       "      <th>1</th>\n",
       "      <td>лифтбек</td>\n",
       "      <td>SKODA</td>\n",
       "      <td>https://auto.ru/cars/used/sale/skoda/octavia/1...</td>\n",
       "      <td>чёрный</td>\n",
       "      <td>NaN</td>\n",
       "      <td>ЛОТ: 01217195\\nАвтопрага Север\\nДанный автомоб...</td>\n",
       "      <td>1.6</td>\n",
       "      <td>110.0</td>\n",
       "      <td>{\"cruise-control\":true,\"asr\":true,\"esp\":true,\"...</td>\n",
       "      <td>бензин</td>\n",
       "      <td>...</td>\n",
       "      <td>EUROPEAN</td>\n",
       "      <td>1 владелец</td>\n",
       "      <td>NaN</td>\n",
       "      <td>Оригинал</td>\n",
       "      <td>передний</td>\n",
       "      <td>Левый</td>\n",
       "      <td>Не требует ремонта</td>\n",
       "      <td>Растаможен</td>\n",
       "      <td>False</td>\n",
       "      <td>0</td>\n",
       "    </tr>\n",
       "    <tr>\n",
       "      <th>2</th>\n",
       "      <td>лифтбек</td>\n",
       "      <td>SKODA</td>\n",
       "      <td>https://auto.ru/cars/used/sale/skoda/superb/11...</td>\n",
       "      <td>серый</td>\n",
       "      <td>{\"id\":\"20026336\",\"name\":\"Ambition\",\"available_...</td>\n",
       "      <td>Все автомобили, представленные в продаже, прох...</td>\n",
       "      <td>1.8</td>\n",
       "      <td>152.0</td>\n",
       "      <td>{\"cruise-control\":true,\"tinted-glass\":true,\"es...</td>\n",
       "      <td>бензин</td>\n",
       "      <td>...</td>\n",
       "      <td>EUROPEAN</td>\n",
       "      <td>1 владелец</td>\n",
       "      <td>NaN</td>\n",
       "      <td>Оригинал</td>\n",
       "      <td>передний</td>\n",
       "      <td>Левый</td>\n",
       "      <td>Не требует ремонта</td>\n",
       "      <td>Растаможен</td>\n",
       "      <td>False</td>\n",
       "      <td>0</td>\n",
       "    </tr>\n",
       "    <tr>\n",
       "      <th>3</th>\n",
       "      <td>лифтбек</td>\n",
       "      <td>SKODA</td>\n",
       "      <td>https://auto.ru/cars/used/sale/skoda/octavia/1...</td>\n",
       "      <td>коричневый</td>\n",
       "      <td>{\"id\":\"20803582\",\"name\":\"Ambition\",\"available_...</td>\n",
       "      <td>КОМПЛЕКТ ЗИМНЕЙ (ЛЕТНЕЙ) РЕЗИНЫ ПО СЕЗОНУ В ПО...</td>\n",
       "      <td>1.6</td>\n",
       "      <td>110.0</td>\n",
       "      <td>{\"cruise-control\":true,\"roller-blind-for-rear-...</td>\n",
       "      <td>бензин</td>\n",
       "      <td>...</td>\n",
       "      <td>EUROPEAN</td>\n",
       "      <td>1 владелец</td>\n",
       "      <td>NaN</td>\n",
       "      <td>Оригинал</td>\n",
       "      <td>передний</td>\n",
       "      <td>Левый</td>\n",
       "      <td>Не требует ремонта</td>\n",
       "      <td>Растаможен</td>\n",
       "      <td>False</td>\n",
       "      <td>0</td>\n",
       "    </tr>\n",
       "    <tr>\n",
       "      <th>4</th>\n",
       "      <td>лифтбек</td>\n",
       "      <td>SKODA</td>\n",
       "      <td>https://auto.ru/cars/used/sale/skoda/octavia/1...</td>\n",
       "      <td>белый</td>\n",
       "      <td>NaN</td>\n",
       "      <td>ЛОТ: 01220889\\nАвтопрага Север\\n\\nВы можете по...</td>\n",
       "      <td>1.8</td>\n",
       "      <td>152.0</td>\n",
       "      <td>{\"cruise-control\":true,\"asr\":true,\"esp\":true,\"...</td>\n",
       "      <td>бензин</td>\n",
       "      <td>...</td>\n",
       "      <td>EUROPEAN</td>\n",
       "      <td>1 владелец</td>\n",
       "      <td>NaN</td>\n",
       "      <td>Оригинал</td>\n",
       "      <td>передний</td>\n",
       "      <td>Левый</td>\n",
       "      <td>Не требует ремонта</td>\n",
       "      <td>Растаможен</td>\n",
       "      <td>False</td>\n",
       "      <td>0</td>\n",
       "    </tr>\n",
       "  </tbody>\n",
       "</table>\n",
       "<p>5 rows × 34 columns</p>\n",
       "</div>"
      ],
      "text/plain": [
       "  bodyType  brand                                            car_url  \\\n",
       "0  лифтбек  SKODA  https://auto.ru/cars/used/sale/skoda/octavia/1...   \n",
       "1  лифтбек  SKODA  https://auto.ru/cars/used/sale/skoda/octavia/1...   \n",
       "2  лифтбек  SKODA  https://auto.ru/cars/used/sale/skoda/superb/11...   \n",
       "3  лифтбек  SKODA  https://auto.ru/cars/used/sale/skoda/octavia/1...   \n",
       "4  лифтбек  SKODA  https://auto.ru/cars/used/sale/skoda/octavia/1...   \n",
       "\n",
       "        color                                 complectation_dict  \\\n",
       "0       синий                                                NaN   \n",
       "1      чёрный                                                NaN   \n",
       "2       серый  {\"id\":\"20026336\",\"name\":\"Ambition\",\"available_...   \n",
       "3  коричневый  {\"id\":\"20803582\",\"name\":\"Ambition\",\"available_...   \n",
       "4       белый                                                NaN   \n",
       "\n",
       "                                         description  engineDisplacement  \\\n",
       "0  Все автомобили, представленные в продаже, прох...                 1.2   \n",
       "1  ЛОТ: 01217195\\nАвтопрага Север\\nДанный автомоб...                 1.6   \n",
       "2  Все автомобили, представленные в продаже, прох...                 1.8   \n",
       "3  КОМПЛЕКТ ЗИМНЕЙ (ЛЕТНЕЙ) РЕЗИНЫ ПО СЕЗОНУ В ПО...                 1.6   \n",
       "4  ЛОТ: 01220889\\nАвтопрага Север\\n\\nВы можете по...                 1.8   \n",
       "\n",
       "   enginePower                                     equipment_dict fuelType  \\\n",
       "0        105.0  {\"engine-proof\":true,\"tinted-glass\":true,\"airb...   бензин   \n",
       "1        110.0  {\"cruise-control\":true,\"asr\":true,\"esp\":true,\"...   бензин   \n",
       "2        152.0  {\"cruise-control\":true,\"tinted-glass\":true,\"es...   бензин   \n",
       "3        110.0  {\"cruise-control\":true,\"roller-blind-for-rear-...   бензин   \n",
       "4        152.0  {\"cruise-control\":true,\"asr\":true,\"esp\":true,\"...   бензин   \n",
       "\n",
       "   ...    vendor    Владельцы  Владение       ПТС    Привод   Руль  \\\n",
       "0  ...  EUROPEAN  3 или более       NaN  Оригинал  передний  Левый   \n",
       "1  ...  EUROPEAN   1 владелец       NaN  Оригинал  передний  Левый   \n",
       "2  ...  EUROPEAN   1 владелец       NaN  Оригинал  передний  Левый   \n",
       "3  ...  EUROPEAN   1 владелец       NaN  Оригинал  передний  Левый   \n",
       "4  ...  EUROPEAN   1 владелец       NaN  Оригинал  передний  Левый   \n",
       "\n",
       "            Состояние     Таможня is_train  price  \n",
       "0  Не требует ремонта  Растаможен    False      0  \n",
       "1  Не требует ремонта  Растаможен    False      0  \n",
       "2  Не требует ремонта  Растаможен    False      0  \n",
       "3  Не требует ремонта  Растаможен    False      0  \n",
       "4  Не требует ремонта  Растаможен    False      0  \n",
       "\n",
       "[5 rows x 34 columns]"
      ]
     },
     "execution_count": 12,
     "metadata": {},
     "output_type": "execute_result"
    }
   ],
   "source": [
    "train2.head()"
   ]
  },
  {
   "cell_type": "code",
   "execution_count": 13,
   "metadata": {
    "execution": {
     "iopub.execute_input": "2021-01-16T15:11:20.712267Z",
     "iopub.status.busy": "2021-01-16T15:11:20.710152Z",
     "iopub.status.idle": "2021-01-16T15:11:20.756775Z",
     "shell.execute_reply": "2021-01-16T15:11:20.756226Z"
    },
    "papermill": {
     "duration": 0.167464,
     "end_time": "2021-01-16T15:11:20.756893",
     "exception": false,
     "start_time": "2021-01-16T15:11:20.589429",
     "status": "completed"
    },
    "tags": []
   },
   "outputs": [],
   "source": [
    "train2 = train2[train2.is_train == True]\n",
    "train2.drop(columns=['is_train'], inplace=True)"
   ]
  },
  {
   "cell_type": "code",
   "execution_count": 14,
   "metadata": {
    "execution": {
     "iopub.execute_input": "2021-01-16T15:11:21.057747Z",
     "iopub.status.busy": "2021-01-16T15:11:20.969900Z",
     "iopub.status.idle": "2021-01-16T15:11:21.079654Z",
     "shell.execute_reply": "2021-01-16T15:11:21.079145Z"
    },
    "papermill": {
     "duration": 0.218498,
     "end_time": "2021-01-16T15:11:21.079762",
     "exception": false,
     "start_time": "2021-01-16T15:11:20.861264",
     "status": "completed"
    },
    "tags": []
   },
   "outputs": [
    {
     "name": "stdout",
     "output_type": "stream",
     "text": [
      "<class 'pandas.core.frame.DataFrame'>\n",
      "Int64Index: 36210 entries, 34686 to 70895\n",
      "Data columns (total 33 columns):\n",
      " #   Column                Non-Null Count  Dtype  \n",
      "---  ------                --------------  -----  \n",
      " 0   bodyType              36210 non-null  object \n",
      " 1   brand                 36210 non-null  object \n",
      " 2   car_url               36210 non-null  object \n",
      " 3   color                 36210 non-null  object \n",
      " 4   complectation_dict    36210 non-null  object \n",
      " 5   description           35210 non-null  object \n",
      " 6   engineDisplacement    36210 non-null  float64\n",
      " 7   enginePower           36210 non-null  float64\n",
      " 8   equipment_dict        36210 non-null  object \n",
      " 9   fuelType              36210 non-null  object \n",
      " 10  image                 36210 non-null  object \n",
      " 11  mileage               36210 non-null  int64  \n",
      " 12  modelDate             36210 non-null  float64\n",
      " 13  model_info            36210 non-null  object \n",
      " 14  model_name            36210 non-null  object \n",
      " 15  name                  36210 non-null  object \n",
      " 16  numberOfDoors         36210 non-null  float64\n",
      " 17  parsing_unixtime      36210 non-null  int64  \n",
      " 18  priceCurrency         36210 non-null  object \n",
      " 19  productionDate        36210 non-null  int64  \n",
      " 20  sell_id               36210 non-null  object \n",
      " 21  super_gen             36210 non-null  object \n",
      " 22  vehicleConfiguration  36210 non-null  object \n",
      " 23  vehicleTransmission   36210 non-null  object \n",
      " 24  vendor                36210 non-null  object \n",
      " 25  Владельцы             36210 non-null  object \n",
      " 26  Владение              9324 non-null   object \n",
      " 27  ПТС                   36210 non-null  object \n",
      " 28  Привод                36210 non-null  object \n",
      " 29  Руль                  36210 non-null  object \n",
      " 30  Состояние             36210 non-null  object \n",
      " 31  Таможня               36210 non-null  object \n",
      " 32  price                 36210 non-null  int64  \n",
      "dtypes: float64(4), int64(4), object(25)\n",
      "memory usage: 9.4+ MB\n"
     ]
    }
   ],
   "source": [
    "train2.info()"
   ]
  },
  {
   "cell_type": "code",
   "execution_count": 15,
   "metadata": {
    "execution": {
     "iopub.execute_input": "2021-01-16T15:11:21.305653Z",
     "iopub.status.busy": "2021-01-16T15:11:21.304719Z",
     "iopub.status.idle": "2021-01-16T15:11:21.333129Z",
     "shell.execute_reply": "2021-01-16T15:11:21.332637Z"
    },
    "papermill": {
     "duration": 0.148898,
     "end_time": "2021-01-16T15:11:21.333235",
     "exception": false,
     "start_time": "2021-01-16T15:11:21.184337",
     "status": "completed"
    },
    "tags": []
   },
   "outputs": [],
   "source": [
    "train.drop(train[train['bodyType'].isna()].index, inplace=True)\n",
    "\n",
    "train.rename(columns={'model':'model_name'}, inplace=True)"
   ]
  },
  {
   "cell_type": "code",
   "execution_count": 16,
   "metadata": {
    "execution": {
     "iopub.execute_input": "2021-01-16T15:11:21.549069Z",
     "iopub.status.busy": "2021-01-16T15:11:21.548376Z",
     "iopub.status.idle": "2021-01-16T15:11:21.554122Z",
     "shell.execute_reply": "2021-01-16T15:11:21.554932Z"
    },
    "papermill": {
     "duration": 0.11744,
     "end_time": "2021-01-16T15:11:21.555070",
     "exception": false,
     "start_time": "2021-01-16T15:11:21.437630",
     "status": "completed"
    },
    "tags": []
   },
   "outputs": [
    {
     "data": {
      "text/plain": [
       "{'car_url',\n",
       " 'complectation_dict',\n",
       " 'equipment_dict',\n",
       " 'image',\n",
       " 'model_info',\n",
       " 'parsing_unixtime',\n",
       " 'priceCurrency',\n",
       " 'sell_id',\n",
       " 'super_gen',\n",
       " 'vendor'}"
      ]
     },
     "execution_count": 16,
     "metadata": {},
     "output_type": "execute_result"
    }
   ],
   "source": [
    "cols_delete_test = set(test.columns) - set(train.columns)\n",
    "cols_delete_test"
   ]
  },
  {
   "cell_type": "code",
   "execution_count": 17,
   "metadata": {
    "execution": {
     "iopub.execute_input": "2021-01-16T15:11:21.807413Z",
     "iopub.status.busy": "2021-01-16T15:11:21.805716Z",
     "iopub.status.idle": "2021-01-16T15:11:21.813469Z",
     "shell.execute_reply": "2021-01-16T15:11:21.814200Z"
    },
    "papermill": {
     "duration": 0.154176,
     "end_time": "2021-01-16T15:11:21.814380",
     "exception": false,
     "start_time": "2021-01-16T15:11:21.660204",
     "status": "completed"
    },
    "tags": []
   },
   "outputs": [
    {
     "data": {
      "text/plain": [
       "{'hidden', 'start_date', 'Комплектация'}"
      ]
     },
     "execution_count": 17,
     "metadata": {},
     "output_type": "execute_result"
    }
   ],
   "source": [
    "cols_delete_train = set(train.columns) - set(test.columns)\n",
    "cols_delete_train.remove('price')\n",
    "cols_delete_train"
   ]
  },
  {
   "cell_type": "code",
   "execution_count": 18,
   "metadata": {
    "execution": {
     "iopub.execute_input": "2021-01-16T15:11:22.143698Z",
     "iopub.status.busy": "2021-01-16T15:11:22.142839Z",
     "iopub.status.idle": "2021-01-16T15:11:22.147718Z",
     "shell.execute_reply": "2021-01-16T15:11:22.148335Z"
    },
    "papermill": {
     "duration": 0.175277,
     "end_time": "2021-01-16T15:11:22.148503",
     "exception": false,
     "start_time": "2021-01-16T15:11:21.973226",
     "status": "completed"
    },
    "tags": []
   },
   "outputs": [
    {
     "data": {
      "text/plain": [
       "{'car_url',\n",
       " 'complectation_dict',\n",
       " 'equipment_dict',\n",
       " 'image',\n",
       " 'model_info',\n",
       " 'parsing_unixtime',\n",
       " 'priceCurrency',\n",
       " 'sell_id',\n",
       " 'super_gen',\n",
       " 'vendor'}"
      ]
     },
     "execution_count": 18,
     "metadata": {},
     "output_type": "execute_result"
    }
   ],
   "source": [
    "cols_delete_train2 = set(train2.columns) - set(train.columns)\n",
    "cols_delete_train2"
   ]
  },
  {
   "cell_type": "code",
   "execution_count": 19,
   "metadata": {
    "execution": {
     "iopub.execute_input": "2021-01-16T15:11:22.465826Z",
     "iopub.status.busy": "2021-01-16T15:11:22.464977Z",
     "iopub.status.idle": "2021-01-16T15:11:22.486789Z",
     "shell.execute_reply": "2021-01-16T15:11:22.487232Z"
    },
    "papermill": {
     "duration": 0.182602,
     "end_time": "2021-01-16T15:11:22.487368",
     "exception": false,
     "start_time": "2021-01-16T15:11:22.304766",
     "status": "completed"
    },
    "tags": []
   },
   "outputs": [
    {
     "name": "stdout",
     "output_type": "stream",
     "text": [
      "23 23 22\n"
     ]
    }
   ],
   "source": [
    "train.drop(columns=cols_delete_train, inplace=True)\n",
    "train2.drop(columns=cols_delete_train2, inplace=True)\n",
    "test.drop(columns=cols_delete_test, inplace=True)\n",
    "print(train.shape[1], train2.shape[1], test.shape[1])"
   ]
  },
  {
   "cell_type": "code",
   "execution_count": 20,
   "metadata": {
    "execution": {
     "iopub.execute_input": "2021-01-16T15:11:22.732756Z",
     "iopub.status.busy": "2021-01-16T15:11:22.731806Z",
     "iopub.status.idle": "2021-01-16T15:11:22.855870Z",
     "shell.execute_reply": "2021-01-16T15:11:22.855279Z"
    },
    "papermill": {
     "duration": 0.248482,
     "end_time": "2021-01-16T15:11:22.855988",
     "exception": false,
     "start_time": "2021-01-16T15:11:22.607506",
     "status": "completed"
    },
    "tags": []
   },
   "outputs": [],
   "source": [
    "order = test.columns.to_list()\n",
    "train = train[order + ['price']]\n",
    "train2 = train2[order + ['price']]\n",
    "\n",
    "train = pd.concat([train, train2], ignore_index=True)"
   ]
  },
  {
   "cell_type": "markdown",
   "metadata": {
    "papermill": {
     "duration": 0.109824,
     "end_time": "2021-01-16T15:11:23.072450",
     "exception": false,
     "start_time": "2021-01-16T15:11:22.962626",
     "status": "completed"
    },
    "tags": []
   },
   "source": [
    "# Data preperation and Feature engineering"
   ]
  },
  {
   "cell_type": "code",
   "execution_count": 21,
   "metadata": {
    "execution": {
     "iopub.execute_input": "2021-01-16T15:11:23.330147Z",
     "iopub.status.busy": "2021-01-16T15:11:23.329200Z",
     "iopub.status.idle": "2021-01-16T15:11:23.332285Z",
     "shell.execute_reply": "2021-01-16T15:11:23.331807Z"
    },
    "papermill": {
     "duration": 0.150767,
     "end_time": "2021-01-16T15:11:23.332389",
     "exception": false,
     "start_time": "2021-01-16T15:11:23.181622",
     "status": "completed"
    },
    "tags": []
   },
   "outputs": [],
   "source": [
    "to_delete = []"
   ]
  },
  {
   "cell_type": "code",
   "execution_count": 22,
   "metadata": {
    "execution": {
     "iopub.execute_input": "2021-01-16T15:11:23.625746Z",
     "iopub.status.busy": "2021-01-16T15:11:23.625107Z",
     "iopub.status.idle": "2021-01-16T15:11:23.634795Z",
     "shell.execute_reply": "2021-01-16T15:11:23.635244Z"
    },
    "papermill": {
     "duration": 0.193319,
     "end_time": "2021-01-16T15:11:23.635379",
     "exception": false,
     "start_time": "2021-01-16T15:11:23.442060",
     "status": "completed"
    },
    "tags": []
   },
   "outputs": [
    {
     "data": {
      "text/plain": [
       "bodyType                    0\n",
       "brand                       0\n",
       "color                       0\n",
       "description                 0\n",
       "engineDisplacement          0\n",
       "enginePower                 0\n",
       "fuelType                    0\n",
       "mileage                     0\n",
       "modelDate                   0\n",
       "model_name                  0\n",
       "name                        0\n",
       "numberOfDoors               0\n",
       "productionDate              0\n",
       "vehicleConfiguration        0\n",
       "vehicleTransmission         0\n",
       "Владельцы                   0\n",
       "Владение                22691\n",
       "ПТС                         1\n",
       "Привод                      0\n",
       "Руль                        0\n",
       "Состояние                   0\n",
       "Таможня                     0\n",
       "dtype: int64"
      ]
     },
     "execution_count": 22,
     "metadata": {},
     "output_type": "execute_result"
    }
   ],
   "source": [
    "test.isna().sum()"
   ]
  },
  {
   "cell_type": "code",
   "execution_count": 23,
   "metadata": {
    "execution": {
     "iopub.execute_input": "2021-01-16T15:11:23.910807Z",
     "iopub.status.busy": "2021-01-16T15:11:23.909936Z",
     "iopub.status.idle": "2021-01-16T15:11:24.064888Z",
     "shell.execute_reply": "2021-01-16T15:11:24.065391Z"
    },
    "papermill": {
     "duration": 0.32275,
     "end_time": "2021-01-16T15:11:24.065547",
     "exception": false,
     "start_time": "2021-01-16T15:11:23.742797",
     "status": "completed"
    },
    "tags": []
   },
   "outputs": [
    {
     "data": {
      "text/plain": [
       "bodyType                    0\n",
       "brand                       0\n",
       "color                       0\n",
       "description              4254\n",
       "engineDisplacement          0\n",
       "enginePower                 0\n",
       "fuelType                    0\n",
       "mileage                     0\n",
       "modelDate                   0\n",
       "model_name                  0\n",
       "name                        0\n",
       "numberOfDoors               0\n",
       "productionDate              0\n",
       "vehicleConfiguration        0\n",
       "vehicleTransmission         0\n",
       "Владельцы               13588\n",
       "Владение                87062\n",
       "ПТС                       361\n",
       "Привод                      0\n",
       "Руль                        0\n",
       "Состояние               89377\n",
       "Таможня                     0\n",
       "price                     410\n",
       "dtype: int64"
      ]
     },
     "execution_count": 23,
     "metadata": {},
     "output_type": "execute_result"
    }
   ],
   "source": [
    "train.isna().sum()"
   ]
  },
  {
   "cell_type": "code",
   "execution_count": 24,
   "metadata": {
    "execution": {
     "iopub.execute_input": "2021-01-16T15:11:24.294496Z",
     "iopub.status.busy": "2021-01-16T15:11:24.293591Z",
     "iopub.status.idle": "2021-01-16T15:11:24.296007Z",
     "shell.execute_reply": "2021-01-16T15:11:24.296438Z"
    },
    "papermill": {
     "duration": 0.117261,
     "end_time": "2021-01-16T15:11:24.296578",
     "exception": false,
     "start_time": "2021-01-16T15:11:24.179317",
     "status": "completed"
    },
    "tags": []
   },
   "outputs": [],
   "source": [
    "to_delete.append('Владение')"
   ]
  },
  {
   "cell_type": "code",
   "execution_count": 25,
   "metadata": {
    "execution": {
     "iopub.execute_input": "2021-01-16T15:11:24.530762Z",
     "iopub.status.busy": "2021-01-16T15:11:24.529630Z",
     "iopub.status.idle": "2021-01-16T15:11:24.796810Z",
     "shell.execute_reply": "2021-01-16T15:11:24.795846Z"
    },
    "papermill": {
     "duration": 0.384945,
     "end_time": "2021-01-16T15:11:24.796941",
     "exception": false,
     "start_time": "2021-01-16T15:11:24.411996",
     "status": "completed"
    },
    "tags": []
   },
   "outputs": [
    {
     "name": "stdout",
     "output_type": "stream",
     "text": [
      "bodyType : 24\n",
      "brand : 12\n",
      "color : 16\n",
      "description : 31732\n",
      "engineDisplacement : 55\n",
      "enginePower : 315\n",
      "fuelType : 5\n",
      "mileage : 11268\n",
      "modelDate : 66\n",
      "model_name : 544\n",
      "name : 2780\n",
      "numberOfDoors : 5\n",
      "productionDate : 69\n",
      "vehicleConfiguration : 634\n",
      "vehicleTransmission : 4\n",
      "Владельцы : 3\n",
      "Владение : 275\n",
      "ПТС : 2\n",
      "Привод : 3\n",
      "Руль : 2\n",
      "Состояние : 1\n",
      "Таможня : 1\n"
     ]
    }
   ],
   "source": [
    "for col in test.columns:\n",
    "    print(col, ':', test[col].nunique())"
   ]
  },
  {
   "cell_type": "code",
   "execution_count": 26,
   "metadata": {
    "execution": {
     "iopub.execute_input": "2021-01-16T15:11:25.023273Z",
     "iopub.status.busy": "2021-01-16T15:11:25.022339Z",
     "iopub.status.idle": "2021-01-16T15:11:25.025496Z",
     "shell.execute_reply": "2021-01-16T15:11:25.024594Z"
    },
    "papermill": {
     "duration": 0.118499,
     "end_time": "2021-01-16T15:11:25.025627",
     "exception": false,
     "start_time": "2021-01-16T15:11:24.907128",
     "status": "completed"
    },
    "tags": []
   },
   "outputs": [],
   "source": [
    "to_delete += ['Состояние', 'Таможня']"
   ]
  },
  {
   "cell_type": "markdown",
   "metadata": {
    "papermill": {
     "duration": 0.109568,
     "end_time": "2021-01-16T15:11:25.245202",
     "exception": false,
     "start_time": "2021-01-16T15:11:25.135634",
     "status": "completed"
    },
    "tags": []
   },
   "source": [
    "### bodyType"
   ]
  },
  {
   "cell_type": "code",
   "execution_count": 27,
   "metadata": {
    "execution": {
     "iopub.execute_input": "2021-01-16T15:11:25.505990Z",
     "iopub.status.busy": "2021-01-16T15:11:25.471050Z",
     "iopub.status.idle": "2021-01-16T15:11:25.596555Z",
     "shell.execute_reply": "2021-01-16T15:11:25.595923Z"
    },
    "papermill": {
     "duration": 0.240304,
     "end_time": "2021-01-16T15:11:25.596676",
     "exception": false,
     "start_time": "2021-01-16T15:11:25.356372",
     "status": "completed"
    },
    "tags": []
   },
   "outputs": [],
   "source": [
    "train.bodyType = train.bodyType.astype(str)\n",
    "train.bodyType = train.bodyType.apply(lambda x: x.capitalize())\n",
    "test.bodyType = test.bodyType.apply(lambda x: x.capitalize())"
   ]
  },
  {
   "cell_type": "code",
   "execution_count": 28,
   "metadata": {
    "execution": {
     "iopub.execute_input": "2021-01-16T15:11:25.841111Z",
     "iopub.status.busy": "2021-01-16T15:11:25.840299Z",
     "iopub.status.idle": "2021-01-16T15:11:25.846252Z",
     "shell.execute_reply": "2021-01-16T15:11:25.846833Z"
    },
    "papermill": {
     "duration": 0.12894,
     "end_time": "2021-01-16T15:11:25.846958",
     "exception": false,
     "start_time": "2021-01-16T15:11:25.718018",
     "status": "completed"
    },
    "tags": []
   },
   "outputs": [
    {
     "data": {
      "text/plain": [
       "array(['Лифтбек', 'Внедорожник 5 дв.', 'Хэтчбек 5 дв.', 'Седан',\n",
       "       'Компактвэн', 'Универсал 5 дв.', 'Пикап одинарная кабина',\n",
       "       'Хэтчбек 3 дв.', 'Купе', 'Кабриолет', 'Минивэн',\n",
       "       'Пикап двойная кабина', 'Внедорожник 3 дв.', 'Родстер', 'Микровэн',\n",
       "       'Седан 2 дв.', 'Купе-хардтоп', 'Фастбек', 'Тарга',\n",
       "       'Внедорожник открытый', 'Лимузин', 'Пикап полуторная кабина',\n",
       "       'Седан-хардтоп', 'Фургон'], dtype=object)"
      ]
     },
     "execution_count": 28,
     "metadata": {},
     "output_type": "execute_result"
    }
   ],
   "source": [
    "test.bodyType.unique()"
   ]
  },
  {
   "cell_type": "code",
   "execution_count": 29,
   "metadata": {
    "execution": {
     "iopub.execute_input": "2021-01-16T15:11:26.096939Z",
     "iopub.status.busy": "2021-01-16T15:11:26.096113Z",
     "iopub.status.idle": "2021-01-16T15:11:26.106320Z",
     "shell.execute_reply": "2021-01-16T15:11:26.105839Z"
    },
    "papermill": {
     "duration": 0.147419,
     "end_time": "2021-01-16T15:11:26.106425",
     "exception": false,
     "start_time": "2021-01-16T15:11:25.959006",
     "status": "completed"
    },
    "tags": []
   },
   "outputs": [
    {
     "data": {
      "text/plain": [
       "array(['Седан', 'Универсал 5 дв.', 'Хэтчбек 5 дв. sportback',\n",
       "       'Хэтчбек 3 дв.', 'Хэтчбек 5 дв.', 'Кабриолет', 'Купе',\n",
       "       'Лифтбек sportback', 'Лифтбек', 'Седан long', 'Внедорожник 5 дв.',\n",
       "       'Кабриолет roadster', 'Седан 2 дв.', 'Седан gran coupe',\n",
       "       'Компактвэн', 'Компактвэн gran tourer', 'Лифтбек gran turismo',\n",
       "       'Хэтчбек 3 дв. compact', 'Лифтбек gran coupe', 'Купе-хардтоп',\n",
       "       'Родстер roadster', 'Родстер', 'Внедорожник 5 дв. esv', 'Минивэн',\n",
       "       'Пикап двойная кабина', 'Внедорожник 3 дв.',\n",
       "       'Пикап одинарная кабина', 'Тарга', 'Пикап двойная кабина crew cab',\n",
       "       'Пикап двойная кабина double',\n",
       "       'Пикап одинарная кабина regular cab', 'Внедорожник 5 дв. ext',\n",
       "       'Седан srt8', 'Минивэн swb', 'Минивэн grand', 'Компактвэн grand',\n",
       "       'Универсал 5 дв. crosstourer', 'Минивэн long', 'Минивэн xl',\n",
       "       'Микровэн coach', 'Хэтчбек 5 дв. best', 'Хэтчбек 5 дв. srt4',\n",
       "       'Купе srt', 'Седан srt', 'Пикап полуторная кабина',\n",
       "       'Пикап двойная кабина quad cab',\n",
       "       'Пикап полуторная кабина quad cab',\n",
       "       'Пикап двойная кабина crew cab trx',\n",
       "       'Пикап полуторная кабина club cab',\n",
       "       'Пикап двойная кабина raptor supercrew',\n",
       "       'Пикап двойная кабина crewcab',\n",
       "       'Пикап двойная кабина raptor crewcab',\n",
       "       'Пикап двойная кабина super crew',\n",
       "       'Пикап полуторная кабина raptor', 'Пикап двойная кабина supercrew',\n",
       "       'Кабриолет streetka', 'Пикап двойная кабина double cab',\n",
       "       'Пикап полуторная кабина rap cab', 'Компактвэн lwb',\n",
       "       'Компактвэн swb', 'Минивэн lwb', 'Фастбек', 'Седан type-s',\n",
       "       'Микровэн', 'Универсал 5 дв. shuttle', 'Родстер del sol',\n",
       "       'Компактвэн spike', 'Минивэн spada', 'Седан limousine',\n",
       "       'Внедорожник 5 дв. grand', 'Хэтчбек 4 дв.', 'Седан swb',\n",
       "       'Седан lwb', 'Внедорожник 5 дв. srt',\n",
       "       'Внедорожник 5 дв. trackhawk', 'Внедорожник 5 дв. srt8',\n",
       "       'Внедорожник открытый', 'Хэтчбек 5 дв. gt line',\n",
       "       'Хэтчбек 5 дв. x-line', 'Хэтчбек 5 дв. eu',\n",
       "       'Внедорожник 5 дв. prime', 'Внедорожник 5 дв. l', 'Минивэн brawny',\n",
       "       'Универсал 5 дв. s-familia', 'Кабриолет jcw', 'Кабриолет cooper s',\n",
       "       'Хэтчбек 3 дв. cooper s', 'Универсал 5 дв. jcw',\n",
       "       'Универсал 5 дв. cooper s', 'Внедорожник 5 дв. cooper s',\n",
       "       'Внедорожник 5 дв. jcw', 'Купе cooper s', 'Хэтчбек 3 дв. jcw',\n",
       "       'Хэтчбек 5 дв. cooper s', 'Универсал 5 дв. plus', 'Купе asti',\n",
       "       'Минивэн caravan elgrand', 'Компактвэн joy',\n",
       "       'Универсал 5 дв. california', 'Седан latio', 'Хэтчбек 3 дв. gtc',\n",
       "       'Универсал 5 дв. country tourer', 'Минивэн l', 'Тарга targa',\n",
       "       'Купе rs', 'Седан stepway', 'Хэтчбек 5 дв. stepway',\n",
       "       'Компактвэн rx4', 'Компактвэн conquest', 'Седан 120',\n",
       "       'Хэтчбек 5 дв. scout', 'Универсал 5 дв. scout',\n",
       "       'Универсал 5 дв. spaceback', 'Внедорожник 5 дв. ts',\n",
       "       'Хэтчбек 5 дв. xv', 'Внедорожник 5 дв. xl-7',\n",
       "       'Универсал 5 дв. gita', 'Седан us market', 'Седан japan market',\n",
       "       'Седан gracia', 'Универсал 5 дв. gracia', 'Седан-хардтоп',\n",
       "       'Универсал 5 дв. fielder', 'Седан axio', 'Седан-хардтоп ceres',\n",
       "       'Хэтчбек 5 дв. runx', 'Лифтбек liftback', 'Седан premio',\n",
       "       'Седан t140', 'Минивэн lucida', 'Минивэн emina', 'Минивэн regius',\n",
       "       'Внедорожник 3 дв. 78', 'Внедорожник 5 дв. 76',\n",
       "       'Пикап одинарная кабина 79', 'Внедорожник 5 дв. arctic trucks',\n",
       "       'Компактвэн noah', 'Универсал 5 дв. blit',\n",
       "       'Универсал 5 дв. qualis', 'Внедорожник 5 дв. long',\n",
       "       'Пикап полуторная кабина long bed', 'Пикап двойная кабина crewmax',\n",
       "       'Универсал 5 дв. ardeo', 'Компактвэн life', 'Компактвэн maxi',\n",
       "       'Компактвэн life maxi', 'Компактвэн alltrack',\n",
       "       'Универсал 5 дв. alltrack', 'Хэтчбек 5 дв. cross',\n",
       "       'Внедорожник 5 дв. allspace', 'Компактвэн cross', 'Фургон',\n",
       "       'Фургон kasten', 'Универсал 5 дв. xc', 'Внедорожник 5 дв. 110',\n",
       "       'Внедорожник 3 дв. 90', 'Хэтчбек 5 дв. long',\n",
       "       'Универсал 5 дв. all-terrain', 'Внедорожник 5 дв. 4x4',\n",
       "       'Лимузин pullman', 'Минивэн extralong', 'Минивэн marco polo',\n",
       "       'Минивэн extra long', 'Минивэн l2', 'Минивэн l3', 'Минивэн l1',\n",
       "       'Пикап двойная кабина sports', 'Универсал 3 дв.1', 'Лимузин'],\n",
       "      dtype=object)"
      ]
     },
     "execution_count": 29,
     "metadata": {},
     "output_type": "execute_result"
    }
   ],
   "source": [
    "train.bodyType.unique()"
   ]
  },
  {
   "cell_type": "code",
   "execution_count": 30,
   "metadata": {
    "execution": {
     "iopub.execute_input": "2021-01-16T15:11:26.340008Z",
     "iopub.status.busy": "2021-01-16T15:11:26.339133Z",
     "iopub.status.idle": "2021-01-16T15:11:26.344079Z",
     "shell.execute_reply": "2021-01-16T15:11:26.343604Z"
    },
    "papermill": {
     "duration": 0.126582,
     "end_time": "2021-01-16T15:11:26.344182",
     "exception": false,
     "start_time": "2021-01-16T15:11:26.217600",
     "status": "completed"
    },
    "tags": []
   },
   "outputs": [],
   "source": [
    "types = ['Купе-хардтоп', 'Седан-хардтоп', 'Седан 2 дв.'] + test['bodyType'].unique().tolist()\n",
    "\n",
    "def bodyType_prep(b_type):\n",
    "    for t in types:\n",
    "        if t == b_type[:len(t)]:\n",
    "            return b_type[:len(t)]\n",
    "    return b_type"
   ]
  },
  {
   "cell_type": "code",
   "execution_count": 31,
   "metadata": {
    "execution": {
     "iopub.execute_input": "2021-01-16T15:11:26.575332Z",
     "iopub.status.busy": "2021-01-16T15:11:26.574494Z",
     "iopub.status.idle": "2021-01-16T15:11:26.822435Z",
     "shell.execute_reply": "2021-01-16T15:11:26.823077Z"
    },
    "papermill": {
     "duration": 0.368766,
     "end_time": "2021-01-16T15:11:26.823236",
     "exception": false,
     "start_time": "2021-01-16T15:11:26.454470",
     "status": "completed"
    },
    "tags": []
   },
   "outputs": [
    {
     "data": {
      "text/plain": [
       "array(['Седан', 'Универсал 5 дв.', 'Хэтчбек 5 дв.', 'Хэтчбек 3 дв.',\n",
       "       'Кабриолет', 'Купе', 'Лифтбек', 'Внедорожник 5 дв.', 'Седан 2 дв.',\n",
       "       'Компактвэн', 'Купе-хардтоп', 'Родстер', 'Минивэн',\n",
       "       'Пикап двойная кабина', 'Внедорожник 3 дв.',\n",
       "       'Пикап одинарная кабина', 'Тарга', 'Микровэн',\n",
       "       'Пикап полуторная кабина', 'Фастбек', 'Хэтчбек 4 дв.',\n",
       "       'Внедорожник открытый', 'Седан-хардтоп', 'Фургон', 'Лимузин',\n",
       "       'Универсал 3 дв.1'], dtype=object)"
      ]
     },
     "execution_count": 31,
     "metadata": {},
     "output_type": "execute_result"
    }
   ],
   "source": [
    "train.bodyType = train.bodyType.apply(bodyType_prep)\n",
    "train.bodyType.unique()"
   ]
  },
  {
   "cell_type": "code",
   "execution_count": 32,
   "metadata": {
    "execution": {
     "iopub.execute_input": "2021-01-16T15:11:27.082380Z",
     "iopub.status.busy": "2021-01-16T15:11:27.081555Z",
     "iopub.status.idle": "2021-01-16T15:11:27.084819Z",
     "shell.execute_reply": "2021-01-16T15:11:27.085289Z"
    },
    "papermill": {
     "duration": 0.149013,
     "end_time": "2021-01-16T15:11:27.085410",
     "exception": false,
     "start_time": "2021-01-16T15:11:26.936397",
     "status": "completed"
    },
    "tags": []
   },
   "outputs": [
    {
     "data": {
      "text/plain": [
       "set()"
      ]
     },
     "execution_count": 32,
     "metadata": {},
     "output_type": "execute_result"
    }
   ],
   "source": [
    "set(test.bodyType) - set(train.bodyType)\n",
    "\n",
    "# все типы данного признака в тестовой выворке присутствуют в трейн датасете"
   ]
  },
  {
   "cell_type": "code",
   "execution_count": 33,
   "metadata": {
    "execution": {
     "iopub.execute_input": "2021-01-16T15:11:27.316043Z",
     "iopub.status.busy": "2021-01-16T15:11:27.315183Z",
     "iopub.status.idle": "2021-01-16T15:11:27.337936Z",
     "shell.execute_reply": "2021-01-16T15:11:27.337400Z"
    },
    "papermill": {
     "duration": 0.141301,
     "end_time": "2021-01-16T15:11:27.338043",
     "exception": false,
     "start_time": "2021-01-16T15:11:27.196742",
     "status": "completed"
    },
    "tags": []
   },
   "outputs": [
    {
     "data": {
      "text/plain": [
       "{'Внедорожник 3 дв.': 750237.5020491803,\n",
       " 'Внедорожник 5 дв.': 2116855.4253853997,\n",
       " 'Внедорожник открытый': 2704444.4444444445,\n",
       " 'Кабриолет': 1893805.3951612904,\n",
       " 'Компактвэн': 488639.42766295705,\n",
       " 'Купе': 2461246.2542703757,\n",
       " 'Купе-хардтоп': 1255713.2952755906,\n",
       " 'Лимузин': 4332222.222222222,\n",
       " 'Лифтбек': 922540.2691677589,\n",
       " 'Микровэн': 365461.5128205128,\n",
       " 'Минивэн': 1747452.2289042822,\n",
       " 'Пикап двойная кабина': 1588551.4138728324,\n",
       " 'Пикап одинарная кабина': 1567285.7142857143,\n",
       " 'Пикап полуторная кабина': 1643269.1923076923,\n",
       " 'Родстер': 3082352.668316832,\n",
       " 'Седан': 1116969.744680851,\n",
       " 'Седан 2 дв.': 1407714.2857142857,\n",
       " 'Седан-хардтоп': 132500.0,\n",
       " 'Тарга': 4096771.727272727,\n",
       " 'Универсал 3 дв.1': 200000.0,\n",
       " 'Универсал 5 дв.': 625763.3339059481,\n",
       " 'Фастбек': 1836500.0,\n",
       " 'Фургон': 567856.8784530386,\n",
       " 'Хэтчбек 3 дв.': 441744.4029990628,\n",
       " 'Хэтчбек 4 дв.': 797714.2857142857,\n",
       " 'Хэтчбек 5 дв.': 503438.1341497356}"
      ]
     },
     "execution_count": 33,
     "metadata": {},
     "output_type": "execute_result"
    }
   ],
   "source": [
    "# средняя стоимость каждого типа \n",
    "body_price = train.groupby(['bodyType'])['price'].mean().to_dict()\n",
    "body_price"
   ]
  },
  {
   "cell_type": "code",
   "execution_count": 34,
   "metadata": {
    "execution": {
     "iopub.execute_input": "2021-01-16T15:11:27.579962Z",
     "iopub.status.busy": "2021-01-16T15:11:27.579125Z",
     "iopub.status.idle": "2021-01-16T15:11:27.644469Z",
     "shell.execute_reply": "2021-01-16T15:11:27.643933Z"
    },
    "papermill": {
     "duration": 0.186938,
     "end_time": "2021-01-16T15:11:27.644596",
     "exception": false,
     "start_time": "2021-01-16T15:11:27.457658",
     "status": "completed"
    },
    "tags": []
   },
   "outputs": [],
   "source": [
    "train['bodyType_mean'] = train['bodyType'].apply(lambda x: body_price[x])\n",
    "test['bodyType_mean'] = test['bodyType'].apply(lambda x: body_price[x])"
   ]
  },
  {
   "cell_type": "markdown",
   "metadata": {
    "papermill": {
     "duration": 0.111309,
     "end_time": "2021-01-16T15:11:27.868119",
     "exception": false,
     "start_time": "2021-01-16T15:11:27.756810",
     "status": "completed"
    },
    "tags": []
   },
   "source": [
    "### brand"
   ]
  },
  {
   "cell_type": "code",
   "execution_count": 35,
   "metadata": {
    "execution": {
     "iopub.execute_input": "2021-01-16T15:11:28.102785Z",
     "iopub.status.busy": "2021-01-16T15:11:28.101510Z",
     "iopub.status.idle": "2021-01-16T15:11:28.106870Z",
     "shell.execute_reply": "2021-01-16T15:11:28.107312Z"
    },
    "papermill": {
     "duration": 0.126472,
     "end_time": "2021-01-16T15:11:28.107439",
     "exception": false,
     "start_time": "2021-01-16T15:11:27.980967",
     "status": "completed"
    },
    "tags": []
   },
   "outputs": [
    {
     "data": {
      "text/plain": [
       "array(['SKODA', 'AUDI', 'HONDA', 'VOLVO', 'BMW', 'NISSAN', 'INFINITI',\n",
       "       'MERCEDES', 'TOYOTA', 'LEXUS', 'VOLKSWAGEN', 'MITSUBISHI'],\n",
       "      dtype=object)"
      ]
     },
     "execution_count": 35,
     "metadata": {},
     "output_type": "execute_result"
    }
   ],
   "source": [
    "test.brand.unique()"
   ]
  },
  {
   "cell_type": "code",
   "execution_count": 36,
   "metadata": {
    "execution": {
     "iopub.execute_input": "2021-01-16T15:11:28.348579Z",
     "iopub.status.busy": "2021-01-16T15:11:28.347779Z",
     "iopub.status.idle": "2021-01-16T15:11:28.354747Z",
     "shell.execute_reply": "2021-01-16T15:11:28.355370Z"
    },
    "papermill": {
     "duration": 0.134251,
     "end_time": "2021-01-16T15:11:28.355505",
     "exception": false,
     "start_time": "2021-01-16T15:11:28.221254",
     "status": "completed"
    },
    "tags": []
   },
   "outputs": [
    {
     "data": {
      "text/plain": [
       "array(['AUDI', 'BMW', 'CADILLAC', 'CHERY', 'CHEVROLET', 'CHRYSLER',\n",
       "       'CITROEN', 'DAEWOO', 'DODGE', 'FORD', 'GEELY', 'HONDA', 'HYUNDAI',\n",
       "       'INFINITI', 'JAGUAR', 'JEEP', 'KIA', 'LEXUS', 'MAZDA', 'MINI',\n",
       "       'MITSUBISHI', 'NISSAN', 'OPEL', 'PEUGEOT', 'PORSCHE', 'RENAULT',\n",
       "       'SKODA', 'SUBARU', 'SUZUKI', 'TOYOTA', 'VOLKSWAGEN', 'VOLVO',\n",
       "       'GREAT_WALL', 'LAND_ROVER', 'MERCEDES', 'SSANG_YONG'], dtype=object)"
      ]
     },
     "execution_count": 36,
     "metadata": {},
     "output_type": "execute_result"
    }
   ],
   "source": [
    "train.brand.unique()"
   ]
  },
  {
   "cell_type": "code",
   "execution_count": 37,
   "metadata": {
    "execution": {
     "iopub.execute_input": "2021-01-16T15:11:28.610412Z",
     "iopub.status.busy": "2021-01-16T15:11:28.609649Z",
     "iopub.status.idle": "2021-01-16T15:11:28.612755Z",
     "shell.execute_reply": "2021-01-16T15:11:28.613230Z"
    },
    "papermill": {
     "duration": 0.144975,
     "end_time": "2021-01-16T15:11:28.613350",
     "exception": false,
     "start_time": "2021-01-16T15:11:28.468375",
     "status": "completed"
    },
    "tags": []
   },
   "outputs": [
    {
     "data": {
      "text/plain": [
       "set()"
      ]
     },
     "execution_count": 37,
     "metadata": {},
     "output_type": "execute_result"
    }
   ],
   "source": [
    "set(test.brand) - set(train.brand)\n",
    "\n",
    "# Все бренды в тестовой выборке представлены и в трейне"
   ]
  },
  {
   "cell_type": "code",
   "execution_count": 38,
   "metadata": {
    "execution": {
     "iopub.execute_input": "2021-01-16T15:11:28.848622Z",
     "iopub.status.busy": "2021-01-16T15:11:28.847661Z",
     "iopub.status.idle": "2021-01-16T15:11:28.902164Z",
     "shell.execute_reply": "2021-01-16T15:11:28.901651Z"
    },
    "papermill": {
     "duration": 0.175282,
     "end_time": "2021-01-16T15:11:28.902261",
     "exception": false,
     "start_time": "2021-01-16T15:11:28.726979",
     "status": "completed"
    },
    "tags": []
   },
   "outputs": [],
   "source": [
    "# бренды которые нет в тествой выборке считаются за одну общую категорию\n",
    "brands = test.brand.unique().tolist()\n",
    "train['brand'] = train['brand'].apply(lambda x: x if x in brands else 'other')"
   ]
  },
  {
   "cell_type": "code",
   "execution_count": 39,
   "metadata": {
    "execution": {
     "iopub.execute_input": "2021-01-16T15:11:29.143699Z",
     "iopub.status.busy": "2021-01-16T15:11:29.142909Z",
     "iopub.status.idle": "2021-01-16T15:11:29.149275Z",
     "shell.execute_reply": "2021-01-16T15:11:29.149800Z"
    },
    "papermill": {
     "duration": 0.133491,
     "end_time": "2021-01-16T15:11:29.149939",
     "exception": false,
     "start_time": "2021-01-16T15:11:29.016448",
     "status": "completed"
    },
    "tags": []
   },
   "outputs": [
    {
     "data": {
      "text/plain": [
       "array(['AUDI', 'BMW', 'other', 'HONDA', 'INFINITI', 'LEXUS', 'MITSUBISHI',\n",
       "       'NISSAN', 'SKODA', 'TOYOTA', 'VOLKSWAGEN', 'VOLVO', 'MERCEDES'],\n",
       "      dtype=object)"
      ]
     },
     "execution_count": 39,
     "metadata": {},
     "output_type": "execute_result"
    }
   ],
   "source": [
    "train.brand.unique()"
   ]
  },
  {
   "cell_type": "code",
   "execution_count": 40,
   "metadata": {
    "execution": {
     "iopub.execute_input": "2021-01-16T15:11:29.394898Z",
     "iopub.status.busy": "2021-01-16T15:11:29.394103Z",
     "iopub.status.idle": "2021-01-16T15:11:29.404806Z",
     "shell.execute_reply": "2021-01-16T15:11:29.404287Z"
    },
    "papermill": {
     "duration": 0.138696,
     "end_time": "2021-01-16T15:11:29.404906",
     "exception": false,
     "start_time": "2021-01-16T15:11:29.266210",
     "status": "completed"
    },
    "tags": []
   },
   "outputs": [
    {
     "data": {
      "text/plain": [
       "{'AUDI': 1596766.313139365,\n",
       " 'BMW': 2459770.363136548,\n",
       " 'HONDA': 623697.5703470032,\n",
       " 'INFINITI': 1552688.636968085,\n",
       " 'LEXUS': 2138656.5798383993,\n",
       " 'MERCEDES': 4013430.088503883,\n",
       " 'MITSUBISHI': 982999.6480569239,\n",
       " 'NISSAN': 923526.7316188241,\n",
       " 'SKODA': 771849.380247708,\n",
       " 'TOYOTA': 1375494.9660731473,\n",
       " 'VOLKSWAGEN': 1030480.8129595588,\n",
       " 'VOLVO': 1828911.5712227253,\n",
       " 'other': 772832.1786189078}"
      ]
     },
     "execution_count": 40,
     "metadata": {},
     "output_type": "execute_result"
    }
   ],
   "source": [
    "# средняя стоимость машин для каждого бренда\n",
    "brand_price = train.groupby(['brand'])['price'].mean().to_dict()\n",
    "brand_price"
   ]
  },
  {
   "cell_type": "code",
   "execution_count": 41,
   "metadata": {
    "execution": {
     "iopub.execute_input": "2021-01-16T15:11:29.646024Z",
     "iopub.status.busy": "2021-01-16T15:11:29.645228Z",
     "iopub.status.idle": "2021-01-16T15:11:29.707233Z",
     "shell.execute_reply": "2021-01-16T15:11:29.707698Z"
    },
    "papermill": {
     "duration": 0.18757,
     "end_time": "2021-01-16T15:11:29.707830",
     "exception": false,
     "start_time": "2021-01-16T15:11:29.520260",
     "status": "completed"
    },
    "tags": []
   },
   "outputs": [],
   "source": [
    "train['brand_mean'] = train['brand'].apply(lambda x: brand_price[x])\n",
    "test['brand_mean'] = test['brand'].apply(lambda x: brand_price[x])"
   ]
  },
  {
   "cell_type": "markdown",
   "metadata": {
    "papermill": {
     "duration": 0.114743,
     "end_time": "2021-01-16T15:11:29.937253",
     "exception": false,
     "start_time": "2021-01-16T15:11:29.822510",
     "status": "completed"
    },
    "tags": []
   },
   "source": [
    "### color"
   ]
  },
  {
   "cell_type": "code",
   "execution_count": 42,
   "metadata": {
    "execution": {
     "iopub.execute_input": "2021-01-16T15:11:30.175493Z",
     "iopub.status.busy": "2021-01-16T15:11:30.174718Z",
     "iopub.status.idle": "2021-01-16T15:11:30.180969Z",
     "shell.execute_reply": "2021-01-16T15:11:30.180480Z"
    },
    "papermill": {
     "duration": 0.128187,
     "end_time": "2021-01-16T15:11:30.181093",
     "exception": false,
     "start_time": "2021-01-16T15:11:30.052906",
     "status": "completed"
    },
    "tags": []
   },
   "outputs": [
    {
     "data": {
      "text/plain": [
       "array(['синий', 'чёрный', 'серый', 'коричневый', 'белый', 'пурпурный',\n",
       "       'бежевый', 'серебристый', 'красный', 'зелёный', 'жёлтый',\n",
       "       'голубой', 'оранжевый', 'фиолетовый', 'золотистый', 'розовый'],\n",
       "      dtype=object)"
      ]
     },
     "execution_count": 42,
     "metadata": {},
     "output_type": "execute_result"
    }
   ],
   "source": [
    "test.color.unique()"
   ]
  },
  {
   "cell_type": "code",
   "execution_count": 43,
   "metadata": {
    "execution": {
     "iopub.execute_input": "2021-01-16T15:11:30.425504Z",
     "iopub.status.busy": "2021-01-16T15:11:30.424727Z",
     "iopub.status.idle": "2021-01-16T15:11:30.432460Z",
     "shell.execute_reply": "2021-01-16T15:11:30.431859Z"
    },
    "papermill": {
     "duration": 0.136793,
     "end_time": "2021-01-16T15:11:30.432637",
     "exception": false,
     "start_time": "2021-01-16T15:11:30.295844",
     "status": "completed"
    },
    "tags": []
   },
   "outputs": [
    {
     "data": {
      "text/plain": [
       "array(['040001', 'EE1D19', '0000CC', 'CACECB', '007F00', 'FAFBFB',\n",
       "       '97948F', '22A0F8', '660099', '200204', 'C49648', 'DEA522',\n",
       "       '4A2197', 'FFD600', 'FF8649', 'FFC0CB', 'синий', 'чёрный', 'серый',\n",
       "       'белый', 'красный', 'фиолетовый', 'голубой', 'зелёный',\n",
       "       'золотистый', 'жёлтый', 'оранжевый', 'розовый'], dtype=object)"
      ]
     },
     "execution_count": 43,
     "metadata": {},
     "output_type": "execute_result"
    }
   ],
   "source": [
    "train.color.unique()"
   ]
  },
  {
   "cell_type": "code",
   "execution_count": 44,
   "metadata": {
    "execution": {
     "iopub.execute_input": "2021-01-16T15:11:30.694716Z",
     "iopub.status.busy": "2021-01-16T15:11:30.693860Z",
     "iopub.status.idle": "2021-01-16T15:11:30.716428Z",
     "shell.execute_reply": "2021-01-16T15:11:30.715852Z"
    },
    "papermill": {
     "duration": 0.163156,
     "end_time": "2021-01-16T15:11:30.716542",
     "exception": false,
     "start_time": "2021-01-16T15:11:30.553386",
     "status": "completed"
    },
    "tags": []
   },
   "outputs": [
    {
     "data": {
      "text/plain": [
       "array(['чёрный', 'красный', 'синий', 'серебристый', 'зелёный', 'белый',\n",
       "       'серый', 'голубой', 'пурпурный', 'коричневый', 'бежевый',\n",
       "       'золотистый', 'фиолетовый', 'жёлтый', 'оранжевый', 'розовый'],\n",
       "      dtype=object)"
      ]
     },
     "execution_count": 44,
     "metadata": {},
     "output_type": "execute_result"
    }
   ],
   "source": [
    "color_hex_to_name = {'CACECB': 'серебристый', 'FAFBFB':'белый', 'EE1D19':'красный', '97948F':'серый', \n",
    "                     '660099':'пурпурный', '040001':'чёрный','4A2197':'фиолетовый', '200204':'коричневый',\n",
    "                     '0000CC':'синий', '007F00':'зелёный', 'C49648':'бежевый', '22A0F8':'голубой',\n",
    "                     'DEA522':'золотистый','FFD600': 'жёлтый', 'FF8649':'оранжевый','FFC0CB':'розовый',\n",
    "                     'синий' : 'синий', 'чёрный' : 'чёрный', 'серый' : 'серый', 'белый' : 'белый', \n",
    "                     'красный' : 'красный', 'фиолетовый' : 'фиолетовый', 'голубой' : 'голубой', 'зелёный' : 'зелёный',\n",
    "                     'золотистый' : 'золотистый', 'жёлтый' : 'жёлтый', 'оранжевый' : 'оранжевый', 'розовый' : 'розовый'\n",
    "                    }\n",
    "\n",
    "train.color = train.color.map(color_hex_to_name)\n",
    "train.color.unique()"
   ]
  },
  {
   "cell_type": "code",
   "execution_count": 45,
   "metadata": {
    "execution": {
     "iopub.execute_input": "2021-01-16T15:11:30.974813Z",
     "iopub.status.busy": "2021-01-16T15:11:30.974002Z",
     "iopub.status.idle": "2021-01-16T15:11:30.977238Z",
     "shell.execute_reply": "2021-01-16T15:11:30.977828Z"
    },
    "papermill": {
     "duration": 0.145224,
     "end_time": "2021-01-16T15:11:30.977951",
     "exception": false,
     "start_time": "2021-01-16T15:11:30.832727",
     "status": "completed"
    },
    "tags": []
   },
   "outputs": [
    {
     "data": {
      "text/plain": [
       "set()"
      ]
     },
     "execution_count": 45,
     "metadata": {},
     "output_type": "execute_result"
    }
   ],
   "source": [
    "set(test.color) - set(train.color)"
   ]
  },
  {
   "cell_type": "markdown",
   "metadata": {
    "papermill": {
     "duration": 0.117996,
     "end_time": "2021-01-16T15:11:31.213637",
     "exception": false,
     "start_time": "2021-01-16T15:11:31.095641",
     "status": "completed"
    },
    "tags": []
   },
   "source": [
    "### description"
   ]
  },
  {
   "cell_type": "code",
   "execution_count": 46,
   "metadata": {
    "execution": {
     "iopub.execute_input": "2021-01-16T15:11:31.458904Z",
     "iopub.status.busy": "2021-01-16T15:11:31.457619Z",
     "iopub.status.idle": "2021-01-16T15:11:31.459684Z",
     "shell.execute_reply": "2021-01-16T15:11:31.460160Z"
    },
    "papermill": {
     "duration": 0.129856,
     "end_time": "2021-01-16T15:11:31.460281",
     "exception": false,
     "start_time": "2021-01-16T15:11:31.330425",
     "status": "completed"
    },
    "tags": []
   },
   "outputs": [],
   "source": [
    "# train.description = train.description.fillna('nodescription')\n",
    "\n",
    "# vectorizer = CountVectorizer()\n",
    "# desc_vectors = vectorizer.fit_transform(train['description'])\n",
    "# train['desc_mean'] = desc_vectors.mean(axis=1) * 10**3\n",
    "# train['desc_sum'] = desc_vectors.sum(axis=1)\n",
    "\n",
    "# desc_vectors_test = vectorizer.transform(test['description'])\n",
    "# test['desc_mean'] = desc_vectors_test.mean(axis=1) * 10**3\n",
    "# test['desc_sum'] = desc_vectors_test.sum(axis=1)\n",
    "\n",
    "to_delete.append('description')"
   ]
  },
  {
   "cell_type": "markdown",
   "metadata": {
    "papermill": {
     "duration": 0.117608,
     "end_time": "2021-01-16T15:11:31.703112",
     "exception": false,
     "start_time": "2021-01-16T15:11:31.585504",
     "status": "completed"
    },
    "tags": []
   },
   "source": [
    "### engineDisplacement"
   ]
  },
  {
   "cell_type": "code",
   "execution_count": 47,
   "metadata": {
    "execution": {
     "iopub.execute_input": "2021-01-16T15:11:31.943968Z",
     "iopub.status.busy": "2021-01-16T15:11:31.943130Z",
     "iopub.status.idle": "2021-01-16T15:11:31.949107Z",
     "shell.execute_reply": "2021-01-16T15:11:31.948530Z"
    },
    "papermill": {
     "duration": 0.129912,
     "end_time": "2021-01-16T15:11:31.949204",
     "exception": false,
     "start_time": "2021-01-16T15:11:31.819292",
     "status": "completed"
    },
    "tags": []
   },
   "outputs": [
    {
     "data": {
      "text/plain": [
       "array(['1.2 LTR', '1.6 LTR', '1.8 LTR', '2.0 LTR', '1.4 LTR', '1.3 LTR',\n",
       "       '1.0 LTR', '3.6 LTR', '1.5 LTR', '1.9 LTR', '2.8 LTR', '1.1 LTR',\n",
       "       '2.5 LTR', '4.2 LTR', '3.0 LTR', '4.0 LTR', '5.9 LTR', '2.7 LTR',\n",
       "       '3.1 LTR', '2.4 LTR', '5.2 LTR', '3.2 LTR', '4.1 LTR', '6.3 LTR',\n",
       "       '2.3 LTR', '6.0 LTR', '2.2 LTR', '3.7 LTR', '2.9 LTR', '5.0 LTR',\n",
       "       '3.3 LTR', '2.1 LTR', '2.6 LTR', ' LTR', '3.5 LTR', '1.7 LTR',\n",
       "       '0.7 LTR', '4.4 LTR', '4.8 LTR', '5.4 LTR', '6.6 LTR', '4.9 LTR',\n",
       "       '3.8 LTR', '3.4 LTR', '3.9 LTR', '4.6 LTR', '5.6 LTR', '4.5 LTR',\n",
       "       '5.5 LTR', '6.2 LTR', '4.7 LTR', '4.3 LTR', '5.8 LTR', '5.3 LTR',\n",
       "       '5.7 LTR'], dtype=object)"
      ]
     },
     "execution_count": 47,
     "metadata": {},
     "output_type": "execute_result"
    }
   ],
   "source": [
    "test.engineDisplacement.unique()"
   ]
  },
  {
   "cell_type": "code",
   "execution_count": 48,
   "metadata": {
    "execution": {
     "iopub.execute_input": "2021-01-16T15:11:32.208964Z",
     "iopub.status.busy": "2021-01-16T15:11:32.207893Z",
     "iopub.status.idle": "2021-01-16T15:11:32.212266Z",
     "shell.execute_reply": "2021-01-16T15:11:32.212816Z"
    },
    "papermill": {
     "duration": 0.145502,
     "end_time": "2021-01-16T15:11:32.212943",
     "exception": false,
     "start_time": "2021-01-16T15:11:32.067441",
     "status": "completed"
    },
    "tags": []
   },
   "outputs": [
    {
     "data": {
      "text/plain": [
       "array(['2.8', '1.8', '2.3', '2.0', '2.6', '2.2', 'S4', '2.0d', '2.5d',\n",
       "       '1.9', '2.1', '2.4', '1.6', '1.9d', '1.6d', '1.3', '3.3', '1.4',\n",
       "       '1.2d', 'ultra', '1.2', '3.2', '1.5', '8V', '3.1', '16V', '3.0d',\n",
       "       '2.7d', '3.0', '7S-tronic', 'tiptronic', '40', '45', '55', '2.7',\n",
       "       '4.2', 'S-tronic', 'Tiptronic', 'Long', '4.0', '60', '3.9d', '6.0',\n",
       "       '3.7', '4.1d', '35', '8tiptronic', 'clean', '2.0hyb', '3.6',\n",
       "       '5.9d', 'V10', 'V8', '2.5', '2.9', '5.0', '5.2', 'M135i', '116i',\n",
       "       '120i', '118i', '135i', 'M140i', '125i', '120d', '130i', '118d',\n",
       "       '218i', '220i', '220d', 'M235i', '218d', '216d', '335i', '320i',\n",
       "       '318i', '318d', '320d', '316i', '328i', '330i', '325xi', '325i',\n",
       "       '330d', '323i', '340i', '335d', '335xi', '330xi', '316', '315',\n",
       "       '318', 'N46', '420d', '428i', '420i', '435i', '430i', '440i',\n",
       "       '520d', '530d', '525i', '523i', '520i', '530i', '525d', '528i',\n",
       "       '550i', '535d', 'M550i', 'M550d', '540i', '535i', '530xi', '530Li',\n",
       "       '525xi', '518', '520Li', '528Li', '535xi', '545i', '524d', '518i',\n",
       "       '535Li', '530xd', '630i', '640i', '650i', '640d', '630d', '620d',\n",
       "       '635i', '645i', '750d', '740i', '730Ld', '750i', '750Li', '740Li',\n",
       "       '730d', '730i', '740d', '750Ld', '730Li', 'M760Li', '740Ld',\n",
       "       'Active', '760Li', '735i', '745d', '728i', '728Li', '760i', '745i',\n",
       "       '745Li', '735Li', '733i', '725d', 'M850i', '840d', '840i', '850i',\n",
       "       '94Ah', 'Electro', 'S', '0.7hyb', '1.5hyb', 'Competition', '4.4',\n",
       "       '4.9', '18i', '20i', '18d', '20d', '25d', '28i', '23d', '25i',\n",
       "       'sDrive18i', 'xDrive20i', 'xDrive18d', 'xDrive20d', '30d', 'M40d',\n",
       "       '30i', '35i', 'M40i', '35d', 'M50d', '40i', '48i', '3.0sd', '50i',\n",
       "       '3.0i', '40d', 'M50i', '4.4i', '4.8i', '3.0si', '4.8is', '40e',\n",
       "       '4.6is', 'ActiveHybrid', '23i', '35is', '6.2', '4.5', '6.4', '4.6',\n",
       "       '4.1', '8.2', 'ESV', '5.3', '5.7', '7.0', '6-speed', '5-speed',\n",
       "       '1.1', '0.8', '3.4', '4.3', '8.1', '6.2d', 'SS', 'ZL1', '2.2d',\n",
       "       'Stingray', 'Z06', '5.4', '3.8', '1.7', '6.6d', 'Double', '1.0',\n",
       "       'EV', '7.5', '7.4', '6AT', '6.5d', '2.8d', 'EXT', '1.4hyb', 'SRT8',\n",
       "       '3.5', 'Fifth', '6.8', '3.6hyb', 'SWB', 'Grand', '5-doors',\n",
       "       'Донинвест', '1.4d', 'SensoDrive', 'Aircross', 'Triomphe',\n",
       "       'Hydractive', 'CrossTourer', 'XL', '2.1d', 'Best', 'SRT-4', 'R__T',\n",
       "       'Hellcat', 'SRT', '3.9', '4.7', 'Crew', '6.7d', 'SRT-10', '1.8d',\n",
       "       '5.8', '7.3d', '2.3hyb', 'Sport', 'Raptor', 'SVT', 'KAT',\n",
       "       'Electric', 'ST170', 'StreetKa', 'PowerShift', 'ST220', 'Shelby',\n",
       "       '3.2d', 'SHO', 'LWB', 'Type', '0.7', 'Hybrid', 'AMT', 'Shuttle',\n",
       "       'del', 'Spike', '1.3hyb', 'Spada', 'ТагАЗ', '1.5d', 'Prime',\n",
       "       'Limousine', '1.7d', 'Classic', '2.6d', '2.9d', 'EX25', 'EX35',\n",
       "       'EX37', 'FX37', 'FX35', 'FX50', 'FX45', 'FX30d', 'FX', 'G37',\n",
       "       'G35', 'G25', 'G20', 'I30', 'JX35', 'M37', 'M35', 'M56', 'M25',\n",
       "       'M45', 'Q45', '3.5hyb', '5.6', '2.5hyb', 'SVR', 'R', 'TrailHawk',\n",
       "       'Trackhawk', '3.1d', '5.9', 'Trailhawk', '4-speed', '8-speed',\n",
       "       '2.4hyb', 'GT', 'X-Line', '200h', '250', '200', '300', '350',\n",
       "       '330', '300h', '450h', '430', '460', '470', '250h', '200t', '250C',\n",
       "       '400', '600h', '500', '570', '450d', '450', '270', '400h', '350L',\n",
       "       'Brawny', 'S-Wagon', 'Hard', 'Soft', 'John', 'Cooper', 'One',\n",
       "       'Grandis', 'CZ1', 'CZ2', 'Plus', 'CZ3', '2.3d', 'VR-4', 'Easy',\n",
       "       '2.4d', 'Super', 'Cedia', 'PHEV', 'Cubic', '30kWh', '1.2hyb',\n",
       "       '4.2d', '4.8', 'Joy', 'Latio', 'GTC', '1.3d', 'C16NZ', '16LZ2',\n",
       "       'X16SZR', 'CNG', 'GSi', 'Country', 'L', '+', '7', 'Carrera',\n",
       "       'Turbo', '4', '4S', 'RS', '4.6hyb', 'Diesel', 'GTS', 'E-Hybrid',\n",
       "       '2.9hyb', 'Europa', 'Campus', 'Be', 'Stepway', 'RX4', 'Conquest',\n",
       "       '100', 'Scout', 'DSG7', 'DSG', 'ACT', 'tS', 'STi', 'S-Edition',\n",
       "       'XV', 'XL-7', 'US', 'Japan', 'Gracia', 'Prominent', 'GT-Four',\n",
       "       'Fielder', 'Axio', 'Ceres', 'Runx', 'i', 'SF', 'Premio', '1.8hyb',\n",
       "       'Lucida', 'Emina', '3.3hyb', 'Regius', '4.5d', '3.4d', '105',\n",
       "       'Cygnus', '78', '76', '79', '3.5d', '4.0d', '3.6d', 'Arctic',\n",
       "       'Noah', 'Qualis', 'JDM', 'CrewMax', 'Ardeo', 'Multimode',\n",
       "       'full-time', 'part-time', 'Maxi', 'BiFuel', 'Alltrack', 'EcoFuel',\n",
       "       '4MOTION', 'e-Golf', 'VR6', 'GTI\"35\"', '5-Seater', '4-Seater',\n",
       "       '4.9d', 'Cross', 'Allspace', '3.0hyb', 'Syncro', 'T-5R', 'Bi-Fuel',\n",
       "       'XC', 'G3', 'G5', 'G1', '110', '130', 'Base', '90', 'Ingenium',\n",
       "       'Supercharged', '4.4d', '9-speed', 'HST', '180', '160', '150',\n",
       "       '170', '220', '140', '210', 'C', '63', '53', '43', '230', '240',\n",
       "       '280', '320', '109', '550', '600', '420', '65', 'All-Terrain',\n",
       "       '290', '50', 'Brabus', '560', '650', 'Pullman', '380', '260', 'L1',\n",
       "       'L3', 'L2', 'Marco', '121', '113', '111', '119', '114', '112',\n",
       "       '108', '115', '116', 'Sports', 2.0, 2.5, 2.4, 1.6, 1.8, 3.0, 4.7,\n",
       "       2.9, 3.5, 1.3, 2.1, 1.9, 1.7, 1.2, 4.0, 2.7, 3.2, 3.1, 1.4, 2.8,\n",
       "       4.4, 1.5, 4.5, 2.3, 0.7, 3.6, 5.7, 4.2, 5.5, 5.0, 4.9, 5.6, 0.0,\n",
       "       6.6, 1.0, 3.7, 5.9, 2.6, 3.3, 3.4, 4.8, 0.6, 4.1, 6.0, 4.6, 2.2,\n",
       "       6.3, 3.8, 1.1, 6.2, 5.4, 5.2, 4.3, 3.9, 5.8, 5.3], dtype=object)"
      ]
     },
     "execution_count": 48,
     "metadata": {},
     "output_type": "execute_result"
    }
   ],
   "source": [
    "train.engineDisplacement.unique()"
   ]
  },
  {
   "cell_type": "code",
   "execution_count": 49,
   "metadata": {
    "execution": {
     "iopub.execute_input": "2021-01-16T15:11:32.518607Z",
     "iopub.status.busy": "2021-01-16T15:11:32.517545Z",
     "iopub.status.idle": "2021-01-16T15:11:32.519470Z",
     "shell.execute_reply": "2021-01-16T15:11:32.520278Z"
    },
    "papermill": {
     "duration": 0.189006,
     "end_time": "2021-01-16T15:11:32.520466",
     "exception": false,
     "start_time": "2021-01-16T15:11:32.331460",
     "status": "completed"
    },
    "tags": []
   },
   "outputs": [],
   "source": [
    "to_delete += ['engineDisplacement']"
   ]
  },
  {
   "cell_type": "markdown",
   "metadata": {
    "papermill": {
     "duration": 0.175916,
     "end_time": "2021-01-16T15:11:32.876716",
     "exception": false,
     "start_time": "2021-01-16T15:11:32.700800",
     "status": "completed"
    },
    "tags": []
   },
   "source": [
    "### enginePower"
   ]
  },
  {
   "cell_type": "code",
   "execution_count": 50,
   "metadata": {
    "execution": {
     "iopub.execute_input": "2021-01-16T15:11:33.169452Z",
     "iopub.status.busy": "2021-01-16T15:11:33.168638Z",
     "iopub.status.idle": "2021-01-16T15:11:33.175214Z",
     "shell.execute_reply": "2021-01-16T15:11:33.174747Z"
    },
    "papermill": {
     "duration": 0.138947,
     "end_time": "2021-01-16T15:11:33.175314",
     "exception": false,
     "start_time": "2021-01-16T15:11:33.036367",
     "status": "completed"
    },
    "tags": []
   },
   "outputs": [
    {
     "data": {
      "text/plain": [
       "array(['105 N12', '110 N12', '152 N12', '200 N12', '102 N12', '150 N12',\n",
       "       '90 N12', '180 N12', '220 N12', '122 N12', '70 N12', '140 N12',\n",
       "       '125 N12', '54 N12', '86 N12', '75 N12', '64 N12', '95 N12',\n",
       "       '260 N12', '170 N12', '80 N12', '68 N12', '160 N12', '115 N12',\n",
       "       '280 N12', '53 N12', '60 N12', '143 N12', '42 N12', '101 N12',\n",
       "       '58 N12', '193 N12', '79 N12', '30 N12', '100 N12', '50 N12',\n",
       "       '163 N12', '225 N12', '420 N12', '211 N12', '245 N12', '560 N12',\n",
       "       '500 N12', '249 N12', '450 N12', '605 N12', '250 N12', '354 N12',\n",
       "       '120 N12', '290 N12', '230 N12', '350 N12', '204 N12', '255 N12',\n",
       "       '340 N12', '177 N12', '272 N12', '372 N12', '210 N12', '130 N12',\n",
       "       '300 N12', '190 N12', '239 N12', '435 N12', '333 N12', '271 N12',\n",
       "       '326 N12', '238 N12', '310 N12', '233 N12', '252 N12', '133 N12',\n",
       "       '460 N12', '520 N12', '400 N12', '525 N12', '367 N12', '265 N12',\n",
       "       '550 N12', '580 N12', '88 N12', '165 N12', '430 N12', '335 N12',\n",
       "       '174 N12', '224 N12', '136 N12', '256 N12', '338 N12', '112 N12',\n",
       "       '218 N12', '360 N12', '93 N12', '182 N12', '113 N12', '240 N12',\n",
       "       '270 N12', '137 N12', '155 N12', '61 N12', '254 N12', '116 N12',\n",
       "       '71 N12', '285 N12', '408 N12', '166 N12', '156 N12', '257 N12',\n",
       "       '201 N12', '162 N12', '194 N12', '142 N12', '154 N12', '147 N12',\n",
       "       '281 N12', '243 N12', '118 N12', '128 N12', '91 N12', '83 N12',\n",
       "       '205 N12', '247 N12', '188 N12', '295 N12', '275 N12', '78 N12',\n",
       "       '109 N12', '94 N12', '185 N12', '258 N12', '145 N12', '132 N12',\n",
       "       '135 N12', '52 N12', '66 N12', '124 N12', '98 N12', '215 N12',\n",
       "       '158 N12', '99 N12', '103 N12', '131 N12', '126 N12', '235 N12',\n",
       "       '181 N12', '315 N12', '203 N12', '231 N12', '82 N12', '304 N12',\n",
       "       '175 N12', '320 N12', '213 N12', '144 N12', '146 N12', '151 N12',\n",
       "       '111 N12', '286 N12', '306 N12', '107 N12', '184 N12', '313 N12',\n",
       "       '264 N12', '575 N12', '407 N12', '192 N12', '129 N12', '555 N12',\n",
       "       '625 N12', '329 N12', '370 N12', '381 N12', '269 N12', '600 N12',\n",
       "       '510 N12', '544 N12', '462 N12', '355 N12', '507 N12', '609 N12',\n",
       "       '431 N12', '530 N12', '387 N12', '610 N12', '197 N12', '343 N12',\n",
       "       '445 N12', '171 N12', '51 N12', '46 N12', '347 N12', '321 N12',\n",
       "       '167 N12', '141 N12', '169 N12', '405 N12', '117 N12', '114 N12',\n",
       "       '173 N12', '234 N12', '540 N12', '106 N12', '49 N12', '248 N12',\n",
       "       '317 N12', '309 N12', '97 N12', '121 N12', '268 N12', '149 N12',\n",
       "       '87 N12', '85 N12', '65 N12', '67 N12', '127 N12', '485 N12',\n",
       "       '186 N12', '222 N12', '307 N12', '262 N12', '302 N12', '284 N12',\n",
       "       '325 N12', '168 N12', '221 N12', '330 N12', '283 N12', '328 N12',\n",
       "       '303 N12', '278 N12', '388 N12', '571 N12', '585 N12', '612 N12',\n",
       "       '401 N12', '279 N12', '455 N12', '382 N12', '557 N12', '517 N12',\n",
       "       '394 N12', '422 N12', '292 N12', '469 N12', '522 N12', '296 N12',\n",
       "       '639 N12', '390 N12', '476 N12', '630 N12', '402 N12', '487 N12',\n",
       "       '558 N12', '421 N12', '316 N12', '514 N12', '457 N12', '626 N12',\n",
       "       '242 N12', '38 N12', '32 N12', '223 N12', '72 N12', '305 N12',\n",
       "       '183 N12', '273 N12', '159 N12', '76 N12', '148 N12', '179 N12',\n",
       "       '73 N12', '277 N12', '282 N12', '178 N12', '288 N12', '199 N12',\n",
       "       '266 N12', '92 N12', '74 N12', '324 N12', '232 N12', '157 N12',\n",
       "       '69 N12', '212 N12', '276 N12', '202 N12', '77 N12', '164 N12',\n",
       "       '96 N12', '84 N12', '228 N12', '108 N12', '208 N12', '263 N12',\n",
       "       '294 N12', '318 N12', '380 N12', '219 N12', '214 N12', '383 N12',\n",
       "       '241 N12', '57 N12', '55 N12', '104 N12', '48 N12', '40 N12',\n",
       "       '44 N12', '227 N12', '139 N12', '209 N12', '195 N12', '189 N12',\n",
       "       '480 N12', '591 N12', '301 N12'], dtype=object)"
      ]
     },
     "execution_count": 50,
     "metadata": {},
     "output_type": "execute_result"
    }
   ],
   "source": [
    "test.enginePower.unique()"
   ]
  },
  {
   "cell_type": "code",
   "execution_count": 51,
   "metadata": {
    "execution": {
     "iopub.execute_input": "2021-01-16T15:11:33.419331Z",
     "iopub.status.busy": "2021-01-16T15:11:33.418563Z",
     "iopub.status.idle": "2021-01-16T15:11:33.430867Z",
     "shell.execute_reply": "2021-01-16T15:11:33.430273Z"
    },
    "papermill": {
     "duration": 0.136109,
     "end_time": "2021-01-16T15:11:33.430967",
     "exception": false,
     "start_time": "2021-01-16T15:11:33.294858",
     "status": "completed"
    },
    "tags": []
   },
   "outputs": [
    {
     "data": {
      "text/plain": [
       "array([174.,  90., 136., 101., 133., 150., 115., 137., 112., 230.,  70.,\n",
       "        88., 100.,  75., 165., 182., 170., 113.,  80.,  54.,  60.,  71.,\n",
       "       122., 125.,  61., 102., 190., 180., 160., 105., 140., 110., 250.,\n",
       "       200., 130., 120., 225., 163., 211., 249., 255., 143., 220., 239.,\n",
       "       265., 116., 193., 177., 240., 245., 204., 340., 300., 233., 310.,\n",
       "       218., 210., 290., 333., 335., 224., 350., 155., 254., 338., 435.,\n",
       "       372., 460., 275., 500., 260., 450., 420., 280., 326., 285., 408.,\n",
       "       271., 272., 270., 238., 252., 610., 525., 430., 367., 605., 560.,\n",
       "       580., 256., 354., 571., 360., 520., 400., 156., 306., 320., 184.,\n",
       "       129., 258., 231., 118., 192., 286.,  98., 234., 171.,  46.,  51.,\n",
       "       407., 530., 313., 235., 381., 462., 197., 109., 609., 544., 445.,\n",
       "       329., 188., 370., 410., 431., 343., 507., 600., 625., 510., 355.,\n",
       "       269., 264., 347., 555., 575., 321., 276., 226., 175., 203., 311.,\n",
       "       215., 322., 309., 185., 564., 330., 304., 409., 426., 349., 299.,\n",
       "       158., 305., 135., 324., 318., 325., 314.,  94., 126., 119.,  83.,\n",
       "       117.,  68.,  52., 132., 106., 147., 139., 152., 141., 295.,  72.,\n",
       "        84.,  86., 162., 161., 455., 589., 405., 312., 279., 172., 167.,\n",
       "       466., 495., 513., 282., 437., 213., 365., 124., 145., 131., 301.,\n",
       "       323., 294., 149., 345., 121., 315., 403., 288.,  67.,  63., 359.,\n",
       "       273., 396., 425., 253., 164., 237., 228., 154., 257., 214., 287.,\n",
       "       248., 223., 189., 283.,  95.,  82., 114., 138., 127., 207., 178.,\n",
       "        92., 128.,  69.,  38.,  85., 107., 142., 148.,  64.,  41., 173.,\n",
       "       251., 166., 144., 380., 717., 492., 205., 103., 395., 702., 470.,\n",
       "        99., 123., 208., 212., 242., 411., 375., 385.,  96.,  58., 111.,\n",
       "       181., 199.,  40.,  20., 421., 317., 526., 662., 412.,  87.,  66.,\n",
       "       157., 201., 281.,  53.,  44.,  91., 186., 194.,  78.,  50.,  65.,\n",
       "       284., 243., 247.,  93.,  97.,  56., 334., 373.,  81.,  77., 179.,\n",
       "       146., 198., 222., 302., 307., 328., 303., 278., 221., 168., 262.,\n",
       "       550., 196., 298., 416., 268., 363., 468., 352., 241., 202., 169.,\n",
       "       274., 187., 266., 159.,  62.,  73., 424., 108., 195., 261., 277.,\n",
       "       296., 219., 292., 263., 394., 388., 383., 477., 104., 244., 153.,\n",
       "        48., 227., 209.,  79.,  49., 540., 485.,  45.,  55.,  89., 480.,\n",
       "       475., 608., 382., 440., 570., 521., 761., 680.,  76.,  17.,  11.,\n",
       "        42.,  30.,  74., 151., 232., 183., 236.,  57., 134., 565., 339.,\n",
       "       390., 476., 557., 639., 585., 457., 487., 517., 612., 402., 514.,\n",
       "       401., 422., 700., 800., 558., 469., 630.,  32., 316., 626., 591.,\n",
       "       344., 387., 374., 522.])"
      ]
     },
     "execution_count": 51,
     "metadata": {},
     "output_type": "execute_result"
    }
   ],
   "source": [
    "train.enginePower.unique()"
   ]
  },
  {
   "cell_type": "code",
   "execution_count": 52,
   "metadata": {
    "execution": {
     "iopub.execute_input": "2021-01-16T15:11:33.689030Z",
     "iopub.status.busy": "2021-01-16T15:11:33.684000Z",
     "iopub.status.idle": "2021-01-16T15:11:33.707809Z",
     "shell.execute_reply": "2021-01-16T15:11:33.708334Z"
    },
    "papermill": {
     "duration": 0.155116,
     "end_time": "2021-01-16T15:11:33.708457",
     "exception": false,
     "start_time": "2021-01-16T15:11:33.553341",
     "status": "completed"
    },
    "tags": []
   },
   "outputs": [],
   "source": [
    "test.enginePower = test.enginePower.apply(lambda x: x[:-4])\n",
    "test.enginePower = test.enginePower.astype('float')"
   ]
  },
  {
   "cell_type": "markdown",
   "metadata": {
    "papermill": {
     "duration": 0.119399,
     "end_time": "2021-01-16T15:11:33.947082",
     "exception": false,
     "start_time": "2021-01-16T15:11:33.827683",
     "status": "completed"
    },
    "tags": []
   },
   "source": [
    "### fuelType"
   ]
  },
  {
   "cell_type": "code",
   "execution_count": 53,
   "metadata": {
    "execution": {
     "iopub.execute_input": "2021-01-16T15:11:34.195481Z",
     "iopub.status.busy": "2021-01-16T15:11:34.194640Z",
     "iopub.status.idle": "2021-01-16T15:11:34.200051Z",
     "shell.execute_reply": "2021-01-16T15:11:34.199581Z"
    },
    "papermill": {
     "duration": 0.131345,
     "end_time": "2021-01-16T15:11:34.200151",
     "exception": false,
     "start_time": "2021-01-16T15:11:34.068806",
     "status": "completed"
    },
    "tags": []
   },
   "outputs": [
    {
     "data": {
      "text/plain": [
       "array(['бензин', 'дизель', 'гибрид', 'электро', 'газ'], dtype=object)"
      ]
     },
     "execution_count": 53,
     "metadata": {},
     "output_type": "execute_result"
    }
   ],
   "source": [
    "test.fuelType.unique()"
   ]
  },
  {
   "cell_type": "code",
   "execution_count": 54,
   "metadata": {
    "execution": {
     "iopub.execute_input": "2021-01-16T15:11:34.455814Z",
     "iopub.status.busy": "2021-01-16T15:11:34.455036Z",
     "iopub.status.idle": "2021-01-16T15:11:34.462865Z",
     "shell.execute_reply": "2021-01-16T15:11:34.462347Z"
    },
    "papermill": {
     "duration": 0.142327,
     "end_time": "2021-01-16T15:11:34.462971",
     "exception": false,
     "start_time": "2021-01-16T15:11:34.320644",
     "status": "completed"
    },
    "tags": []
   },
   "outputs": [
    {
     "data": {
      "text/plain": [
       "array(['бензин', 'дизель', 'электро', 'гибрид', 'газ'], dtype=object)"
      ]
     },
     "execution_count": 54,
     "metadata": {},
     "output_type": "execute_result"
    }
   ],
   "source": [
    "train.fuelType.unique()"
   ]
  },
  {
   "cell_type": "markdown",
   "metadata": {
    "papermill": {
     "duration": 0.120543,
     "end_time": "2021-01-16T15:11:34.707333",
     "exception": false,
     "start_time": "2021-01-16T15:11:34.586790",
     "status": "completed"
    },
    "tags": []
   },
   "source": [
    "### mileage"
   ]
  },
  {
   "cell_type": "code",
   "execution_count": 55,
   "metadata": {
    "execution": {
     "iopub.execute_input": "2021-01-16T15:11:34.953651Z",
     "iopub.status.busy": "2021-01-16T15:11:34.952892Z",
     "iopub.status.idle": "2021-01-16T15:11:35.191724Z",
     "shell.execute_reply": "2021-01-16T15:11:35.192249Z"
    },
    "papermill": {
     "duration": 0.364687,
     "end_time": "2021-01-16T15:11:35.192385",
     "exception": false,
     "start_time": "2021-01-16T15:11:34.827698",
     "status": "completed"
    },
    "tags": []
   },
   "outputs": [
    {
     "data": {
      "image/png": "[encoded data removed]",
      "text/plain": [
       "<Figure size 432x288 with 1 Axes>"
      ]
     },
     "metadata": {
      "needs_background": "light"
     },
     "output_type": "display_data"
    }
   ],
   "source": [
    "test.mileage.hist();"
   ]
  },
  {
   "cell_type": "code",
   "execution_count": 56,
   "metadata": {
    "execution": {
     "iopub.execute_input": "2021-01-16T15:11:35.450012Z",
     "iopub.status.busy": "2021-01-16T15:11:35.449104Z",
     "iopub.status.idle": "2021-01-16T15:11:35.604288Z",
     "shell.execute_reply": "2021-01-16T15:11:35.605024Z"
    },
    "papermill": {
     "duration": 0.288724,
     "end_time": "2021-01-16T15:11:35.605183",
     "exception": false,
     "start_time": "2021-01-16T15:11:35.316459",
     "status": "completed"
    },
    "tags": []
   },
   "outputs": [
    {
     "data": {
      "image/png": "[encoded data removed]",
      "text/plain": [
       "<Figure size 432x288 with 1 Axes>"
      ]
     },
     "metadata": {
      "needs_background": "light"
     },
     "output_type": "display_data"
    }
   ],
   "source": [
    "train.mileage.hist();"
   ]
  },
  {
   "cell_type": "code",
   "execution_count": 57,
   "metadata": {
    "execution": {
     "iopub.execute_input": "2021-01-16T15:11:35.863589Z",
     "iopub.status.busy": "2021-01-16T15:11:35.862699Z",
     "iopub.status.idle": "2021-01-16T15:11:35.868479Z",
     "shell.execute_reply": "2021-01-16T15:11:35.867935Z"
    },
    "papermill": {
     "duration": 0.133454,
     "end_time": "2021-01-16T15:11:35.868621",
     "exception": false,
     "start_time": "2021-01-16T15:11:35.735167",
     "status": "completed"
    },
    "tags": []
   },
   "outputs": [],
   "source": [
    "train['mil_per_year'] = train.mileage / (2021 - train.productionDate)\n",
    "test['mil_per_year'] = test.mileage / (2021 - test.productionDate)"
   ]
  },
  {
   "cell_type": "markdown",
   "metadata": {
    "papermill": {
     "duration": 0.124201,
     "end_time": "2021-01-16T15:11:36.115194",
     "exception": false,
     "start_time": "2021-01-16T15:11:35.990993",
     "status": "completed"
    },
    "tags": []
   },
   "source": [
    "### modelDate"
   ]
  },
  {
   "cell_type": "code",
   "execution_count": 58,
   "metadata": {
    "execution": {
     "iopub.execute_input": "2021-01-16T15:11:36.365782Z",
     "iopub.status.busy": "2021-01-16T15:11:36.364878Z",
     "iopub.status.idle": "2021-01-16T15:11:36.370770Z",
     "shell.execute_reply": "2021-01-16T15:11:36.370140Z"
    },
    "papermill": {
     "duration": 0.13292,
     "end_time": "2021-01-16T15:11:36.370878",
     "exception": false,
     "start_time": "2021-01-16T15:11:36.237958",
     "status": "completed"
    },
    "tags": []
   },
   "outputs": [
    {
     "data": {
      "text/plain": [
       "array([2013, 2017, 2008, 2009, 2016, 2012, 2015, 2010, 2006, 2000, 2007,\n",
       "       1994, 2004, 1999, 2005, 1976, 2001, 1969, 1996, 1998, 1989, 1934,\n",
       "       2014, 2011, 2018, 1986, 1997, 1990, 2019, 2002, 1991, 1987, 1980,\n",
       "       1982, 1938, 1988, 2003, 1983, 1978, 1979, 1984, 1992, 1995, 1993,\n",
       "       1985, 1974, 1966, 1977, 1981, 1972, 1968, 1975, 1949, 1937, 1936,\n",
       "       1973, 1959, 1958, 2020, 1965, 1971, 1904, 1963, 1955, 1951, 1960])"
      ]
     },
     "execution_count": 58,
     "metadata": {},
     "output_type": "execute_result"
    }
   ],
   "source": [
    "test.modelDate.unique()"
   ]
  },
  {
   "cell_type": "code",
   "execution_count": 59,
   "metadata": {
    "execution": {
     "iopub.execute_input": "2021-01-16T15:11:36.628933Z",
     "iopub.status.busy": "2021-01-16T15:11:36.627996Z",
     "iopub.status.idle": "2021-01-16T15:11:36.638082Z",
     "shell.execute_reply": "2021-01-16T15:11:36.638572Z"
    },
    "papermill": {
     "duration": 0.14321,
     "end_time": "2021-01-16T15:11:36.638701",
     "exception": false,
     "start_time": "2021-01-16T15:11:36.495491",
     "status": "completed"
    },
    "tags": []
   },
   "outputs": [
    {
     "data": {
      "text/plain": [
       "count    34686.000000\n",
       "mean      2007.074728\n",
       "std          7.415894\n",
       "min       1904.000000\n",
       "25%       2004.000000\n",
       "50%       2008.000000\n",
       "75%       2012.000000\n",
       "max       2020.000000\n",
       "Name: modelDate, dtype: float64"
      ]
     },
     "execution_count": 59,
     "metadata": {},
     "output_type": "execute_result"
    }
   ],
   "source": [
    "test.modelDate.describe()"
   ]
  },
  {
   "cell_type": "code",
   "execution_count": 60,
   "metadata": {
    "execution": {
     "iopub.execute_input": "2021-01-16T15:11:36.890641Z",
     "iopub.status.busy": "2021-01-16T15:11:36.889722Z",
     "iopub.status.idle": "2021-01-16T15:11:36.900789Z",
     "shell.execute_reply": "2021-01-16T15:11:36.900298Z"
    },
    "papermill": {
     "duration": 0.139183,
     "end_time": "2021-01-16T15:11:36.900891",
     "exception": false,
     "start_time": "2021-01-16T15:11:36.761708",
     "status": "completed"
    },
    "tags": []
   },
   "outputs": [
    {
     "data": {
      "text/plain": [
       "count    125587.000000\n",
       "mean       2008.828119\n",
       "std           7.486112\n",
       "min        1904.000000\n",
       "25%        2005.000000\n",
       "50%        2010.000000\n",
       "75%        2015.000000\n",
       "max        2020.000000\n",
       "Name: modelDate, dtype: float64"
      ]
     },
     "execution_count": 60,
     "metadata": {},
     "output_type": "execute_result"
    }
   ],
   "source": [
    "train.modelDate.describe()"
   ]
  },
  {
   "cell_type": "markdown",
   "metadata": {
    "papermill": {
     "duration": 0.125276,
     "end_time": "2021-01-16T15:11:37.150315",
     "exception": false,
     "start_time": "2021-01-16T15:11:37.025039",
     "status": "completed"
    },
    "tags": []
   },
   "source": [
    "### model_name"
   ]
  },
  {
   "cell_type": "code",
   "execution_count": 61,
   "metadata": {
    "execution": {
     "iopub.execute_input": "2021-01-16T15:11:37.466456Z",
     "iopub.status.busy": "2021-01-16T15:11:37.444625Z",
     "iopub.status.idle": "2021-01-16T15:11:37.470924Z",
     "shell.execute_reply": "2021-01-16T15:11:37.470274Z"
    },
    "papermill": {
     "duration": 0.19289,
     "end_time": "2021-01-16T15:11:37.471036",
     "exception": false,
     "start_time": "2021-01-16T15:11:37.278146",
     "status": "completed"
    },
    "tags": []
   },
   "outputs": [
    {
     "data": {
      "text/plain": [
       "{'ARTEON',\n",
       " 'COROLLA_II',\n",
       " 'GOLF_R32',\n",
       " 'LANCER_RALLIART',\n",
       " 'POLO_GTI',\n",
       " 'PORTE',\n",
       " 'PRESEA',\n",
       " 'RSQ3',\n",
       " 'WILL_CYPHA',\n",
       " 'X4_M'}"
      ]
     },
     "execution_count": 61,
     "metadata": {},
     "output_type": "execute_result"
    }
   ],
   "source": [
    "set(test.model_name) - set(train.model_name)"
   ]
  },
  {
   "cell_type": "code",
   "execution_count": 62,
   "metadata": {
    "execution": {
     "iopub.execute_input": "2021-01-16T15:11:37.747006Z",
     "iopub.status.busy": "2021-01-16T15:11:37.746136Z",
     "iopub.status.idle": "2021-01-16T15:11:37.763095Z",
     "shell.execute_reply": "2021-01-16T15:11:37.763926Z"
    },
    "papermill": {
     "duration": 0.152135,
     "end_time": "2021-01-16T15:11:37.764098",
     "exception": false,
     "start_time": "2021-01-16T15:11:37.611963",
     "status": "completed"
    },
    "tags": []
   },
   "outputs": [
    {
     "name": "stdout",
     "output_type": "stream",
     "text": [
      "544 1278\n"
     ]
    }
   ],
   "source": [
    "print(test.model_name.nunique(), train.model_name.nunique())"
   ]
  },
  {
   "cell_type": "code",
   "execution_count": 63,
   "metadata": {
    "execution": {
     "iopub.execute_input": "2021-01-16T15:11:38.024157Z",
     "iopub.status.busy": "2021-01-16T15:11:38.023273Z",
     "iopub.status.idle": "2021-01-16T15:11:38.027358Z",
     "shell.execute_reply": "2021-01-16T15:11:38.026578Z"
    },
    "papermill": {
     "duration": 0.135805,
     "end_time": "2021-01-16T15:11:38.027494",
     "exception": false,
     "start_time": "2021-01-16T15:11:37.891689",
     "status": "completed"
    },
    "tags": []
   },
   "outputs": [],
   "source": [
    "# to_delete.append('model_name')\n",
    "# удаление признака не улучшило метрику"
   ]
  },
  {
   "cell_type": "markdown",
   "metadata": {
    "papermill": {
     "duration": 0.132602,
     "end_time": "2021-01-16T15:11:38.289093",
     "exception": false,
     "start_time": "2021-01-16T15:11:38.156491",
     "status": "completed"
    },
    "tags": []
   },
   "source": [
    "### name"
   ]
  },
  {
   "cell_type": "code",
   "execution_count": 64,
   "metadata": {
    "execution": {
     "iopub.execute_input": "2021-01-16T15:11:38.555665Z",
     "iopub.status.busy": "2021-01-16T15:11:38.554869Z",
     "iopub.status.idle": "2021-01-16T15:11:38.558214Z",
     "shell.execute_reply": "2021-01-16T15:11:38.558664Z"
    },
    "papermill": {
     "duration": 0.141196,
     "end_time": "2021-01-16T15:11:38.558796",
     "exception": false,
     "start_time": "2021-01-16T15:11:38.417600",
     "status": "completed"
    },
    "tags": []
   },
   "outputs": [
    {
     "data": {
      "text/plain": [
       "0        1.2 AMT (105 л.с.)\n",
       "1         1.6 MT (110 л.с.)\n",
       "2    DSG 1.8 AMT (152 л.с.)\n",
       "3         1.6 AT (110 л.с.)\n",
       "4         1.8 AT (152 л.с.)\n",
       "Name: name, dtype: object"
      ]
     },
     "execution_count": 64,
     "metadata": {},
     "output_type": "execute_result"
    }
   ],
   "source": [
    "test.name.head()"
   ]
  },
  {
   "cell_type": "code",
   "execution_count": 65,
   "metadata": {
    "execution": {
     "iopub.execute_input": "2021-01-16T15:11:38.856624Z",
     "iopub.status.busy": "2021-01-16T15:11:38.855731Z",
     "iopub.status.idle": "2021-01-16T15:11:38.858945Z",
     "shell.execute_reply": "2021-01-16T15:11:38.859427Z"
    },
    "papermill": {
     "duration": 0.138396,
     "end_time": "2021-01-16T15:11:38.859565",
     "exception": false,
     "start_time": "2021-01-16T15:11:38.721169",
     "status": "completed"
    },
    "tags": []
   },
   "outputs": [
    {
     "data": {
      "text/plain": [
       "0    2.8 MT (174 л.с.) 4WD\n",
       "1         1.8 MT (90 л.с.)\n",
       "2    2.3 MT (136 л.с.) 4WD\n",
       "3         1.8 MT (90 л.с.)\n",
       "4        2.0 MT (101 л.с.)\n",
       "Name: name, dtype: object"
      ]
     },
     "execution_count": 65,
     "metadata": {},
     "output_type": "execute_result"
    }
   ],
   "source": [
    "train.name.head()"
   ]
  },
  {
   "cell_type": "code",
   "execution_count": 66,
   "metadata": {
    "execution": {
     "iopub.execute_input": "2021-01-16T15:11:39.122016Z",
     "iopub.status.busy": "2021-01-16T15:11:39.121199Z",
     "iopub.status.idle": "2021-01-16T15:11:39.124402Z",
     "shell.execute_reply": "2021-01-16T15:11:39.123767Z"
    },
    "papermill": {
     "duration": 0.136476,
     "end_time": "2021-01-16T15:11:39.124534",
     "exception": false,
     "start_time": "2021-01-16T15:11:38.988058",
     "status": "completed"
    },
    "tags": []
   },
   "outputs": [],
   "source": [
    "# def name_prep(name):\n",
    "#     idx = str(name).find('л.с.')\n",
    "#     if idx == -1:\n",
    "#         return 100\n",
    "#     new = name[idx - 6 : idx]\n",
    "#     new = ''.join(c for c in new if c.isdigit())\n",
    "#     return np.int64(new)\n",
    "\n",
    "# train.name = train.name.apply(name_prep)\n",
    "# test.name = test.name.apply(name_prep)"
   ]
  },
  {
   "cell_type": "code",
   "execution_count": 67,
   "metadata": {
    "execution": {
     "iopub.execute_input": "2021-01-16T15:11:39.388155Z",
     "iopub.status.busy": "2021-01-16T15:11:39.387318Z",
     "iopub.status.idle": "2021-01-16T15:11:39.389904Z",
     "shell.execute_reply": "2021-01-16T15:11:39.390471Z"
    },
    "papermill": {
     "duration": 0.136605,
     "end_time": "2021-01-16T15:11:39.390634",
     "exception": false,
     "start_time": "2021-01-16T15:11:39.254029",
     "status": "completed"
    },
    "tags": []
   },
   "outputs": [],
   "source": [
    "to_delete.append('name')\n",
    "# это комбинация других признаков, удаление признака улучшило метрику"
   ]
  },
  {
   "cell_type": "markdown",
   "metadata": {
    "papermill": {
     "duration": 0.133156,
     "end_time": "2021-01-16T15:11:39.653642",
     "exception": false,
     "start_time": "2021-01-16T15:11:39.520486",
     "status": "completed"
    },
    "tags": []
   },
   "source": [
    "### numberOfDoors"
   ]
  },
  {
   "cell_type": "code",
   "execution_count": 68,
   "metadata": {
    "execution": {
     "iopub.execute_input": "2021-01-16T15:11:39.919084Z",
     "iopub.status.busy": "2021-01-16T15:11:39.918183Z",
     "iopub.status.idle": "2021-01-16T15:11:39.923208Z",
     "shell.execute_reply": "2021-01-16T15:11:39.922612Z"
    },
    "papermill": {
     "duration": 0.138732,
     "end_time": "2021-01-16T15:11:39.923304",
     "exception": false,
     "start_time": "2021-01-16T15:11:39.784572",
     "status": "completed"
    },
    "tags": []
   },
   "outputs": [
    {
     "data": {
      "text/plain": [
       "array([5, 4, 2, 3, 0])"
      ]
     },
     "execution_count": 68,
     "metadata": {},
     "output_type": "execute_result"
    }
   ],
   "source": [
    "test.numberOfDoors.unique()"
   ]
  },
  {
   "cell_type": "code",
   "execution_count": 69,
   "metadata": {
    "execution": {
     "iopub.execute_input": "2021-01-16T15:11:40.187676Z",
     "iopub.status.busy": "2021-01-16T15:11:40.186860Z",
     "iopub.status.idle": "2021-01-16T15:11:40.193566Z",
     "shell.execute_reply": "2021-01-16T15:11:40.192963Z"
    },
    "papermill": {
     "duration": 0.140592,
     "end_time": "2021-01-16T15:11:40.193668",
     "exception": false,
     "start_time": "2021-01-16T15:11:40.053076",
     "status": "completed"
    },
    "tags": []
   },
   "outputs": [
    {
     "data": {
      "text/plain": [
       "array([4., 5., 3., 2., 0.])"
      ]
     },
     "execution_count": 69,
     "metadata": {},
     "output_type": "execute_result"
    }
   ],
   "source": [
    "train.numberOfDoors.unique()"
   ]
  },
  {
   "cell_type": "markdown",
   "metadata": {
    "papermill": {
     "duration": 0.131359,
     "end_time": "2021-01-16T15:11:40.456167",
     "exception": false,
     "start_time": "2021-01-16T15:11:40.324808",
     "status": "completed"
    },
    "tags": []
   },
   "source": [
    "### productionDate"
   ]
  },
  {
   "cell_type": "code",
   "execution_count": 70,
   "metadata": {
    "execution": {
     "iopub.execute_input": "2021-01-16T15:11:40.724752Z",
     "iopub.status.busy": "2021-01-16T15:11:40.723845Z",
     "iopub.status.idle": "2021-01-16T15:11:40.905330Z",
     "shell.execute_reply": "2021-01-16T15:11:40.906042Z"
    },
    "papermill": {
     "duration": 0.31606,
     "end_time": "2021-01-16T15:11:40.906212",
     "exception": false,
     "start_time": "2021-01-16T15:11:40.590152",
     "status": "completed"
    },
    "tags": []
   },
   "outputs": [
    {
     "data": {
      "image/png": "[encoded data removed]",
      "text/plain": [
       "<Figure size 432x288 with 1 Axes>"
      ]
     },
     "metadata": {
      "needs_background": "light"
     },
     "output_type": "display_data"
    }
   ],
   "source": [
    "test.productionDate.hist();"
   ]
  },
  {
   "cell_type": "code",
   "execution_count": 71,
   "metadata": {
    "execution": {
     "iopub.execute_input": "2021-01-16T15:11:41.192686Z",
     "iopub.status.busy": "2021-01-16T15:11:41.191791Z",
     "iopub.status.idle": "2021-01-16T15:11:41.200475Z",
     "shell.execute_reply": "2021-01-16T15:11:41.199940Z"
    },
    "papermill": {
     "duration": 0.151257,
     "end_time": "2021-01-16T15:11:41.200590",
     "exception": false,
     "start_time": "2021-01-16T15:11:41.049333",
     "status": "completed"
    },
    "tags": []
   },
   "outputs": [
    {
     "data": {
      "text/plain": [
       "count    34686.000000\n",
       "mean      2009.264602\n",
       "std          7.047661\n",
       "min       1904.000000\n",
       "25%       2006.000000\n",
       "50%       2011.000000\n",
       "75%       2014.000000\n",
       "max       2020.000000\n",
       "Name: productionDate, dtype: float64"
      ]
     },
     "execution_count": 71,
     "metadata": {},
     "output_type": "execute_result"
    }
   ],
   "source": [
    "test.productionDate.describe()"
   ]
  },
  {
   "cell_type": "code",
   "execution_count": 72,
   "metadata": {
    "execution": {
     "iopub.execute_input": "2021-01-16T15:11:41.613430Z",
     "iopub.status.busy": "2021-01-16T15:11:41.610844Z",
     "iopub.status.idle": "2021-01-16T15:11:41.783877Z",
     "shell.execute_reply": "2021-01-16T15:11:41.784399Z"
    },
    "papermill": {
     "duration": 0.45002,
     "end_time": "2021-01-16T15:11:41.784560",
     "exception": false,
     "start_time": "2021-01-16T15:11:41.334540",
     "status": "completed"
    },
    "tags": []
   },
   "outputs": [
    {
     "data": {
      "image/png": "[encoded data removed]",
      "text/plain": [
       "<Figure size 432x288 with 1 Axes>"
      ]
     },
     "metadata": {
      "needs_background": "light"
     },
     "output_type": "display_data"
    }
   ],
   "source": [
    "train.productionDate.hist();"
   ]
  },
  {
   "cell_type": "code",
   "execution_count": 73,
   "metadata": {
    "execution": {
     "iopub.execute_input": "2021-01-16T15:11:42.078566Z",
     "iopub.status.busy": "2021-01-16T15:11:42.077484Z",
     "iopub.status.idle": "2021-01-16T15:11:42.088577Z",
     "shell.execute_reply": "2021-01-16T15:11:42.087989Z"
    },
    "papermill": {
     "duration": 0.153393,
     "end_time": "2021-01-16T15:11:42.088683",
     "exception": false,
     "start_time": "2021-01-16T15:11:41.935290",
     "status": "completed"
    },
    "tags": []
   },
   "outputs": [
    {
     "data": {
      "text/plain": [
       "count    125587.000000\n",
       "mean       2011.078559\n",
       "std           7.123826\n",
       "min        1904.000000\n",
       "25%        2007.000000\n",
       "50%        2012.000000\n",
       "75%        2017.000000\n",
       "max        2020.000000\n",
       "Name: productionDate, dtype: float64"
      ]
     },
     "execution_count": 73,
     "metadata": {},
     "output_type": "execute_result"
    }
   ],
   "source": [
    "train.productionDate.describe()"
   ]
  },
  {
   "cell_type": "code",
   "execution_count": 74,
   "metadata": {
    "execution": {
     "iopub.execute_input": "2021-01-16T15:11:42.367955Z",
     "iopub.status.busy": "2021-01-16T15:11:42.366940Z",
     "iopub.status.idle": "2021-01-16T15:11:42.376047Z",
     "shell.execute_reply": "2021-01-16T15:11:42.375465Z"
    },
    "papermill": {
     "duration": 0.15473,
     "end_time": "2021-01-16T15:11:42.376150",
     "exception": false,
     "start_time": "2021-01-16T15:11:42.221420",
     "status": "completed"
    },
    "tags": []
   },
   "outputs": [],
   "source": [
    "train['age_of_model'] = train.productionDate - train.modelDate\n",
    "test['age_of_model'] = test.productionDate - test.modelDate\n",
    "\n",
    "train.productionDate = 2021 - train.productionDate\n",
    "test.productionDate = 2021 - test.productionDate\n",
    "train.modelDate = 2021 - train.modelDate\n",
    "test.modelDate = 2021 - test.modelDate\n",
    "# Хотя эти признаки коррелируют удаление одноги из них ухудшает метрику"
   ]
  },
  {
   "cell_type": "markdown",
   "metadata": {
    "papermill": {
     "duration": 0.136845,
     "end_time": "2021-01-16T15:11:42.648881",
     "exception": false,
     "start_time": "2021-01-16T15:11:42.512036",
     "status": "completed"
    },
    "tags": []
   },
   "source": [
    "### vehicleConfiguration"
   ]
  },
  {
   "cell_type": "code",
   "execution_count": 75,
   "metadata": {
    "execution": {
     "iopub.execute_input": "2021-01-16T15:11:42.923633Z",
     "iopub.status.busy": "2021-01-16T15:11:42.922824Z",
     "iopub.status.idle": "2021-01-16T15:11:42.926215Z",
     "shell.execute_reply": "2021-01-16T15:11:42.926661Z"
    },
    "papermill": {
     "duration": 0.144458,
     "end_time": "2021-01-16T15:11:42.926788",
     "exception": false,
     "start_time": "2021-01-16T15:11:42.782330",
     "status": "completed"
    },
    "tags": []
   },
   "outputs": [
    {
     "data": {
      "text/plain": [
       "0                   LIFTBACK ROBOT 1.2\n",
       "1              LIFTBACK MECHANICAL 1.6\n",
       "2                   LIFTBACK ROBOT 1.8\n",
       "3               LIFTBACK AUTOMATIC 1.6\n",
       "4               LIFTBACK AUTOMATIC 1.8\n",
       "                     ...              \n",
       "34681              SEDAN AUTOMATIC 1.6\n",
       "34682              SEDAN AUTOMATIC 2.0\n",
       "34683              SEDAN AUTOMATIC 2.5\n",
       "34684    ALLROAD_5_DOORS AUTOMATIC 2.0\n",
       "34685    ALLROAD_5_DOORS AUTOMATIC 3.0\n",
       "Name: vehicleConfiguration, Length: 34686, dtype: object"
      ]
     },
     "execution_count": 75,
     "metadata": {},
     "output_type": "execute_result"
    }
   ],
   "source": [
    "test.vehicleConfiguration"
   ]
  },
  {
   "cell_type": "code",
   "execution_count": 76,
   "metadata": {
    "execution": {
     "iopub.execute_input": "2021-01-16T15:11:43.203942Z",
     "iopub.status.busy": "2021-01-16T15:11:43.203179Z",
     "iopub.status.idle": "2021-01-16T15:11:43.206407Z",
     "shell.execute_reply": "2021-01-16T15:11:43.206906Z"
    },
    "papermill": {
     "duration": 0.144549,
     "end_time": "2021-01-16T15:11:43.207024",
     "exception": false,
     "start_time": "2021-01-16T15:11:43.062475",
     "status": "completed"
    },
    "tags": []
   },
   "outputs": [
    {
     "data": {
      "text/plain": [
       "0                 SEDAN MECHANICAL 2.8\n",
       "1                 SEDAN MECHANICAL 1.8\n",
       "2         WAGON_5_DOORS MECHANICAL 2.3\n",
       "3                 SEDAN MECHANICAL 1.8\n",
       "4                 SEDAN MECHANICAL 2.0\n",
       "                      ...             \n",
       "125582              LIFTBACK ROBOT 3.0\n",
       "125583                 SEDAN ROBOT 2.0\n",
       "125584              LIFTBACK ROBOT 3.0\n",
       "125585         WAGON_5_DOORS ROBOT 2.0\n",
       "125586     WAGON_5_DOORS AUTOMATIC 2.4\n",
       "Name: vehicleConfiguration, Length: 125587, dtype: object"
      ]
     },
     "execution_count": 76,
     "metadata": {},
     "output_type": "execute_result"
    }
   ],
   "source": [
    "train.vehicleConfiguration"
   ]
  },
  {
   "cell_type": "code",
   "execution_count": 77,
   "metadata": {
    "execution": {
     "iopub.execute_input": "2021-01-16T15:11:43.563613Z",
     "iopub.status.busy": "2021-01-16T15:11:43.561821Z",
     "iopub.status.idle": "2021-01-16T15:11:43.564499Z",
     "shell.execute_reply": "2021-01-16T15:11:43.565240Z"
    },
    "papermill": {
     "duration": 0.22306,
     "end_time": "2021-01-16T15:11:43.565403",
     "exception": false,
     "start_time": "2021-01-16T15:11:43.342343",
     "status": "completed"
    },
    "tags": []
   },
   "outputs": [],
   "source": [
    "to_delete.append('vehicleConfiguration')\n",
    "# содержимое признака уже представлено в других признаках, удаление помогло"
   ]
  },
  {
   "cell_type": "markdown",
   "metadata": {
    "papermill": {
     "duration": 0.194059,
     "end_time": "2021-01-16T15:11:43.951610",
     "exception": false,
     "start_time": "2021-01-16T15:11:43.757551",
     "status": "completed"
    },
    "tags": []
   },
   "source": [
    "### vehicleTransmission"
   ]
  },
  {
   "cell_type": "code",
   "execution_count": 78,
   "metadata": {
    "execution": {
     "iopub.execute_input": "2021-01-16T15:11:44.263545Z",
     "iopub.status.busy": "2021-01-16T15:11:44.262644Z",
     "iopub.status.idle": "2021-01-16T15:11:44.269269Z",
     "shell.execute_reply": "2021-01-16T15:11:44.268641Z"
    },
    "papermill": {
     "duration": 0.149695,
     "end_time": "2021-01-16T15:11:44.269373",
     "exception": false,
     "start_time": "2021-01-16T15:11:44.119678",
     "status": "completed"
    },
    "tags": []
   },
   "outputs": [
    {
     "data": {
      "text/plain": [
       "array(['роботизированная', 'механическая', 'автоматическая', 'вариатор'],\n",
       "      dtype=object)"
      ]
     },
     "execution_count": 78,
     "metadata": {},
     "output_type": "execute_result"
    }
   ],
   "source": [
    "test.vehicleTransmission.unique()"
   ]
  },
  {
   "cell_type": "code",
   "execution_count": 79,
   "metadata": {
    "execution": {
     "iopub.execute_input": "2021-01-16T15:11:44.562978Z",
     "iopub.status.busy": "2021-01-16T15:11:44.562185Z",
     "iopub.status.idle": "2021-01-16T15:11:44.571127Z",
     "shell.execute_reply": "2021-01-16T15:11:44.570414Z"
    },
    "papermill": {
     "duration": 0.161268,
     "end_time": "2021-01-16T15:11:44.571230",
     "exception": false,
     "start_time": "2021-01-16T15:11:44.409962",
     "status": "completed"
    },
    "tags": []
   },
   "outputs": [
    {
     "data": {
      "text/plain": [
       "array(['MECHANICAL', 'AUTOMATIC', 'ROBOT', 'VARIATOR', 'автоматическая',\n",
       "       'роботизированная', 'вариатор', 'механическая'], dtype=object)"
      ]
     },
     "execution_count": 79,
     "metadata": {},
     "output_type": "execute_result"
    }
   ],
   "source": [
    "train.vehicleTransmission.unique()"
   ]
  },
  {
   "cell_type": "code",
   "execution_count": 80,
   "metadata": {
    "execution": {
     "iopub.execute_input": "2021-01-16T15:11:44.864759Z",
     "iopub.status.busy": "2021-01-16T15:11:44.859532Z",
     "iopub.status.idle": "2021-01-16T15:11:44.905361Z",
     "shell.execute_reply": "2021-01-16T15:11:44.904834Z"
    },
    "papermill": {
     "duration": 0.198565,
     "end_time": "2021-01-16T15:11:44.905467",
     "exception": false,
     "start_time": "2021-01-16T15:11:44.706902",
     "status": "completed"
    },
    "tags": []
   },
   "outputs": [],
   "source": [
    "transmission_dict = {\n",
    "    'роботизированная' : 'ROBOT', 'механическая' : 'MECHANICAL', \n",
    "    'автоматическая' : 'AUTOMATIC', 'вариатор' : 'VARIATOR'\n",
    "}\n",
    "tsm_list = ['ROBOT', 'AUTOMATIC', 'MECHANICAL', 'VARIATOR']\n",
    "\n",
    "train.vehicleTransmission = train.vehicleTransmission.apply(lambda x: x if x in tsm_list else transmission_dict[x])\n",
    "test.vehicleTransmission = test.vehicleTransmission.map(transmission_dict)"
   ]
  },
  {
   "cell_type": "code",
   "execution_count": 81,
   "metadata": {
    "execution": {
     "iopub.execute_input": "2021-01-16T15:11:45.214507Z",
     "iopub.status.busy": "2021-01-16T15:11:45.213634Z",
     "iopub.status.idle": "2021-01-16T15:11:45.220217Z",
     "shell.execute_reply": "2021-01-16T15:11:45.219709Z"
    },
    "papermill": {
     "duration": 0.176173,
     "end_time": "2021-01-16T15:11:45.220316",
     "exception": false,
     "start_time": "2021-01-16T15:11:45.044143",
     "status": "completed"
    },
    "tags": []
   },
   "outputs": [
    {
     "data": {
      "text/plain": [
       "AUTOMATIC     68844\n",
       "MECHANICAL    32149\n",
       "ROBOT         12737\n",
       "VARIATOR      11857\n",
       "Name: vehicleTransmission, dtype: int64"
      ]
     },
     "execution_count": 81,
     "metadata": {},
     "output_type": "execute_result"
    }
   ],
   "source": [
    "train.vehicleTransmission.value_counts()"
   ]
  },
  {
   "cell_type": "code",
   "execution_count": 82,
   "metadata": {
    "execution": {
     "iopub.execute_input": "2021-01-16T15:11:45.507074Z",
     "iopub.status.busy": "2021-01-16T15:11:45.506226Z",
     "iopub.status.idle": "2021-01-16T15:11:45.509572Z",
     "shell.execute_reply": "2021-01-16T15:11:45.510154Z"
    },
    "papermill": {
     "duration": 0.154587,
     "end_time": "2021-01-16T15:11:45.510298",
     "exception": false,
     "start_time": "2021-01-16T15:11:45.355711",
     "status": "completed"
    },
    "tags": []
   },
   "outputs": [
    {
     "data": {
      "text/plain": [
       "AUTOMATIC     19596\n",
       "MECHANICAL     7209\n",
       "VARIATOR       3999\n",
       "ROBOT          3882\n",
       "Name: vehicleTransmission, dtype: int64"
      ]
     },
     "execution_count": 82,
     "metadata": {},
     "output_type": "execute_result"
    }
   ],
   "source": [
    "test.vehicleTransmission.value_counts()"
   ]
  },
  {
   "cell_type": "code",
   "execution_count": 83,
   "metadata": {
    "execution": {
     "iopub.execute_input": "2021-01-16T15:11:45.800218Z",
     "iopub.status.busy": "2021-01-16T15:11:45.793360Z",
     "iopub.status.idle": "2021-01-16T15:11:45.811374Z",
     "shell.execute_reply": "2021-01-16T15:11:45.810863Z"
    },
    "papermill": {
     "duration": 0.161139,
     "end_time": "2021-01-16T15:11:45.811476",
     "exception": false,
     "start_time": "2021-01-16T15:11:45.650337",
     "status": "completed"
    },
    "tags": []
   },
   "outputs": [
    {
     "data": {
      "text/plain": [
       "{'AUTOMATIC': 1885654.5818134104,\n",
       " 'MECHANICAL': 453410.010454049,\n",
       " 'ROBOT': 1625561.9735516373,\n",
       " 'VARIATOR': 1337504.7705042656}"
      ]
     },
     "execution_count": 83,
     "metadata": {},
     "output_type": "execute_result"
    }
   ],
   "source": [
    "train.groupby(['vehicleTransmission'])['price'].mean().to_dict()"
   ]
  },
  {
   "cell_type": "markdown",
   "metadata": {
    "papermill": {
     "duration": 0.143492,
     "end_time": "2021-01-16T15:11:46.092732",
     "exception": false,
     "start_time": "2021-01-16T15:11:45.949240",
     "status": "completed"
    },
    "tags": []
   },
   "source": [
    "### Владельцы"
   ]
  },
  {
   "cell_type": "code",
   "execution_count": 84,
   "metadata": {
    "execution": {
     "iopub.execute_input": "2021-01-16T15:11:46.375567Z",
     "iopub.status.busy": "2021-01-16T15:11:46.374755Z",
     "iopub.status.idle": "2021-01-16T15:11:46.381064Z",
     "shell.execute_reply": "2021-01-16T15:11:46.380451Z"
    },
    "papermill": {
     "duration": 0.151472,
     "end_time": "2021-01-16T15:11:46.381160",
     "exception": false,
     "start_time": "2021-01-16T15:11:46.229688",
     "status": "completed"
    },
    "tags": []
   },
   "outputs": [
    {
     "data": {
      "text/plain": [
       "array(['3 или более', '1\\xa0владелец', '2\\xa0владельца'], dtype=object)"
      ]
     },
     "execution_count": 84,
     "metadata": {},
     "output_type": "execute_result"
    }
   ],
   "source": [
    "test['Владельцы'].unique()"
   ]
  },
  {
   "cell_type": "code",
   "execution_count": 85,
   "metadata": {
    "execution": {
     "iopub.execute_input": "2021-01-16T15:11:46.696165Z",
     "iopub.status.busy": "2021-01-16T15:11:46.695205Z",
     "iopub.status.idle": "2021-01-16T15:11:46.700947Z",
     "shell.execute_reply": "2021-01-16T15:11:46.700447Z"
    },
    "papermill": {
     "duration": 0.166842,
     "end_time": "2021-01-16T15:11:46.701050",
     "exception": false,
     "start_time": "2021-01-16T15:11:46.534208",
     "status": "completed"
    },
    "tags": []
   },
   "outputs": [
    {
     "data": {
      "text/plain": [
       "array(['3', '1', '2'], dtype=object)"
      ]
     },
     "execution_count": 85,
     "metadata": {},
     "output_type": "execute_result"
    }
   ],
   "source": [
    "test['Владельцы'] = test['Владельцы'].apply(lambda x: x[0])\n",
    "test['Владельцы'].unique()"
   ]
  },
  {
   "cell_type": "code",
   "execution_count": 86,
   "metadata": {
    "execution": {
     "iopub.execute_input": "2021-01-16T15:11:47.005465Z",
     "iopub.status.busy": "2021-01-16T15:11:47.004676Z",
     "iopub.status.idle": "2021-01-16T15:11:47.007959Z",
     "shell.execute_reply": "2021-01-16T15:11:47.008430Z"
    },
    "papermill": {
     "duration": 0.169023,
     "end_time": "2021-01-16T15:11:47.008572",
     "exception": false,
     "start_time": "2021-01-16T15:11:46.839549",
     "status": "completed"
    },
    "tags": []
   },
   "outputs": [
    {
     "data": {
      "text/plain": [
       "array([3.0, 1.0, 2.0, nan, '2\\xa0владельца', '1\\xa0владелец',\n",
       "       'Неизвестно', '3 или более'], dtype=object)"
      ]
     },
     "execution_count": 86,
     "metadata": {},
     "output_type": "execute_result"
    }
   ],
   "source": [
    "train['Владельцы'].unique()"
   ]
  },
  {
   "cell_type": "code",
   "execution_count": 87,
   "metadata": {
    "execution": {
     "iopub.execute_input": "2021-01-16T15:11:47.314733Z",
     "iopub.status.busy": "2021-01-16T15:11:47.309650Z",
     "iopub.status.idle": "2021-01-16T15:11:47.465569Z",
     "shell.execute_reply": "2021-01-16T15:11:47.466058Z"
    },
    "papermill": {
     "duration": 0.317297,
     "end_time": "2021-01-16T15:11:47.466186",
     "exception": false,
     "start_time": "2021-01-16T15:11:47.148889",
     "status": "completed"
    },
    "tags": []
   },
   "outputs": [
    {
     "data": {
      "text/plain": [
       "array(['3', '1', '2', '0'], dtype=object)"
      ]
     },
     "execution_count": 87,
     "metadata": {},
     "output_type": "execute_result"
    }
   ],
   "source": [
    "train['Владельцы'].fillna('0', inplace=True)\n",
    "train['Владельцы'] = train['Владельцы'].apply(lambda x: '0' if x == 'Неизвестно' else x)\n",
    "train['Владельцы'] = train['Владельцы'].astype(str)\n",
    "\n",
    "train['Владельцы'] = train['Владельцы'].apply(lambda x: x[0])\n",
    "train['Владельцы'].unique()"
   ]
  },
  {
   "cell_type": "code",
   "execution_count": 88,
   "metadata": {
    "execution": {
     "iopub.execute_input": "2021-01-16T15:11:47.789272Z",
     "iopub.status.busy": "2021-01-16T15:11:47.788216Z",
     "iopub.status.idle": "2021-01-16T15:11:47.878267Z",
     "shell.execute_reply": "2021-01-16T15:11:47.878775Z"
    },
    "papermill": {
     "duration": 0.256728,
     "end_time": "2021-01-16T15:11:47.878912",
     "exception": false,
     "start_time": "2021-01-16T15:11:47.622184",
     "status": "completed"
    },
    "tags": []
   },
   "outputs": [
    {
     "data": {
      "text/plain": [
       "1     18560\n",
       "2      1540\n",
       "3       103\n",
       "13        1\n",
       "9         1\n",
       "21        1\n",
       "20        1\n",
       "4         1\n",
       "Name: productionDate, dtype: int64"
      ]
     },
     "execution_count": 88,
     "metadata": {},
     "output_type": "execute_result"
    }
   ],
   "source": [
    "train[train['Владельцы'] == '0']['productionDate'].value_counts()"
   ]
  },
  {
   "cell_type": "code",
   "execution_count": 89,
   "metadata": {
    "execution": {
     "iopub.execute_input": "2021-01-16T15:11:48.180951Z",
     "iopub.status.busy": "2021-01-16T15:11:48.179510Z",
     "iopub.status.idle": "2021-01-16T15:11:48.194916Z",
     "shell.execute_reply": "2021-01-16T15:11:48.194327Z"
    },
    "papermill": {
     "duration": 0.178122,
     "end_time": "2021-01-16T15:11:48.195035",
     "exception": false,
     "start_time": "2021-01-16T15:11:48.016913",
     "status": "completed"
    },
    "tags": []
   },
   "outputs": [
    {
     "data": {
      "text/plain": [
       "3      1182\n",
       "4      1078\n",
       "2       945\n",
       "5       885\n",
       "7       835\n",
       "8       803\n",
       "6       798\n",
       "9       711\n",
       "10      521\n",
       "13      328\n",
       "11      304\n",
       "1       249\n",
       "14      189\n",
       "12      136\n",
       "15       99\n",
       "16       61\n",
       "17       47\n",
       "18       33\n",
       "19       32\n",
       "23       24\n",
       "20       22\n",
       "22       21\n",
       "24       21\n",
       "26       18\n",
       "21       17\n",
       "29       11\n",
       "27       10\n",
       "25        9\n",
       "31        9\n",
       "30        8\n",
       "32        6\n",
       "28        6\n",
       "37        6\n",
       "35        4\n",
       "33        4\n",
       "34        4\n",
       "62        2\n",
       "38        2\n",
       "68        2\n",
       "45        2\n",
       "39        2\n",
       "56        1\n",
       "54        1\n",
       "72        1\n",
       "60        1\n",
       "36        1\n",
       "52        1\n",
       "41        1\n",
       "49        1\n",
       "117       1\n",
       "85        1\n",
       "69        1\n",
       "43        1\n",
       "47        1\n",
       "Name: productionDate, dtype: int64"
      ]
     },
     "execution_count": 89,
     "metadata": {},
     "output_type": "execute_result"
    }
   ],
   "source": [
    "test[test['Владельцы'] == '1']['productionDate'].value_counts()"
   ]
  },
  {
   "cell_type": "code",
   "execution_count": 90,
   "metadata": {
    "execution": {
     "iopub.execute_input": "2021-01-16T15:11:48.576676Z",
     "iopub.status.busy": "2021-01-16T15:11:48.575797Z",
     "iopub.status.idle": "2021-01-16T15:11:48.581974Z",
     "shell.execute_reply": "2021-01-16T15:11:48.582626Z"
    },
    "papermill": {
     "duration": 0.22056,
     "end_time": "2021-01-16T15:11:48.582793",
     "exception": false,
     "start_time": "2021-01-16T15:11:48.362233",
     "status": "completed"
    },
    "tags": []
   },
   "outputs": [],
   "source": [
    "# train['Владельцы'] = train['Владельцы'].apply(lambda x: '1' if x == '0' else x)\n",
    "# train['Владельцы'].unique()\n",
    "\n",
    "# заполнение пропущенных значении с 1-ой ухудшило результат "
   ]
  },
  {
   "cell_type": "markdown",
   "metadata": {
    "papermill": {
     "duration": 0.198546,
     "end_time": "2021-01-16T15:11:48.975805",
     "exception": false,
     "start_time": "2021-01-16T15:11:48.777259",
     "status": "completed"
    },
    "tags": []
   },
   "source": [
    "### ПТС"
   ]
  },
  {
   "cell_type": "code",
   "execution_count": 91,
   "metadata": {
    "execution": {
     "iopub.execute_input": "2021-01-16T15:11:49.415419Z",
     "iopub.status.busy": "2021-01-16T15:11:49.414463Z",
     "iopub.status.idle": "2021-01-16T15:11:49.427590Z",
     "shell.execute_reply": "2021-01-16T15:11:49.429247Z"
    },
    "papermill": {
     "duration": 0.247749,
     "end_time": "2021-01-16T15:11:49.429435",
     "exception": false,
     "start_time": "2021-01-16T15:11:49.181686",
     "status": "completed"
    },
    "tags": []
   },
   "outputs": [
    {
     "data": {
      "text/plain": [
       "array(['Оригинал', 'Дубликат', nan], dtype=object)"
      ]
     },
     "execution_count": 91,
     "metadata": {},
     "output_type": "execute_result"
    }
   ],
   "source": [
    "test['ПТС'].unique()"
   ]
  },
  {
   "cell_type": "code",
   "execution_count": 92,
   "metadata": {
    "execution": {
     "iopub.execute_input": "2021-01-16T15:11:49.731501Z",
     "iopub.status.busy": "2021-01-16T15:11:49.730720Z",
     "iopub.status.idle": "2021-01-16T15:11:49.734291Z",
     "shell.execute_reply": "2021-01-16T15:11:49.734774Z"
    },
    "papermill": {
     "duration": 0.160766,
     "end_time": "2021-01-16T15:11:49.734895",
     "exception": false,
     "start_time": "2021-01-16T15:11:49.574129",
     "status": "completed"
    },
    "tags": []
   },
   "outputs": [
    {
     "data": {
      "text/plain": [
       "array(['ORIGINAL', 'DUPLICATE', nan, 'Оригинал', 'Дубликат'], dtype=object)"
      ]
     },
     "execution_count": 92,
     "metadata": {},
     "output_type": "execute_result"
    }
   ],
   "source": [
    "train['ПТС'].unique()"
   ]
  },
  {
   "cell_type": "code",
   "execution_count": 93,
   "metadata": {
    "execution": {
     "iopub.execute_input": "2021-01-16T15:11:50.058144Z",
     "iopub.status.busy": "2021-01-16T15:11:50.056825Z",
     "iopub.status.idle": "2021-01-16T15:11:50.103557Z",
     "shell.execute_reply": "2021-01-16T15:11:50.103040Z"
    },
    "papermill": {
     "duration": 0.229863,
     "end_time": "2021-01-16T15:11:50.103670",
     "exception": false,
     "start_time": "2021-01-16T15:11:49.873807",
     "status": "completed"
    },
    "tags": []
   },
   "outputs": [],
   "source": [
    "pts_dict = {\n",
    "    'Оригинал' : 'ORIGINAL', 'Дубликат' : 'DUPLICATE'\n",
    "}\n",
    "\n",
    "pts_list = ['ORIGINAL', 'DUPLICATE']\n",
    "\n",
    "test['ПТС'].fillna(test['ПТС'].mode()[0], inplace=True)\n",
    "test['ПТС'] = test['ПТС'].map(pts_dict)\n",
    "train['ПТС'].fillna(test['ПТС'].mode()[0], inplace=True)\n",
    "train['ПТС'] = train['ПТС'].apply(lambda x: x if x in pts_list else pts_dict[x])"
   ]
  },
  {
   "cell_type": "code",
   "execution_count": 94,
   "metadata": {
    "execution": {
     "iopub.execute_input": "2021-01-16T15:11:50.419271Z",
     "iopub.status.busy": "2021-01-16T15:11:50.418413Z",
     "iopub.status.idle": "2021-01-16T15:11:50.422692Z",
     "shell.execute_reply": "2021-01-16T15:11:50.422179Z"
    },
    "papermill": {
     "duration": 0.179943,
     "end_time": "2021-01-16T15:11:50.422795",
     "exception": false,
     "start_time": "2021-01-16T15:11:50.242852",
     "status": "completed"
    },
    "tags": []
   },
   "outputs": [
    {
     "data": {
      "text/plain": [
       "ORIGINAL     111112\n",
       "DUPLICATE     14475\n",
       "Name: ПТС, dtype: int64"
      ]
     },
     "execution_count": 94,
     "metadata": {},
     "output_type": "execute_result"
    }
   ],
   "source": [
    "train['ПТС'].value_counts()"
   ]
  },
  {
   "cell_type": "code",
   "execution_count": 95,
   "metadata": {
    "execution": {
     "iopub.execute_input": "2021-01-16T15:11:50.718475Z",
     "iopub.status.busy": "2021-01-16T15:11:50.717434Z",
     "iopub.status.idle": "2021-01-16T15:11:50.722504Z",
     "shell.execute_reply": "2021-01-16T15:11:50.722000Z"
    },
    "papermill": {
     "duration": 0.15779,
     "end_time": "2021-01-16T15:11:50.722620",
     "exception": false,
     "start_time": "2021-01-16T15:11:50.564830",
     "status": "completed"
    },
    "tags": []
   },
   "outputs": [
    {
     "data": {
      "text/plain": [
       "ORIGINAL     30099\n",
       "DUPLICATE     4587\n",
       "Name: ПТС, dtype: int64"
      ]
     },
     "execution_count": 95,
     "metadata": {},
     "output_type": "execute_result"
    }
   ],
   "source": [
    "test['ПТС'].value_counts()"
   ]
  },
  {
   "cell_type": "markdown",
   "metadata": {
    "papermill": {
     "duration": 0.139966,
     "end_time": "2021-01-16T15:11:51.002041",
     "exception": false,
     "start_time": "2021-01-16T15:11:50.862075",
     "status": "completed"
    },
    "tags": []
   },
   "source": [
    "### Привод"
   ]
  },
  {
   "cell_type": "code",
   "execution_count": 96,
   "metadata": {
    "execution": {
     "iopub.execute_input": "2021-01-16T15:11:51.299596Z",
     "iopub.status.busy": "2021-01-16T15:11:51.298541Z",
     "iopub.status.idle": "2021-01-16T15:11:51.303298Z",
     "shell.execute_reply": "2021-01-16T15:11:51.302832Z"
    },
    "papermill": {
     "duration": 0.161514,
     "end_time": "2021-01-16T15:11:51.303398",
     "exception": false,
     "start_time": "2021-01-16T15:11:51.141884",
     "status": "completed"
    },
    "tags": []
   },
   "outputs": [
    {
     "data": {
      "text/plain": [
       "передний    15565\n",
       "полный      15020\n",
       "задний       4101\n",
       "Name: Привод, dtype: int64"
      ]
     },
     "execution_count": 96,
     "metadata": {},
     "output_type": "execute_result"
    }
   ],
   "source": [
    "test['Привод'].value_counts()"
   ]
  },
  {
   "cell_type": "code",
   "execution_count": 97,
   "metadata": {
    "execution": {
     "iopub.execute_input": "2021-01-16T15:11:51.626560Z",
     "iopub.status.busy": "2021-01-16T15:11:51.623055Z",
     "iopub.status.idle": "2021-01-16T15:11:51.632631Z",
     "shell.execute_reply": "2021-01-16T15:11:51.631717Z"
    },
    "papermill": {
     "duration": 0.188351,
     "end_time": "2021-01-16T15:11:51.632736",
     "exception": false,
     "start_time": "2021-01-16T15:11:51.444385",
     "status": "completed"
    },
    "tags": []
   },
   "outputs": [
    {
     "data": {
      "text/plain": [
       "передний    62487\n",
       "полный      53275\n",
       "задний       9825\n",
       "Name: Привод, dtype: int64"
      ]
     },
     "execution_count": 97,
     "metadata": {},
     "output_type": "execute_result"
    }
   ],
   "source": [
    "train['Привод'].value_counts()"
   ]
  },
  {
   "cell_type": "code",
   "execution_count": 98,
   "metadata": {
    "execution": {
     "iopub.execute_input": "2021-01-16T15:11:51.934206Z",
     "iopub.status.busy": "2021-01-16T15:11:51.933261Z",
     "iopub.status.idle": "2021-01-16T15:11:51.969931Z",
     "shell.execute_reply": "2021-01-16T15:11:51.969347Z"
    },
    "papermill": {
     "duration": 0.195378,
     "end_time": "2021-01-16T15:11:51.970040",
     "exception": false,
     "start_time": "2021-01-16T15:11:51.774662",
     "status": "completed"
    },
    "tags": []
   },
   "outputs": [],
   "source": [
    "train['tms_pri'] = train.vehicleTransmission + '-' + train['Привод']\n",
    "test['tms_pri'] = test.vehicleTransmission + '-' + test['Привод']\n",
    "\n",
    "# новый признак из комбинации двух признаков улучшило результат"
   ]
  },
  {
   "cell_type": "markdown",
   "metadata": {
    "papermill": {
     "duration": 0.141761,
     "end_time": "2021-01-16T15:11:52.254857",
     "exception": false,
     "start_time": "2021-01-16T15:11:52.113096",
     "status": "completed"
    },
    "tags": []
   },
   "source": [
    "### Руль"
   ]
  },
  {
   "cell_type": "code",
   "execution_count": 99,
   "metadata": {
    "execution": {
     "iopub.execute_input": "2021-01-16T15:11:52.548621Z",
     "iopub.status.busy": "2021-01-16T15:11:52.547732Z",
     "iopub.status.idle": "2021-01-16T15:11:52.552731Z",
     "shell.execute_reply": "2021-01-16T15:11:52.553162Z"
    },
    "papermill": {
     "duration": 0.156373,
     "end_time": "2021-01-16T15:11:52.553295",
     "exception": false,
     "start_time": "2021-01-16T15:11:52.396922",
     "status": "completed"
    },
    "tags": []
   },
   "outputs": [
    {
     "data": {
      "text/plain": [
       "array(['Левый', 'Правый'], dtype=object)"
      ]
     },
     "execution_count": 99,
     "metadata": {},
     "output_type": "execute_result"
    }
   ],
   "source": [
    "test['Руль'].unique()"
   ]
  },
  {
   "cell_type": "code",
   "execution_count": 100,
   "metadata": {
    "execution": {
     "iopub.execute_input": "2021-01-16T15:11:52.849512Z",
     "iopub.status.busy": "2021-01-16T15:11:52.848744Z",
     "iopub.status.idle": "2021-01-16T15:11:52.855812Z",
     "shell.execute_reply": "2021-01-16T15:11:52.855276Z"
    },
    "papermill": {
     "duration": 0.160511,
     "end_time": "2021-01-16T15:11:52.855919",
     "exception": false,
     "start_time": "2021-01-16T15:11:52.695408",
     "status": "completed"
    },
    "tags": []
   },
   "outputs": [
    {
     "data": {
      "text/plain": [
       "array(['LEFT', 'RIGHT', 'Левый', 'Правый'], dtype=object)"
      ]
     },
     "execution_count": 100,
     "metadata": {},
     "output_type": "execute_result"
    }
   ],
   "source": [
    "train['Руль'].unique()"
   ]
  },
  {
   "cell_type": "code",
   "execution_count": 101,
   "metadata": {
    "execution": {
     "iopub.execute_input": "2021-01-16T15:11:53.153413Z",
     "iopub.status.busy": "2021-01-16T15:11:53.152582Z",
     "iopub.status.idle": "2021-01-16T15:11:53.196309Z",
     "shell.execute_reply": "2021-01-16T15:11:53.196830Z"
    },
    "papermill": {
     "duration": 0.198715,
     "end_time": "2021-01-16T15:11:53.196991",
     "exception": false,
     "start_time": "2021-01-16T15:11:52.998276",
     "status": "completed"
    },
    "tags": []
   },
   "outputs": [
    {
     "data": {
      "text/plain": [
       "Левый     122628\n",
       "Правый      2959\n",
       "Name: Руль, dtype: int64"
      ]
     },
     "execution_count": 101,
     "metadata": {},
     "output_type": "execute_result"
    }
   ],
   "source": [
    "train['Руль'] = train['Руль'].replace('LEFT', 'Левый')\n",
    "train['Руль'] = train['Руль'].replace('RIGHT', 'Правый')\n",
    "\n",
    "train['Руль'].value_counts()"
   ]
  },
  {
   "cell_type": "code",
   "execution_count": 102,
   "metadata": {
    "execution": {
     "iopub.execute_input": "2021-01-16T15:11:53.502608Z",
     "iopub.status.busy": "2021-01-16T15:11:53.501816Z",
     "iopub.status.idle": "2021-01-16T15:11:53.505629Z",
     "shell.execute_reply": "2021-01-16T15:11:53.505047Z"
    },
    "papermill": {
     "duration": 0.167234,
     "end_time": "2021-01-16T15:11:53.505734",
     "exception": false,
     "start_time": "2021-01-16T15:11:53.338500",
     "status": "completed"
    },
    "tags": []
   },
   "outputs": [
    {
     "data": {
      "text/plain": [
       "Левый     33287\n",
       "Правый     1399\n",
       "Name: Руль, dtype: int64"
      ]
     },
     "execution_count": 102,
     "metadata": {},
     "output_type": "execute_result"
    }
   ],
   "source": [
    "test['Руль'].value_counts()"
   ]
  },
  {
   "cell_type": "markdown",
   "metadata": {
    "papermill": {
     "duration": 0.143067,
     "end_time": "2021-01-16T15:11:53.797256",
     "exception": false,
     "start_time": "2021-01-16T15:11:53.654189",
     "status": "completed"
    },
    "tags": []
   },
   "source": [
    "### price"
   ]
  },
  {
   "cell_type": "code",
   "execution_count": 103,
   "metadata": {
    "execution": {
     "iopub.execute_input": "2021-01-16T15:11:54.090389Z",
     "iopub.status.busy": "2021-01-16T15:11:54.089447Z",
     "iopub.status.idle": "2021-01-16T15:11:54.093717Z",
     "shell.execute_reply": "2021-01-16T15:11:54.094296Z"
    },
    "papermill": {
     "duration": 0.154927,
     "end_time": "2021-01-16T15:11:54.094419",
     "exception": false,
     "start_time": "2021-01-16T15:11:53.939492",
     "status": "completed"
    },
    "tags": []
   },
   "outputs": [
    {
     "data": {
      "text/plain": [
       "410"
      ]
     },
     "execution_count": 103,
     "metadata": {},
     "output_type": "execute_result"
    }
   ],
   "source": [
    "train.price.isna().sum()"
   ]
  },
  {
   "cell_type": "code",
   "execution_count": 104,
   "metadata": {
    "execution": {
     "iopub.execute_input": "2021-01-16T15:11:54.408783Z",
     "iopub.status.busy": "2021-01-16T15:11:54.406770Z",
     "iopub.status.idle": "2021-01-16T15:11:54.585363Z",
     "shell.execute_reply": "2021-01-16T15:11:54.586036Z"
    },
    "papermill": {
     "duration": 0.347798,
     "end_time": "2021-01-16T15:11:54.586241",
     "exception": false,
     "start_time": "2021-01-16T15:11:54.238443",
     "status": "completed"
    },
    "tags": []
   },
   "outputs": [],
   "source": [
    "train = train[train['price'].notna()]"
   ]
  },
  {
   "cell_type": "code",
   "execution_count": 105,
   "metadata": {
    "execution": {
     "iopub.execute_input": "2021-01-16T15:11:55.006447Z",
     "iopub.status.busy": "2021-01-16T15:11:55.005556Z",
     "iopub.status.idle": "2021-01-16T15:11:55.013677Z",
     "shell.execute_reply": "2021-01-16T15:11:55.013192Z"
    },
    "papermill": {
     "duration": 0.219594,
     "end_time": "2021-01-16T15:11:55.013781",
     "exception": false,
     "start_time": "2021-01-16T15:11:54.794187",
     "status": "completed"
    },
    "tags": []
   },
   "outputs": [
    {
     "data": {
      "text/plain": [
       "count    1.251770e+05\n",
       "mean     1.440764e+06\n",
       "std      2.085457e+06\n",
       "min      1.600000e+04\n",
       "25%      3.950000e+05\n",
       "50%      7.500000e+05\n",
       "75%      1.700000e+06\n",
       "max      9.900000e+07\n",
       "Name: price, dtype: float64"
      ]
     },
     "execution_count": 105,
     "metadata": {},
     "output_type": "execute_result"
    }
   ],
   "source": [
    "train.price.describe()"
   ]
  },
  {
   "cell_type": "code",
   "execution_count": 106,
   "metadata": {
    "execution": {
     "iopub.execute_input": "2021-01-16T15:11:55.329696Z",
     "iopub.status.busy": "2021-01-16T15:11:55.328817Z",
     "iopub.status.idle": "2021-01-16T15:11:55.333925Z",
     "shell.execute_reply": "2021-01-16T15:11:55.333421Z"
    },
    "papermill": {
     "duration": 0.163201,
     "end_time": "2021-01-16T15:11:55.334030",
     "exception": false,
     "start_time": "2021-01-16T15:11:55.170829",
     "status": "completed"
    },
    "tags": []
   },
   "outputs": [],
   "source": [
    "train.price = np.log(train.price)"
   ]
  },
  {
   "cell_type": "code",
   "execution_count": 107,
   "metadata": {
    "execution": {
     "iopub.execute_input": "2021-01-16T15:11:55.635219Z",
     "iopub.status.busy": "2021-01-16T15:11:55.634147Z",
     "iopub.status.idle": "2021-01-16T15:11:55.678817Z",
     "shell.execute_reply": "2021-01-16T15:11:55.678287Z"
    },
    "papermill": {
     "duration": 0.199898,
     "end_time": "2021-01-16T15:11:55.678932",
     "exception": false,
     "start_time": "2021-01-16T15:11:55.479034",
     "status": "completed"
    },
    "tags": []
   },
   "outputs": [],
   "source": [
    "train.drop(columns=to_delete, inplace=True)\n",
    "test.drop(columns=to_delete, inplace=True)"
   ]
  },
  {
   "cell_type": "code",
   "execution_count": 108,
   "metadata": {
    "execution": {
     "iopub.execute_input": "2021-01-16T15:11:56.103751Z",
     "iopub.status.busy": "2021-01-16T15:11:56.102389Z",
     "iopub.status.idle": "2021-01-16T15:11:56.113849Z",
     "shell.execute_reply": "2021-01-16T15:11:56.114281Z"
    },
    "papermill": {
     "duration": 0.289996,
     "end_time": "2021-01-16T15:11:56.114417",
     "exception": false,
     "start_time": "2021-01-16T15:11:55.824421",
     "status": "completed"
    },
    "tags": []
   },
   "outputs": [
    {
     "data": {
      "text/plain": [
       "bodyType               0\n",
       "brand                  0\n",
       "color                  0\n",
       "enginePower            0\n",
       "fuelType               0\n",
       "mileage                0\n",
       "modelDate              0\n",
       "model_name             0\n",
       "numberOfDoors          0\n",
       "productionDate         0\n",
       "vehicleTransmission    0\n",
       "Владельцы              0\n",
       "ПТС                    0\n",
       "Привод                 0\n",
       "Руль                   0\n",
       "price                  0\n",
       "bodyType_mean          0\n",
       "brand_mean             0\n",
       "mil_per_year           0\n",
       "age_of_model           0\n",
       "tms_pri                0\n",
       "dtype: int64"
      ]
     },
     "execution_count": 108,
     "metadata": {},
     "output_type": "execute_result"
    }
   ],
   "source": [
    "train.isna().sum()"
   ]
  },
  {
   "cell_type": "code",
   "execution_count": 109,
   "metadata": {
    "execution": {
     "iopub.execute_input": "2021-01-16T15:11:56.448966Z",
     "iopub.status.busy": "2021-01-16T15:11:56.448284Z",
     "iopub.status.idle": "2021-01-16T15:11:56.459670Z",
     "shell.execute_reply": "2021-01-16T15:11:56.459022Z"
    },
    "papermill": {
     "duration": 0.20024,
     "end_time": "2021-01-16T15:11:56.459779",
     "exception": false,
     "start_time": "2021-01-16T15:11:56.259539",
     "status": "completed"
    },
    "tags": []
   },
   "outputs": [
    {
     "data": {
      "text/plain": [
       "bodyType               0\n",
       "brand                  0\n",
       "color                  0\n",
       "enginePower            0\n",
       "fuelType               0\n",
       "mileage                0\n",
       "modelDate              0\n",
       "model_name             0\n",
       "numberOfDoors          0\n",
       "productionDate         0\n",
       "vehicleTransmission    0\n",
       "Владельцы              0\n",
       "ПТС                    0\n",
       "Привод                 0\n",
       "Руль                   0\n",
       "bodyType_mean          0\n",
       "brand_mean             0\n",
       "mil_per_year           0\n",
       "age_of_model           0\n",
       "tms_pri                0\n",
       "dtype: int64"
      ]
     },
     "execution_count": 109,
     "metadata": {},
     "output_type": "execute_result"
    }
   ],
   "source": [
    "test.isna().sum()"
   ]
  },
  {
   "cell_type": "code",
   "execution_count": 110,
   "metadata": {
    "execution": {
     "iopub.execute_input": "2021-01-16T15:11:56.770950Z",
     "iopub.status.busy": "2021-01-16T15:11:56.769270Z",
     "iopub.status.idle": "2021-01-16T15:11:56.773295Z",
     "shell.execute_reply": "2021-01-16T15:11:56.772806Z"
    },
    "papermill": {
     "duration": 0.162051,
     "end_time": "2021-01-16T15:11:56.773389",
     "exception": false,
     "start_time": "2021-01-16T15:11:56.611338",
     "status": "completed"
    },
    "tags": []
   },
   "outputs": [
    {
     "data": {
      "text/plain": [
       "(125177, 21)"
      ]
     },
     "execution_count": 110,
     "metadata": {},
     "output_type": "execute_result"
    }
   ],
   "source": [
    "train.shape"
   ]
  },
  {
   "cell_type": "code",
   "execution_count": 111,
   "metadata": {
    "execution": {
     "iopub.execute_input": "2021-01-16T15:11:57.083307Z",
     "iopub.status.busy": "2021-01-16T15:11:57.076916Z",
     "iopub.status.idle": "2021-01-16T15:11:57.281676Z",
     "shell.execute_reply": "2021-01-16T15:11:57.281098Z"
    },
    "papermill": {
     "duration": 0.360248,
     "end_time": "2021-01-16T15:11:57.281787",
     "exception": false,
     "start_time": "2021-01-16T15:11:56.921539",
     "status": "completed"
    },
    "tags": []
   },
   "outputs": [],
   "source": [
    "train.drop_duplicates(inplace=True)"
   ]
  },
  {
   "cell_type": "code",
   "execution_count": 112,
   "metadata": {
    "execution": {
     "iopub.execute_input": "2021-01-16T15:11:57.603775Z",
     "iopub.status.busy": "2021-01-16T15:11:57.602642Z",
     "iopub.status.idle": "2021-01-16T15:11:57.606764Z",
     "shell.execute_reply": "2021-01-16T15:11:57.607304Z"
    },
    "papermill": {
     "duration": 0.16977,
     "end_time": "2021-01-16T15:11:57.607437",
     "exception": false,
     "start_time": "2021-01-16T15:11:57.437667",
     "status": "completed"
    },
    "tags": []
   },
   "outputs": [
    {
     "data": {
      "text/plain": [
       "(114017, 21)"
      ]
     },
     "execution_count": 112,
     "metadata": {},
     "output_type": "execute_result"
    }
   ],
   "source": [
    "train.shape"
   ]
  },
  {
   "cell_type": "code",
   "execution_count": 113,
   "metadata": {
    "execution": {
     "iopub.execute_input": "2021-01-16T15:11:57.920740Z",
     "iopub.status.busy": "2021-01-16T15:11:57.919691Z",
     "iopub.status.idle": "2021-01-16T15:11:58.002125Z",
     "shell.execute_reply": "2021-01-16T15:11:58.001486Z"
    },
    "papermill": {
     "duration": 0.240213,
     "end_time": "2021-01-16T15:11:58.002252",
     "exception": false,
     "start_time": "2021-01-16T15:11:57.762039",
     "status": "completed"
    },
    "tags": []
   },
   "outputs": [],
   "source": [
    "y = train['price'].values\n",
    "train.drop(['price'], axis=1,inplace=True)\n",
    "\n",
    "train['is_train'] = 1\n",
    "test['is_train'] = 0\n",
    "\n",
    "data = pd.concat([train, test], ignore_index=True)"
   ]
  },
  {
   "cell_type": "code",
   "execution_count": 114,
   "metadata": {
    "execution": {
     "iopub.execute_input": "2021-01-16T15:11:58.312859Z",
     "iopub.status.busy": "2021-01-16T15:11:58.312185Z",
     "iopub.status.idle": "2021-01-16T15:11:58.318559Z",
     "shell.execute_reply": "2021-01-16T15:11:58.317983Z"
    },
    "papermill": {
     "duration": 0.160859,
     "end_time": "2021-01-16T15:11:58.318660",
     "exception": false,
     "start_time": "2021-01-16T15:11:58.157801",
     "status": "completed"
    },
    "tags": []
   },
   "outputs": [
    {
     "data": {
      "text/plain": [
       "Index(['bodyType', 'brand', 'color', 'enginePower', 'fuelType', 'mileage',\n",
       "       'modelDate', 'model_name', 'numberOfDoors', 'productionDate',\n",
       "       'vehicleTransmission', 'Владельцы', 'ПТС', 'Привод', 'Руль',\n",
       "       'bodyType_mean', 'brand_mean', 'mil_per_year', 'age_of_model',\n",
       "       'tms_pri', 'is_train'],\n",
       "      dtype='object')"
      ]
     },
     "execution_count": 114,
     "metadata": {},
     "output_type": "execute_result"
    }
   ],
   "source": [
    "data.columns"
   ]
  },
  {
   "cell_type": "code",
   "execution_count": 115,
   "metadata": {
    "execution": {
     "iopub.execute_input": "2021-01-16T15:11:58.649994Z",
     "iopub.status.busy": "2021-01-16T15:11:58.648834Z",
     "iopub.status.idle": "2021-01-16T15:11:58.852121Z",
     "shell.execute_reply": "2021-01-16T15:11:58.851589Z"
    },
    "papermill": {
     "duration": 0.383089,
     "end_time": "2021-01-16T15:11:58.852237",
     "exception": false,
     "start_time": "2021-01-16T15:11:58.469148",
     "status": "completed"
    },
    "tags": []
   },
   "outputs": [],
   "source": [
    "numeric_cols = ['modelDate', 'numberOfDoors', 'productionDate', 'Владельцы', 'age_of_model']\n",
    "\n",
    "for feature in numeric_cols:  \n",
    "    data[feature] = data[feature].astype('int64')\n",
    "\n",
    "num_features = ['enginePower', 'mileage', 'modelDate', 'bodyType_mean',\n",
    "                'brand_mean', 'mil_per_year']   # 'productionDate', 'age_of_model'\n",
    "cat_features = ['bodyType', 'brand', 'color', 'fuelType', 'numberOfDoors', 'model_name',\n",
    "                'vehicleTransmission', 'Владельцы', 'ПТС', 'Привод', 'Руль', 'tms_pri']\n",
    "\n",
    "\n",
    "for colum in cat_features:\n",
    "    data[colum] = data[colum].astype('category').cat.codes"
   ]
  },
  {
   "cell_type": "code",
   "execution_count": 116,
   "metadata": {
    "execution": {
     "iopub.execute_input": "2021-01-16T15:11:59.173223Z",
     "iopub.status.busy": "2021-01-16T15:11:59.171721Z",
     "iopub.status.idle": "2021-01-16T15:11:59.228172Z",
     "shell.execute_reply": "2021-01-16T15:11:59.228687Z"
    },
    "papermill": {
     "duration": 0.228901,
     "end_time": "2021-01-16T15:11:59.228825",
     "exception": false,
     "start_time": "2021-01-16T15:11:58.999924",
     "status": "completed"
    },
    "tags": []
   },
   "outputs": [
    {
     "data": {
      "text/html": [
       "<div>\n",
       "<style scoped>\n",
       "    .dataframe tbody tr th:only-of-type {\n",
       "        vertical-align: middle;\n",
       "    }\n",
       "\n",
       "    .dataframe tbody tr th {\n",
       "        vertical-align: top;\n",
       "    }\n",
       "\n",
       "    .dataframe thead th {\n",
       "        text-align: right;\n",
       "    }\n",
       "</style>\n",
       "<table border=\"1\" class=\"dataframe\">\n",
       "  <thead>\n",
       "    <tr style=\"text-align: right;\">\n",
       "      <th></th>\n",
       "      <th>bodyType</th>\n",
       "      <th>brand</th>\n",
       "      <th>color</th>\n",
       "      <th>enginePower</th>\n",
       "      <th>fuelType</th>\n",
       "      <th>mileage</th>\n",
       "      <th>modelDate</th>\n",
       "      <th>model_name</th>\n",
       "      <th>numberOfDoors</th>\n",
       "      <th>productionDate</th>\n",
       "      <th>...</th>\n",
       "      <th>Владельцы</th>\n",
       "      <th>ПТС</th>\n",
       "      <th>Привод</th>\n",
       "      <th>Руль</th>\n",
       "      <th>bodyType_mean</th>\n",
       "      <th>brand_mean</th>\n",
       "      <th>mil_per_year</th>\n",
       "      <th>age_of_model</th>\n",
       "      <th>tms_pri</th>\n",
       "      <th>is_train</th>\n",
       "    </tr>\n",
       "  </thead>\n",
       "  <tbody>\n",
       "    <tr>\n",
       "      <th>0</th>\n",
       "      <td>15</td>\n",
       "      <td>0</td>\n",
       "      <td>15</td>\n",
       "      <td>174.0</td>\n",
       "      <td>0</td>\n",
       "      <td>350000</td>\n",
       "      <td>31</td>\n",
       "      <td>3</td>\n",
       "      <td>3</td>\n",
       "      <td>30</td>\n",
       "      <td>...</td>\n",
       "      <td>3</td>\n",
       "      <td>1</td>\n",
       "      <td>2</td>\n",
       "      <td>0</td>\n",
       "      <td>1.116970e+06</td>\n",
       "      <td>1.596766e+06</td>\n",
       "      <td>11666.666667</td>\n",
       "      <td>1</td>\n",
       "      <td>5</td>\n",
       "      <td>1</td>\n",
       "    </tr>\n",
       "    <tr>\n",
       "      <th>1</th>\n",
       "      <td>15</td>\n",
       "      <td>0</td>\n",
       "      <td>7</td>\n",
       "      <td>90.0</td>\n",
       "      <td>0</td>\n",
       "      <td>173424</td>\n",
       "      <td>39</td>\n",
       "      <td>3</td>\n",
       "      <td>3</td>\n",
       "      <td>35</td>\n",
       "      <td>...</td>\n",
       "      <td>3</td>\n",
       "      <td>1</td>\n",
       "      <td>1</td>\n",
       "      <td>0</td>\n",
       "      <td>1.116970e+06</td>\n",
       "      <td>1.596766e+06</td>\n",
       "      <td>4954.971429</td>\n",
       "      <td>4</td>\n",
       "      <td>4</td>\n",
       "      <td>1</td>\n",
       "    </tr>\n",
       "    <tr>\n",
       "      <th>2</th>\n",
       "      <td>20</td>\n",
       "      <td>0</td>\n",
       "      <td>13</td>\n",
       "      <td>136.0</td>\n",
       "      <td>0</td>\n",
       "      <td>230000</td>\n",
       "      <td>33</td>\n",
       "      <td>3</td>\n",
       "      <td>4</td>\n",
       "      <td>32</td>\n",
       "      <td>...</td>\n",
       "      <td>3</td>\n",
       "      <td>1</td>\n",
       "      <td>2</td>\n",
       "      <td>0</td>\n",
       "      <td>6.257633e+05</td>\n",
       "      <td>1.596766e+06</td>\n",
       "      <td>7187.500000</td>\n",
       "      <td>1</td>\n",
       "      <td>5</td>\n",
       "      <td>1</td>\n",
       "    </tr>\n",
       "    <tr>\n",
       "      <th>3</th>\n",
       "      <td>15</td>\n",
       "      <td>0</td>\n",
       "      <td>11</td>\n",
       "      <td>90.0</td>\n",
       "      <td>0</td>\n",
       "      <td>240000</td>\n",
       "      <td>33</td>\n",
       "      <td>3</td>\n",
       "      <td>3</td>\n",
       "      <td>32</td>\n",
       "      <td>...</td>\n",
       "      <td>3</td>\n",
       "      <td>1</td>\n",
       "      <td>1</td>\n",
       "      <td>0</td>\n",
       "      <td>1.116970e+06</td>\n",
       "      <td>1.596766e+06</td>\n",
       "      <td>7500.000000</td>\n",
       "      <td>1</td>\n",
       "      <td>4</td>\n",
       "      <td>1</td>\n",
       "    </tr>\n",
       "    <tr>\n",
       "      <th>4</th>\n",
       "      <td>15</td>\n",
       "      <td>0</td>\n",
       "      <td>15</td>\n",
       "      <td>101.0</td>\n",
       "      <td>0</td>\n",
       "      <td>300000</td>\n",
       "      <td>31</td>\n",
       "      <td>3</td>\n",
       "      <td>3</td>\n",
       "      <td>30</td>\n",
       "      <td>...</td>\n",
       "      <td>3</td>\n",
       "      <td>0</td>\n",
       "      <td>1</td>\n",
       "      <td>0</td>\n",
       "      <td>1.116970e+06</td>\n",
       "      <td>1.596766e+06</td>\n",
       "      <td>10000.000000</td>\n",
       "      <td>1</td>\n",
       "      <td>4</td>\n",
       "      <td>1</td>\n",
       "    </tr>\n",
       "    <tr>\n",
       "      <th>...</th>\n",
       "      <td>...</td>\n",
       "      <td>...</td>\n",
       "      <td>...</td>\n",
       "      <td>...</td>\n",
       "      <td>...</td>\n",
       "      <td>...</td>\n",
       "      <td>...</td>\n",
       "      <td>...</td>\n",
       "      <td>...</td>\n",
       "      <td>...</td>\n",
       "      <td>...</td>\n",
       "      <td>...</td>\n",
       "      <td>...</td>\n",
       "      <td>...</td>\n",
       "      <td>...</td>\n",
       "      <td>...</td>\n",
       "      <td>...</td>\n",
       "      <td>...</td>\n",
       "      <td>...</td>\n",
       "      <td>...</td>\n",
       "      <td>...</td>\n",
       "    </tr>\n",
       "    <tr>\n",
       "      <th>148698</th>\n",
       "      <td>15</td>\n",
       "      <td>1</td>\n",
       "      <td>6</td>\n",
       "      <td>136.0</td>\n",
       "      <td>0</td>\n",
       "      <td>115000</td>\n",
       "      <td>10</td>\n",
       "      <td>58</td>\n",
       "      <td>3</td>\n",
       "      <td>7</td>\n",
       "      <td>...</td>\n",
       "      <td>3</td>\n",
       "      <td>1</td>\n",
       "      <td>0</td>\n",
       "      <td>0</td>\n",
       "      <td>1.116970e+06</td>\n",
       "      <td>2.459770e+06</td>\n",
       "      <td>16428.571429</td>\n",
       "      <td>3</td>\n",
       "      <td>0</td>\n",
       "      <td>0</td>\n",
       "    </tr>\n",
       "    <tr>\n",
       "      <th>148699</th>\n",
       "      <td>15</td>\n",
       "      <td>1</td>\n",
       "      <td>15</td>\n",
       "      <td>190.0</td>\n",
       "      <td>3</td>\n",
       "      <td>98000</td>\n",
       "      <td>5</td>\n",
       "      <td>75</td>\n",
       "      <td>3</td>\n",
       "      <td>3</td>\n",
       "      <td>...</td>\n",
       "      <td>1</td>\n",
       "      <td>1</td>\n",
       "      <td>2</td>\n",
       "      <td>0</td>\n",
       "      <td>1.116970e+06</td>\n",
       "      <td>2.459770e+06</td>\n",
       "      <td>32666.666667</td>\n",
       "      <td>2</td>\n",
       "      <td>2</td>\n",
       "      <td>0</td>\n",
       "    </tr>\n",
       "    <tr>\n",
       "      <th>148700</th>\n",
       "      <td>15</td>\n",
       "      <td>1</td>\n",
       "      <td>12</td>\n",
       "      <td>170.0</td>\n",
       "      <td>0</td>\n",
       "      <td>360000</td>\n",
       "      <td>26</td>\n",
       "      <td>75</td>\n",
       "      <td>3</td>\n",
       "      <td>24</td>\n",
       "      <td>...</td>\n",
       "      <td>3</td>\n",
       "      <td>0</td>\n",
       "      <td>0</td>\n",
       "      <td>0</td>\n",
       "      <td>1.116970e+06</td>\n",
       "      <td>2.459770e+06</td>\n",
       "      <td>15000.000000</td>\n",
       "      <td>2</td>\n",
       "      <td>0</td>\n",
       "      <td>0</td>\n",
       "    </tr>\n",
       "    <tr>\n",
       "      <th>148701</th>\n",
       "      <td>1</td>\n",
       "      <td>1</td>\n",
       "      <td>6</td>\n",
       "      <td>184.0</td>\n",
       "      <td>3</td>\n",
       "      <td>90500</td>\n",
       "      <td>9</td>\n",
       "      <td>1232</td>\n",
       "      <td>4</td>\n",
       "      <td>8</td>\n",
       "      <td>...</td>\n",
       "      <td>2</td>\n",
       "      <td>1</td>\n",
       "      <td>2</td>\n",
       "      <td>0</td>\n",
       "      <td>2.116855e+06</td>\n",
       "      <td>2.459770e+06</td>\n",
       "      <td>11312.500000</td>\n",
       "      <td>1</td>\n",
       "      <td>2</td>\n",
       "      <td>0</td>\n",
       "    </tr>\n",
       "    <tr>\n",
       "      <th>148702</th>\n",
       "      <td>1</td>\n",
       "      <td>1</td>\n",
       "      <td>15</td>\n",
       "      <td>235.0</td>\n",
       "      <td>3</td>\n",
       "      <td>240000</td>\n",
       "      <td>15</td>\n",
       "      <td>1239</td>\n",
       "      <td>4</td>\n",
       "      <td>13</td>\n",
       "      <td>...</td>\n",
       "      <td>3</td>\n",
       "      <td>1</td>\n",
       "      <td>2</td>\n",
       "      <td>0</td>\n",
       "      <td>2.116855e+06</td>\n",
       "      <td>2.459770e+06</td>\n",
       "      <td>18461.538462</td>\n",
       "      <td>2</td>\n",
       "      <td>2</td>\n",
       "      <td>0</td>\n",
       "    </tr>\n",
       "  </tbody>\n",
       "</table>\n",
       "<p>148703 rows × 21 columns</p>\n",
       "</div>"
      ],
      "text/plain": [
       "        bodyType  brand  color  enginePower  fuelType  mileage  modelDate  \\\n",
       "0             15      0     15        174.0         0   350000         31   \n",
       "1             15      0      7         90.0         0   173424         39   \n",
       "2             20      0     13        136.0         0   230000         33   \n",
       "3             15      0     11         90.0         0   240000         33   \n",
       "4             15      0     15        101.0         0   300000         31   \n",
       "...          ...    ...    ...          ...       ...      ...        ...   \n",
       "148698        15      1      6        136.0         0   115000         10   \n",
       "148699        15      1     15        190.0         3    98000          5   \n",
       "148700        15      1     12        170.0         0   360000         26   \n",
       "148701         1      1      6        184.0         3    90500          9   \n",
       "148702         1      1     15        235.0         3   240000         15   \n",
       "\n",
       "        model_name  numberOfDoors  productionDate  ...  Владельцы  ПТС  \\\n",
       "0                3              3              30  ...          3    1   \n",
       "1                3              3              35  ...          3    1   \n",
       "2                3              4              32  ...          3    1   \n",
       "3                3              3              32  ...          3    1   \n",
       "4                3              3              30  ...          3    0   \n",
       "...            ...            ...             ...  ...        ...  ...   \n",
       "148698          58              3               7  ...          3    1   \n",
       "148699          75              3               3  ...          1    1   \n",
       "148700          75              3              24  ...          3    0   \n",
       "148701        1232              4               8  ...          2    1   \n",
       "148702        1239              4              13  ...          3    1   \n",
       "\n",
       "        Привод  Руль  bodyType_mean    brand_mean  mil_per_year  age_of_model  \\\n",
       "0            2     0   1.116970e+06  1.596766e+06  11666.666667             1   \n",
       "1            1     0   1.116970e+06  1.596766e+06   4954.971429             4   \n",
       "2            2     0   6.257633e+05  1.596766e+06   7187.500000             1   \n",
       "3            1     0   1.116970e+06  1.596766e+06   7500.000000             1   \n",
       "4            1     0   1.116970e+06  1.596766e+06  10000.000000             1   \n",
       "...        ...   ...            ...           ...           ...           ...   \n",
       "148698       0     0   1.116970e+06  2.459770e+06  16428.571429             3   \n",
       "148699       2     0   1.116970e+06  2.459770e+06  32666.666667             2   \n",
       "148700       0     0   1.116970e+06  2.459770e+06  15000.000000             2   \n",
       "148701       2     0   2.116855e+06  2.459770e+06  11312.500000             1   \n",
       "148702       2     0   2.116855e+06  2.459770e+06  18461.538462             2   \n",
       "\n",
       "        tms_pri  is_train  \n",
       "0             5         1  \n",
       "1             4         1  \n",
       "2             5         1  \n",
       "3             4         1  \n",
       "4             4         1  \n",
       "...         ...       ...  \n",
       "148698        0         0  \n",
       "148699        2         0  \n",
       "148700        0         0  \n",
       "148701        2         0  \n",
       "148702        2         0  \n",
       "\n",
       "[148703 rows x 21 columns]"
      ]
     },
     "execution_count": 116,
     "metadata": {},
     "output_type": "execute_result"
    }
   ],
   "source": [
    "data"
   ]
  },
  {
   "cell_type": "code",
   "execution_count": 117,
   "metadata": {
    "execution": {
     "iopub.execute_input": "2021-01-16T15:11:59.548741Z",
     "iopub.status.busy": "2021-01-16T15:11:59.547250Z",
     "iopub.status.idle": "2021-01-16T15:11:59.699696Z",
     "shell.execute_reply": "2021-01-16T15:11:59.699132Z"
    },
    "papermill": {
     "duration": 0.319487,
     "end_time": "2021-01-16T15:11:59.699808",
     "exception": false,
     "start_time": "2021-01-16T15:11:59.380321",
     "status": "completed"
    },
    "tags": []
   },
   "outputs": [],
   "source": [
    "poly = PolynomialFeatures(2, interaction_only=True)\n",
    "data_num = pd.DataFrame(poly.fit_transform(data[num_features].values))\n",
    "\n",
    "data_num.dropna(axis=1, inplace=True)\n",
    "data_num.drop(columns=np.where(data_num.apply(pd.Series.nunique) < 10000)[0].tolist(), inplace=True)\n",
    "# экспериментальным путем было выявлено что полинамиальные признаки  с уникальными значениями больше 10000 улучшает метрику\n",
    "\n",
    "data = pd.concat([data,data_num], axis=1)"
   ]
  },
  {
   "cell_type": "code",
   "execution_count": 118,
   "metadata": {
    "execution": {
     "iopub.execute_input": "2021-01-16T15:12:00.020146Z",
     "iopub.status.busy": "2021-01-16T15:12:00.011458Z",
     "iopub.status.idle": "2021-01-16T15:12:00.036322Z",
     "shell.execute_reply": "2021-01-16T15:12:00.036846Z"
    },
    "papermill": {
     "duration": 0.185933,
     "end_time": "2021-01-16T15:12:00.036978",
     "exception": false,
     "start_time": "2021-01-16T15:11:59.851045",
     "status": "completed"
    },
    "tags": []
   },
   "outputs": [
    {
     "data": {
      "text/html": [
       "<div>\n",
       "<style scoped>\n",
       "    .dataframe tbody tr th:only-of-type {\n",
       "        vertical-align: middle;\n",
       "    }\n",
       "\n",
       "    .dataframe tbody tr th {\n",
       "        vertical-align: top;\n",
       "    }\n",
       "\n",
       "    .dataframe thead th {\n",
       "        text-align: right;\n",
       "    }\n",
       "</style>\n",
       "<table border=\"1\" class=\"dataframe\">\n",
       "  <thead>\n",
       "    <tr style=\"text-align: right;\">\n",
       "      <th></th>\n",
       "      <th>bodyType</th>\n",
       "      <th>brand</th>\n",
       "      <th>color</th>\n",
       "      <th>enginePower</th>\n",
       "      <th>fuelType</th>\n",
       "      <th>mileage</th>\n",
       "      <th>modelDate</th>\n",
       "      <th>model_name</th>\n",
       "      <th>numberOfDoors</th>\n",
       "      <th>productionDate</th>\n",
       "      <th>...</th>\n",
       "      <th>6</th>\n",
       "      <th>7</th>\n",
       "      <th>11</th>\n",
       "      <th>12</th>\n",
       "      <th>13</th>\n",
       "      <th>14</th>\n",
       "      <th>15</th>\n",
       "      <th>18</th>\n",
       "      <th>20</th>\n",
       "      <th>21</th>\n",
       "    </tr>\n",
       "  </thead>\n",
       "  <tbody>\n",
       "    <tr>\n",
       "      <th>0</th>\n",
       "      <td>15</td>\n",
       "      <td>0</td>\n",
       "      <td>15</td>\n",
       "      <td>174.0</td>\n",
       "      <td>0</td>\n",
       "      <td>350000</td>\n",
       "      <td>31</td>\n",
       "      <td>3</td>\n",
       "      <td>3</td>\n",
       "      <td>30</td>\n",
       "      <td>...</td>\n",
       "      <td>11666.666667</td>\n",
       "      <td>60900000.0</td>\n",
       "      <td>2.030000e+06</td>\n",
       "      <td>10850000.0</td>\n",
       "      <td>3.909394e+11</td>\n",
       "      <td>5.588682e+11</td>\n",
       "      <td>4.083333e+09</td>\n",
       "      <td>361666.666667</td>\n",
       "      <td>1.303131e+10</td>\n",
       "      <td>1.862894e+10</td>\n",
       "    </tr>\n",
       "    <tr>\n",
       "      <th>1</th>\n",
       "      <td>15</td>\n",
       "      <td>0</td>\n",
       "      <td>7</td>\n",
       "      <td>90.0</td>\n",
       "      <td>0</td>\n",
       "      <td>173424</td>\n",
       "      <td>39</td>\n",
       "      <td>3</td>\n",
       "      <td>3</td>\n",
       "      <td>35</td>\n",
       "      <td>...</td>\n",
       "      <td>4954.971429</td>\n",
       "      <td>15608160.0</td>\n",
       "      <td>4.459474e+05</td>\n",
       "      <td>6763536.0</td>\n",
       "      <td>1.937094e+11</td>\n",
       "      <td>2.769176e+11</td>\n",
       "      <td>8.593110e+08</td>\n",
       "      <td>193243.885714</td>\n",
       "      <td>5.534553e+09</td>\n",
       "      <td>7.911931e+09</td>\n",
       "    </tr>\n",
       "    <tr>\n",
       "      <th>2</th>\n",
       "      <td>20</td>\n",
       "      <td>0</td>\n",
       "      <td>13</td>\n",
       "      <td>136.0</td>\n",
       "      <td>0</td>\n",
       "      <td>230000</td>\n",
       "      <td>33</td>\n",
       "      <td>3</td>\n",
       "      <td>4</td>\n",
       "      <td>32</td>\n",
       "      <td>...</td>\n",
       "      <td>7187.500000</td>\n",
       "      <td>31280000.0</td>\n",
       "      <td>9.775000e+05</td>\n",
       "      <td>7590000.0</td>\n",
       "      <td>1.439256e+11</td>\n",
       "      <td>3.672563e+11</td>\n",
       "      <td>1.653125e+09</td>\n",
       "      <td>237187.500000</td>\n",
       "      <td>4.497674e+09</td>\n",
       "      <td>1.147676e+10</td>\n",
       "    </tr>\n",
       "    <tr>\n",
       "      <th>3</th>\n",
       "      <td>15</td>\n",
       "      <td>0</td>\n",
       "      <td>11</td>\n",
       "      <td>90.0</td>\n",
       "      <td>0</td>\n",
       "      <td>240000</td>\n",
       "      <td>33</td>\n",
       "      <td>3</td>\n",
       "      <td>3</td>\n",
       "      <td>32</td>\n",
       "      <td>...</td>\n",
       "      <td>7500.000000</td>\n",
       "      <td>21600000.0</td>\n",
       "      <td>6.750000e+05</td>\n",
       "      <td>7920000.0</td>\n",
       "      <td>2.680727e+11</td>\n",
       "      <td>3.832239e+11</td>\n",
       "      <td>1.800000e+09</td>\n",
       "      <td>247500.000000</td>\n",
       "      <td>8.377273e+09</td>\n",
       "      <td>1.197575e+10</td>\n",
       "    </tr>\n",
       "    <tr>\n",
       "      <th>4</th>\n",
       "      <td>15</td>\n",
       "      <td>0</td>\n",
       "      <td>15</td>\n",
       "      <td>101.0</td>\n",
       "      <td>0</td>\n",
       "      <td>300000</td>\n",
       "      <td>31</td>\n",
       "      <td>3</td>\n",
       "      <td>3</td>\n",
       "      <td>30</td>\n",
       "      <td>...</td>\n",
       "      <td>10000.000000</td>\n",
       "      <td>30300000.0</td>\n",
       "      <td>1.010000e+06</td>\n",
       "      <td>9300000.0</td>\n",
       "      <td>3.350909e+11</td>\n",
       "      <td>4.790299e+11</td>\n",
       "      <td>3.000000e+09</td>\n",
       "      <td>310000.000000</td>\n",
       "      <td>1.116970e+10</td>\n",
       "      <td>1.596766e+10</td>\n",
       "    </tr>\n",
       "  </tbody>\n",
       "</table>\n",
       "<p>5 rows × 32 columns</p>\n",
       "</div>"
      ],
      "text/plain": [
       "   bodyType  brand  color  enginePower  fuelType  mileage  modelDate  \\\n",
       "0        15      0     15        174.0         0   350000         31   \n",
       "1        15      0      7         90.0         0   173424         39   \n",
       "2        20      0     13        136.0         0   230000         33   \n",
       "3        15      0     11         90.0         0   240000         33   \n",
       "4        15      0     15        101.0         0   300000         31   \n",
       "\n",
       "   model_name  numberOfDoors  productionDate  ...             6           7  \\\n",
       "0           3              3              30  ...  11666.666667  60900000.0   \n",
       "1           3              3              35  ...   4954.971429  15608160.0   \n",
       "2           3              4              32  ...   7187.500000  31280000.0   \n",
       "3           3              3              32  ...   7500.000000  21600000.0   \n",
       "4           3              3              30  ...  10000.000000  30300000.0   \n",
       "\n",
       "             11          12            13            14            15  \\\n",
       "0  2.030000e+06  10850000.0  3.909394e+11  5.588682e+11  4.083333e+09   \n",
       "1  4.459474e+05   6763536.0  1.937094e+11  2.769176e+11  8.593110e+08   \n",
       "2  9.775000e+05   7590000.0  1.439256e+11  3.672563e+11  1.653125e+09   \n",
       "3  6.750000e+05   7920000.0  2.680727e+11  3.832239e+11  1.800000e+09   \n",
       "4  1.010000e+06   9300000.0  3.350909e+11  4.790299e+11  3.000000e+09   \n",
       "\n",
       "              18            20            21  \n",
       "0  361666.666667  1.303131e+10  1.862894e+10  \n",
       "1  193243.885714  5.534553e+09  7.911931e+09  \n",
       "2  237187.500000  4.497674e+09  1.147676e+10  \n",
       "3  247500.000000  8.377273e+09  1.197575e+10  \n",
       "4  310000.000000  1.116970e+10  1.596766e+10  \n",
       "\n",
       "[5 rows x 32 columns]"
      ]
     },
     "execution_count": 118,
     "metadata": {},
     "output_type": "execute_result"
    }
   ],
   "source": [
    "data.head()"
   ]
  },
  {
   "cell_type": "code",
   "execution_count": 119,
   "metadata": {
    "execution": {
     "iopub.execute_input": "2021-01-16T15:12:00.351735Z",
     "iopub.status.busy": "2021-01-16T15:12:00.350857Z",
     "iopub.status.idle": "2021-01-16T15:12:00.422655Z",
     "shell.execute_reply": "2021-01-16T15:12:00.423142Z"
    },
    "papermill": {
     "duration": 0.227478,
     "end_time": "2021-01-16T15:12:00.423273",
     "exception": false,
     "start_time": "2021-01-16T15:12:00.195795",
     "status": "completed"
    },
    "tags": []
   },
   "outputs": [
    {
     "data": {
      "text/plain": [
       "bodyType                  26\n",
       "brand                     13\n",
       "color                     16\n",
       "enginePower              400\n",
       "fuelType                   5\n",
       "mileage                28378\n",
       "modelDate                 79\n",
       "model_name              1288\n",
       "numberOfDoors              5\n",
       "productionDate            80\n",
       "vehicleTransmission        4\n",
       "Владельцы                  4\n",
       "ПТС                        2\n",
       "Привод                     3\n",
       "Руль                       2\n",
       "bodyType_mean             26\n",
       "brand_mean                13\n",
       "mil_per_year           35227\n",
       "age_of_model              32\n",
       "tms_pri                   12\n",
       "is_train                   2\n",
       "2                      28378\n",
       "6                      35227\n",
       "7                      48914\n",
       "11                     67741\n",
       "12                     37517\n",
       "13                     36949\n",
       "14                     39399\n",
       "15                     40893\n",
       "18                     45965\n",
       "20                     49226\n",
       "21                     54555\n",
       "dtype: int64"
      ]
     },
     "execution_count": 119,
     "metadata": {},
     "output_type": "execute_result"
    }
   ],
   "source": [
    "data.nunique()"
   ]
  },
  {
   "cell_type": "code",
   "execution_count": 120,
   "metadata": {
    "execution": {
     "iopub.execute_input": "2021-01-16T15:12:00.766674Z",
     "iopub.status.busy": "2021-01-16T15:12:00.764756Z",
     "iopub.status.idle": "2021-01-16T15:12:00.767329Z",
     "shell.execute_reply": "2021-01-16T15:12:00.767807Z"
    },
    "papermill": {
     "duration": 0.174889,
     "end_time": "2021-01-16T15:12:00.767928",
     "exception": false,
     "start_time": "2021-01-16T15:12:00.593039",
     "status": "completed"
    },
    "tags": []
   },
   "outputs": [],
   "source": [
    "columns = {'Владельцы' : 'num_owners', 'ПТС' : 'pts', 'Привод' : 'pri', 'Руль' : 'rull'}\n",
    "data.rename(columns=columns, inplace=True)\n",
    "\n",
    "cat_features = [columns[feat] if feat in columns else feat for feat in cat_features]\n",
    "# cat_features.remove('model_name')"
   ]
  },
  {
   "cell_type": "code",
   "execution_count": 121,
   "metadata": {
    "execution": {
     "iopub.execute_input": "2021-01-16T15:12:01.081370Z",
     "iopub.status.busy": "2021-01-16T15:12:01.080473Z",
     "iopub.status.idle": "2021-01-16T15:12:01.131407Z",
     "shell.execute_reply": "2021-01-16T15:12:01.130878Z"
    },
    "papermill": {
     "duration": 0.210339,
     "end_time": "2021-01-16T15:12:01.131538",
     "exception": false,
     "start_time": "2021-01-16T15:12:00.921199",
     "status": "completed"
    },
    "tags": []
   },
   "outputs": [],
   "source": [
    "X = data.query('is_train == 1').drop(['is_train'], axis=1)\n",
    "test = data.query('is_train == 0').drop(['is_train'], axis=1)"
   ]
  },
  {
   "cell_type": "code",
   "execution_count": 122,
   "metadata": {
    "execution": {
     "iopub.execute_input": "2021-01-16T15:12:01.444572Z",
     "iopub.status.busy": "2021-01-16T15:12:01.443943Z",
     "iopub.status.idle": "2021-01-16T15:12:01.495162Z",
     "shell.execute_reply": "2021-01-16T15:12:01.494451Z"
    },
    "papermill": {
     "duration": 0.210528,
     "end_time": "2021-01-16T15:12:01.495295",
     "exception": false,
     "start_time": "2021-01-16T15:12:01.284767",
     "status": "completed"
    },
    "tags": []
   },
   "outputs": [],
   "source": [
    "scaling_features = num_features + ['productionDate', 'age_of_model'] + data_num.columns.tolist()\n",
    "\n",
    "for feature in scaling_features:\n",
    "    scaler = StandardScaler()\n",
    "    X[feature] = scaler.fit_transform(X[feature].values.reshape(-1, 1))\n",
    "    test[feature] = scaler.transform(test[feature].values.reshape(-1, 1))"
   ]
  },
  {
   "cell_type": "markdown",
   "metadata": {
    "papermill": {
     "duration": 0.15421,
     "end_time": "2021-01-16T15:12:01.851924",
     "exception": false,
     "start_time": "2021-01-16T15:12:01.697714",
     "status": "completed"
    },
    "tags": []
   },
   "source": [
    "### Train validation split"
   ]
  },
  {
   "cell_type": "code",
   "execution_count": 123,
   "metadata": {
    "execution": {
     "iopub.execute_input": "2021-01-16T15:12:02.159326Z",
     "iopub.status.busy": "2021-01-16T15:12:02.158469Z",
     "iopub.status.idle": "2021-01-16T15:12:02.192257Z",
     "shell.execute_reply": "2021-01-16T15:12:02.191706Z"
    },
    "papermill": {
     "duration": 0.189994,
     "end_time": "2021-01-16T15:12:02.192364",
     "exception": false,
     "start_time": "2021-01-16T15:12:02.002370",
     "status": "completed"
    },
    "tags": []
   },
   "outputs": [],
   "source": [
    "X_train, X_test, y_train, y_test = train_test_split(X, y, test_size=VAL_SIZE, shuffle=True, random_state=RANDOM_SEED)"
   ]
  },
  {
   "cell_type": "markdown",
   "metadata": {
    "papermill": {
     "duration": 0.153181,
     "end_time": "2021-01-16T15:12:02.499304",
     "exception": false,
     "start_time": "2021-01-16T15:12:02.346123",
     "status": "completed"
    },
    "tags": []
   },
   "source": [
    "# Models"
   ]
  },
  {
   "cell_type": "markdown",
   "metadata": {
    "papermill": {
     "duration": 0.151086,
     "end_time": "2021-01-16T15:12:02.806933",
     "exception": false,
     "start_time": "2021-01-16T15:12:02.655847",
     "status": "completed"
    },
    "tags": []
   },
   "source": [
    "### RandomForestRegressor"
   ]
  },
  {
   "cell_type": "code",
   "execution_count": 124,
   "metadata": {
    "execution": {
     "iopub.execute_input": "2021-01-16T15:12:03.119052Z",
     "iopub.status.busy": "2021-01-16T15:12:03.117190Z",
     "iopub.status.idle": "2021-01-16T15:12:03.119730Z",
     "shell.execute_reply": "2021-01-16T15:12:03.120193Z"
    },
    "papermill": {
     "duration": 0.158747,
     "end_time": "2021-01-16T15:12:03.120311",
     "exception": false,
     "start_time": "2021-01-16T15:12:02.961564",
     "status": "completed"
    },
    "tags": []
   },
   "outputs": [],
   "source": [
    "# rf_reg = RandomForestRegressor(\n",
    "#     random_state=RANDOM_SEED, n_estimators=300, n_jobs=-1\n",
    "# )\n",
    "\n",
    "# rf_reg.fit(X_train, y_train)\n",
    "\n",
    "# rf_pred = rf_reg.predict(X_test)\n",
    "# print(f\"Точность модели по метрике MAPE: {(mape(np.exp(y_test), np.exp(rf_pred)))*100:0.2f}%\")"
   ]
  },
  {
   "cell_type": "code",
   "execution_count": 125,
   "metadata": {
    "execution": {
     "iopub.execute_input": "2021-01-16T15:12:03.427914Z",
     "iopub.status.busy": "2021-01-16T15:12:03.427002Z",
     "iopub.status.idle": "2021-01-16T15:12:03.430162Z",
     "shell.execute_reply": "2021-01-16T15:12:03.429669Z"
    },
    "papermill": {
     "duration": 0.160283,
     "end_time": "2021-01-16T15:12:03.430263",
     "exception": false,
     "start_time": "2021-01-16T15:12:03.269980",
     "status": "completed"
    },
    "tags": []
   },
   "outputs": [],
   "source": [
    "# n_estimators = [int(x) for x in np.linspace(start = 200, stop = 2000, num = 10)]\n",
    "# max_features = ['auto', 'sqrt']\n",
    "# max_depth = [int(x) for x in np.linspace(10, 110, num = 11)]\n",
    "# max_depth.append(None)\n",
    "# min_samples_split = [2, 5, 10]\n",
    "# min_samples_leaf = [1, 2, 4]\n",
    "# bootstrap = [True, False]\n",
    "\n",
    "# random_grid = {'n_estimators': n_estimators,\n",
    "#                'max_features': max_features,\n",
    "#                'max_depth': max_depth,\n",
    "#                'min_samples_split': min_samples_split,\n",
    "#                'min_samples_leaf': min_samples_leaf,\n",
    "#                'bootstrap': bootstrap}\n",
    "\n",
    "# rf = RandomForestRegressor()\n",
    "\n",
    "# rf_random = RandomizedSearchCV(\n",
    "#     estimator = rf, \n",
    "#     param_distributions = random_grid, \n",
    "#     n_iter = 10, \n",
    "#     cv = 5, \n",
    "#     verbose=2, \n",
    "#     random_state=RANDOM_SEED,\n",
    "#     n_jobs = -1\n",
    "# )\n",
    "\n",
    "# rf_random.fit(X_train, y_train)\n",
    "\n",
    "# rf_pred = rf_reg.predict(X_test)\n",
    "# print(f\"Точность модели по метрике MAPE: {(mape(np.exp(y_test), np.exp(rf_pred)))*100:0.2f}%\")"
   ]
  },
  {
   "cell_type": "markdown",
   "metadata": {
    "papermill": {
     "duration": 0.150574,
     "end_time": "2021-01-16T15:12:03.735505",
     "exception": false,
     "start_time": "2021-01-16T15:12:03.584931",
     "status": "completed"
    },
    "tags": []
   },
   "source": [
    "### Catboost Regressor"
   ]
  },
  {
   "cell_type": "code",
   "execution_count": 126,
   "metadata": {
    "execution": {
     "iopub.execute_input": "2021-01-16T15:12:04.042798Z",
     "iopub.status.busy": "2021-01-16T15:12:04.041903Z",
     "iopub.status.idle": "2021-01-16T15:12:04.044192Z",
     "shell.execute_reply": "2021-01-16T15:12:04.044681Z"
    },
    "papermill": {
     "duration": 0.158987,
     "end_time": "2021-01-16T15:12:04.044802",
     "exception": false,
     "start_time": "2021-01-16T15:12:03.885815",
     "status": "completed"
    },
    "tags": []
   },
   "outputs": [],
   "source": [
    "# model = CatBoostRegressor(\n",
    "#     iterations = ITERATIONS,\n",
    "#     learning_rate=0.1,\n",
    "#     depth=10,\n",
    "#     task_type='GPU',\n",
    "#     random_seed = RANDOM_SEED,\n",
    "#     eval_metric='MAPE'\n",
    "# )\n",
    "\n",
    "# # grid = {\n",
    "# #     'learning_rate': np.arange(0.01, 0.1, 0.005),\n",
    "# #     'depth': [4, 6, 10, 12],\n",
    "# #     'l2_leaf_reg': [1, 3, 5, 7, 9]\n",
    "# # }\n",
    "\n",
    "# # randomized_search_result = model.randomized_search(grid,\n",
    "# #                                                    X=X_train,\n",
    "# #                                                    y=y_train,\n",
    "# #                                                    plot=True)\n",
    "\n",
    "# model.fit(X_train, y_train,\n",
    "#          cat_features=cat_features,\n",
    "#          eval_set=(X_test, y_test),\n",
    "#          verbose_eval=100,\n",
    "#          use_best_model=True,\n",
    "#          plot=True\n",
    "# )\n",
    "\n",
    "\n",
    "# predict = model.predict(X_test)\n",
    "# print(f\"Точность модели по метрике MAPE: {(mape(np.exp(y_test), np.exp(predict)))*100:0.2f}%\")\n",
    "\n",
    "# feature_importances = pd.DataFrame()\n",
    "# feature_importances['name'] = model.feature_names_\n",
    "# feature_importances['importance'] = model.feature_importances_\n",
    "# feature_importances.sort_values('importance', ascending=False, ignore_index=True)\n",
    "\n",
    "\n",
    "# predict_submission = np.exp(model.predict(test))\n",
    "\n",
    "# sample_submission['price'] = predict_submission\n",
    "# sample_submission.to_csv(f'submission_catboost_v{VERSION}.csv', index=False)\n",
    "# sample_submission.head(10)"
   ]
  },
  {
   "cell_type": "markdown",
   "metadata": {
    "papermill": {
     "duration": 0.161079,
     "end_time": "2021-01-16T15:12:04.356242",
     "exception": false,
     "start_time": "2021-01-16T15:12:04.195163",
     "status": "completed"
    },
    "tags": []
   },
   "source": [
    "#### Catboost на LB показал ~20% что заметно хуже чем другие модели"
   ]
  },
  {
   "cell_type": "markdown",
   "metadata": {
    "papermill": {
     "duration": 0.156165,
     "end_time": "2021-01-16T15:12:04.681448",
     "exception": false,
     "start_time": "2021-01-16T15:12:04.525283",
     "status": "completed"
    },
    "tags": []
   },
   "source": [
    "## XGBOOST"
   ]
  },
  {
   "cell_type": "code",
   "execution_count": 127,
   "metadata": {
    "execution": {
     "iopub.execute_input": "2021-01-16T15:12:04.995250Z",
     "iopub.status.busy": "2021-01-16T15:12:04.994375Z",
     "iopub.status.idle": "2021-01-16T15:12:04.997377Z",
     "shell.execute_reply": "2021-01-16T15:12:04.996903Z"
    },
    "papermill": {
     "duration": 0.164112,
     "end_time": "2021-01-16T15:12:04.997475",
     "exception": false,
     "start_time": "2021-01-16T15:12:04.833363",
     "status": "completed"
    },
    "tags": []
   },
   "outputs": [],
   "source": [
    "# xgb_model = xgb.XGBRegressor(\n",
    "#     objective='reg:squarederror', tree_method='gpu_hist', sampling_method='gradient_based', seed=RANDOM_SEED\n",
    "# )\n",
    "\n",
    "# param_grid = {\n",
    "#     'n_estimators': np.arange(500, 2000, 100),\n",
    "#     'max_depth': [3, 5, 8, 10, 11, 13, 15, 18],\n",
    "#     'learning_rate': np.arange(0.005, 0.1, 0.0005),\n",
    "#     'subsample': np.arange(0.8, 1.0, 0.01),\n",
    "#     'colsample_bylevel': np.arange(0.7, 1.0, 0.05),\n",
    "#     'colsample_bytree': np.arange(0.7, 1.0, 0.05),\n",
    "#     'colsample_bynode': np.arange(0.7, 1.0, 0.05)\n",
    "# }\n",
    "\n",
    "# kfold = KFold(n_splits=5, shuffle=True, random_state=RANDOM_SEED)\n",
    "# scoring = make_scorer(mape)\n",
    "\n",
    "# grid_search = RandomizedSearchCV(xgb_model, param_grid, scoring=scoring, n_iter=2, cv=kfold)\n",
    "# grid_result = grid_search.fit(X_train,y_train)\n",
    "# grid_result.best_params_"
   ]
  },
  {
   "cell_type": "code",
   "execution_count": 128,
   "metadata": {
    "execution": {
     "iopub.execute_input": "2021-01-16T15:12:05.314622Z",
     "iopub.status.busy": "2021-01-16T15:12:05.313983Z",
     "iopub.status.idle": "2021-01-16T15:12:52.722859Z",
     "shell.execute_reply": "2021-01-16T15:12:52.723710Z"
    },
    "papermill": {
     "duration": 47.570991,
     "end_time": "2021-01-16T15:12:52.723909",
     "exception": false,
     "start_time": "2021-01-16T15:12:05.152918",
     "status": "completed"
    },
    "tags": []
   },
   "outputs": [
    {
     "data": {
      "text/plain": [
       "XGBRegressor(alpha=1, base_score=0.5, booster='gbtree', colsample_bylevel=1,\n",
       "             colsample_bynode=0.9, colsample_bytree=0.8, gamma=0, gpu_id=0,\n",
       "             importance_type='gain', interaction_constraints='',\n",
       "             learning_rate=0.05, max_delta_step=0, max_depth=11,\n",
       "             min_child_weight=1, missing=nan,\n",
       "             monotone_constraints='(0,0,0,0,0,0,0,0,0,0,0,0,0,0,0,0,0,0,0,0,0,0,0,0,0,0,0,0,0,0,0)',\n",
       "             n_estimators=1100, n_jobs=0, num_parallel_tree=1, random_state=42,\n",
       "             reg_alpha=1, reg_lambda=1, sampling_method='gradient_based',\n",
       "             scale_pos_weight=1, seed=42, subsample=0.95,\n",
       "             tree_method='gpu_hist', validate_parameters=1, verbosity=None)"
      ]
     },
     "execution_count": 128,
     "metadata": {},
     "output_type": "execute_result"
    }
   ],
   "source": [
    "xgb_model = xgb.XGBRegressor(\n",
    "    objective='reg:squarederror', tree_method='gpu_hist', sampling_method='gradient_based',\n",
    "    learning_rate=0.05, max_depth=11, n_estimators=1100, alpha=1, seed=RANDOM_SEED,\n",
    "    colsample_bytree=0.8, colsample_bynode=0.9, subsample=0.95\n",
    ")\n",
    "\n",
    "xgb_model.fit(X_train, y_train)\n",
    "\n",
    "# learning_rate=0.05, max_depth=11, n_estimators=1000, alpha=1    --->      12.50\n",
    "\n",
    "# learning_rate=0.05, max_depth=11, n_estimators=1100, alpha=1, colsample_bytree=0.8   --->     12.46\n",
    "\n",
    "# learning_rate=0.05, max_depth=11, n_estimators=1100, alpha=1,\n",
    "# colsample_bytree=0.8, colsample_bynode=0.9, subsample=0.95       --->      12.43  - 9.96512 LB"
   ]
  },
  {
   "cell_type": "code",
   "execution_count": 129,
   "metadata": {
    "execution": {
     "iopub.execute_input": "2021-01-16T15:12:53.190589Z",
     "iopub.status.busy": "2021-01-16T15:12:53.189722Z",
     "iopub.status.idle": "2021-01-16T15:12:56.778762Z",
     "shell.execute_reply": "2021-01-16T15:12:56.779803Z"
    },
    "papermill": {
     "duration": 3.835047,
     "end_time": "2021-01-16T15:12:56.779990",
     "exception": false,
     "start_time": "2021-01-16T15:12:52.944943",
     "status": "completed"
    },
    "tags": []
   },
   "outputs": [
    {
     "name": "stdout",
     "output_type": "stream",
     "text": [
      "Точность модели по метрике MAPE: 12.43%\n"
     ]
    }
   ],
   "source": [
    "xgb_pred = xgb_model.predict(X_test)\n",
    "print(f\"Точность модели по метрике MAPE: {(mape(np.exp(y_test), np.exp(xgb_pred)))*100:0.2f}%\")"
   ]
  },
  {
   "cell_type": "code",
   "execution_count": 130,
   "metadata": {
    "execution": {
     "iopub.execute_input": "2021-01-16T15:12:57.134543Z",
     "iopub.status.busy": "2021-01-16T15:12:57.133068Z",
     "iopub.status.idle": "2021-01-16T15:13:03.352717Z",
     "shell.execute_reply": "2021-01-16T15:13:03.351658Z"
    },
    "papermill": {
     "duration": 6.383606,
     "end_time": "2021-01-16T15:13:03.352845",
     "exception": false,
     "start_time": "2021-01-16T15:12:56.969239",
     "status": "completed"
    },
    "tags": []
   },
   "outputs": [
    {
     "data": {
      "text/html": [
       "<div>\n",
       "<style scoped>\n",
       "    .dataframe tbody tr th:only-of-type {\n",
       "        vertical-align: middle;\n",
       "    }\n",
       "\n",
       "    .dataframe tbody tr th {\n",
       "        vertical-align: top;\n",
       "    }\n",
       "\n",
       "    .dataframe thead th {\n",
       "        text-align: right;\n",
       "    }\n",
       "</style>\n",
       "<table border=\"1\" class=\"dataframe\">\n",
       "  <thead>\n",
       "    <tr style=\"text-align: right;\">\n",
       "      <th></th>\n",
       "      <th>sell_id</th>\n",
       "      <th>price</th>\n",
       "    </tr>\n",
       "  </thead>\n",
       "  <tbody>\n",
       "    <tr>\n",
       "      <th>0</th>\n",
       "      <td>1100575026</td>\n",
       "      <td>6.103541e+05</td>\n",
       "    </tr>\n",
       "    <tr>\n",
       "      <th>1</th>\n",
       "      <td>1100549428</td>\n",
       "      <td>9.263072e+05</td>\n",
       "    </tr>\n",
       "    <tr>\n",
       "      <th>2</th>\n",
       "      <td>1100658222</td>\n",
       "      <td>9.127136e+05</td>\n",
       "    </tr>\n",
       "    <tr>\n",
       "      <th>3</th>\n",
       "      <td>1100937408</td>\n",
       "      <td>7.357481e+05</td>\n",
       "    </tr>\n",
       "    <tr>\n",
       "      <th>4</th>\n",
       "      <td>1101037972</td>\n",
       "      <td>7.562801e+05</td>\n",
       "    </tr>\n",
       "    <tr>\n",
       "      <th>5</th>\n",
       "      <td>1100912634</td>\n",
       "      <td>7.618410e+05</td>\n",
       "    </tr>\n",
       "    <tr>\n",
       "      <th>6</th>\n",
       "      <td>1101228730</td>\n",
       "      <td>5.956781e+05</td>\n",
       "    </tr>\n",
       "    <tr>\n",
       "      <th>7</th>\n",
       "      <td>1100165896</td>\n",
       "      <td>3.734654e+05</td>\n",
       "    </tr>\n",
       "    <tr>\n",
       "      <th>8</th>\n",
       "      <td>1100768262</td>\n",
       "      <td>1.957840e+06</td>\n",
       "    </tr>\n",
       "    <tr>\n",
       "      <th>9</th>\n",
       "      <td>1101218501</td>\n",
       "      <td>8.064599e+05</td>\n",
       "    </tr>\n",
       "  </tbody>\n",
       "</table>\n",
       "</div>"
      ],
      "text/plain": [
       "      sell_id         price\n",
       "0  1100575026  6.103541e+05\n",
       "1  1100549428  9.263072e+05\n",
       "2  1100658222  9.127136e+05\n",
       "3  1100937408  7.357481e+05\n",
       "4  1101037972  7.562801e+05\n",
       "5  1100912634  7.618410e+05\n",
       "6  1101228730  5.956781e+05\n",
       "7  1100165896  3.734654e+05\n",
       "8  1100768262  1.957840e+06\n",
       "9  1101218501  8.064599e+05"
      ]
     },
     "execution_count": 130,
     "metadata": {},
     "output_type": "execute_result"
    }
   ],
   "source": [
    "predict_submission = np.exp(xgb_model.predict(test))\n",
    "\n",
    "sample_submission_final['price_xgb'] = predict_submission\n",
    "sample_submission['price'] = predict_submission\n",
    "sample_submission.to_csv(f'submission_xgb_v{VERSION}.csv', index=False)\n",
    "sample_submission.head(10)"
   ]
  },
  {
   "cell_type": "markdown",
   "metadata": {
    "papermill": {
     "duration": 0.154812,
     "end_time": "2021-01-16T15:13:03.662963",
     "exception": false,
     "start_time": "2021-01-16T15:13:03.508151",
     "status": "completed"
    },
    "tags": []
   },
   "source": [
    "#### XGBOOST Regressor score in LB is 9.96512"
   ]
  },
  {
   "cell_type": "markdown",
   "metadata": {
    "papermill": {
     "duration": 0.152017,
     "end_time": "2021-01-16T15:13:03.966666",
     "exception": false,
     "start_time": "2021-01-16T15:13:03.814649",
     "status": "completed"
    },
    "tags": []
   },
   "source": [
    "## LGBM"
   ]
  },
  {
   "cell_type": "code",
   "execution_count": 131,
   "metadata": {
    "execution": {
     "iopub.execute_input": "2021-01-16T15:13:04.283594Z",
     "iopub.status.busy": "2021-01-16T15:13:04.282250Z",
     "iopub.status.idle": "2021-01-16T15:14:41.786714Z",
     "shell.execute_reply": "2021-01-16T15:14:41.787647Z"
    },
    "papermill": {
     "duration": 97.666791,
     "end_time": "2021-01-16T15:14:41.787818",
     "exception": false,
     "start_time": "2021-01-16T15:13:04.121027",
     "status": "completed"
    },
    "tags": []
   },
   "outputs": [
    {
     "name": "stdout",
     "output_type": "stream",
     "text": [
      "[1]\tvalid_0's mape: 0.0594522\n",
      "Training until validation scores don't improve for 100 rounds\n",
      "[2]\tvalid_0's mape: 0.0583302\n",
      "[3]\tvalid_0's mape: 0.0572329\n",
      "[4]\tvalid_0's mape: 0.0561685\n",
      "[5]\tvalid_0's mape: 0.0551311\n",
      "[6]\tvalid_0's mape: 0.0541013\n",
      "[7]\tvalid_0's mape: 0.0531016\n",
      "[8]\tvalid_0's mape: 0.0521264\n",
      "[9]\tvalid_0's mape: 0.0511667\n",
      "[10]\tvalid_0's mape: 0.0502186\n",
      "[11]\tvalid_0's mape: 0.0493062\n",
      "[12]\tvalid_0's mape: 0.0483897\n",
      "[13]\tvalid_0's mape: 0.0474986\n",
      "[14]\tvalid_0's mape: 0.0466249\n",
      "[15]\tvalid_0's mape: 0.0457677\n",
      "[16]\tvalid_0's mape: 0.0449249\n",
      "[17]\tvalid_0's mape: 0.0441201\n",
      "[18]\tvalid_0's mape: 0.0433151\n",
      "[19]\tvalid_0's mape: 0.0425264\n",
      "[20]\tvalid_0's mape: 0.0417757\n",
      "[21]\tvalid_0's mape: 0.0410239\n",
      "[22]\tvalid_0's mape: 0.0403031\n",
      "[23]\tvalid_0's mape: 0.0395884\n",
      "[24]\tvalid_0's mape: 0.0388868\n",
      "[25]\tvalid_0's mape: 0.0382098\n",
      "[26]\tvalid_0's mape: 0.0375294\n",
      "[27]\tvalid_0's mape: 0.03686\n",
      "[28]\tvalid_0's mape: 0.0362075\n",
      "[29]\tvalid_0's mape: 0.0355696\n",
      "[30]\tvalid_0's mape: 0.0349416\n",
      "[31]\tvalid_0's mape: 0.03433\n",
      "[32]\tvalid_0's mape: 0.0337314\n",
      "[33]\tvalid_0's mape: 0.0331468\n",
      "[34]\tvalid_0's mape: 0.0325744\n",
      "[35]\tvalid_0's mape: 0.0320248\n",
      "[36]\tvalid_0's mape: 0.0314891\n",
      "[37]\tvalid_0's mape: 0.0309582\n",
      "[38]\tvalid_0's mape: 0.0304427\n",
      "[39]\tvalid_0's mape: 0.0299281\n",
      "[40]\tvalid_0's mape: 0.0294367\n",
      "[41]\tvalid_0's mape: 0.0289446\n",
      "[42]\tvalid_0's mape: 0.0284653\n",
      "[43]\tvalid_0's mape: 0.028018\n",
      "[44]\tvalid_0's mape: 0.0275631\n",
      "[45]\tvalid_0's mape: 0.0271271\n",
      "[46]\tvalid_0's mape: 0.0266911\n",
      "[47]\tvalid_0's mape: 0.0262573\n",
      "[48]\tvalid_0's mape: 0.0258444\n",
      "[49]\tvalid_0's mape: 0.0254308\n",
      "[50]\tvalid_0's mape: 0.0250298\n",
      "[51]\tvalid_0's mape: 0.0246378\n",
      "[52]\tvalid_0's mape: 0.0242507\n",
      "[53]\tvalid_0's mape: 0.0238885\n",
      "[54]\tvalid_0's mape: 0.0235276\n",
      "[55]\tvalid_0's mape: 0.0231829\n",
      "[56]\tvalid_0's mape: 0.0228395\n",
      "[57]\tvalid_0's mape: 0.0224995\n",
      "[58]\tvalid_0's mape: 0.0221662\n",
      "[59]\tvalid_0's mape: 0.0218392\n",
      "[60]\tvalid_0's mape: 0.0215225\n",
      "[61]\tvalid_0's mape: 0.0212097\n",
      "[62]\tvalid_0's mape: 0.0209088\n",
      "[63]\tvalid_0's mape: 0.0206136\n",
      "[64]\tvalid_0's mape: 0.0203273\n",
      "[65]\tvalid_0's mape: 0.0200494\n",
      "[66]\tvalid_0's mape: 0.0197721\n",
      "[67]\tvalid_0's mape: 0.0195088\n",
      "[68]\tvalid_0's mape: 0.0192454\n",
      "[69]\tvalid_0's mape: 0.0189994\n",
      "[70]\tvalid_0's mape: 0.0187486\n",
      "[71]\tvalid_0's mape: 0.0185051\n",
      "[72]\tvalid_0's mape: 0.0182703\n",
      "[73]\tvalid_0's mape: 0.0180378\n",
      "[74]\tvalid_0's mape: 0.0178153\n",
      "[75]\tvalid_0's mape: 0.0175969\n",
      "[76]\tvalid_0's mape: 0.0173811\n",
      "[77]\tvalid_0's mape: 0.0171746\n",
      "[78]\tvalid_0's mape: 0.0169708\n",
      "[79]\tvalid_0's mape: 0.0167718\n",
      "[80]\tvalid_0's mape: 0.0165769\n",
      "[81]\tvalid_0's mape: 0.0163895\n",
      "[82]\tvalid_0's mape: 0.0162065\n",
      "[83]\tvalid_0's mape: 0.0160317\n",
      "[84]\tvalid_0's mape: 0.0158603\n",
      "[85]\tvalid_0's mape: 0.015691\n",
      "[86]\tvalid_0's mape: 0.0155248\n",
      "[87]\tvalid_0's mape: 0.0153673\n",
      "[88]\tvalid_0's mape: 0.0152163\n",
      "[89]\tvalid_0's mape: 0.0150617\n",
      "[90]\tvalid_0's mape: 0.0149124\n",
      "[91]\tvalid_0's mape: 0.0147695\n",
      "[92]\tvalid_0's mape: 0.0146267\n",
      "[93]\tvalid_0's mape: 0.0144921\n",
      "[94]\tvalid_0's mape: 0.0143618\n",
      "[95]\tvalid_0's mape: 0.0142337\n",
      "[96]\tvalid_0's mape: 0.0141145\n",
      "[97]\tvalid_0's mape: 0.0139918\n",
      "[98]\tvalid_0's mape: 0.0138727\n",
      "[99]\tvalid_0's mape: 0.0137594\n",
      "[100]\tvalid_0's mape: 0.0136559\n",
      "[101]\tvalid_0's mape: 0.0135464\n",
      "[102]\tvalid_0's mape: 0.013443\n",
      "[103]\tvalid_0's mape: 0.0133376\n",
      "[104]\tvalid_0's mape: 0.013236\n",
      "[105]\tvalid_0's mape: 0.0131436\n",
      "[106]\tvalid_0's mape: 0.0130469\n",
      "[107]\tvalid_0's mape: 0.0129537\n",
      "[108]\tvalid_0's mape: 0.012868\n",
      "[109]\tvalid_0's mape: 0.0127799\n",
      "[110]\tvalid_0's mape: 0.0126948\n",
      "[111]\tvalid_0's mape: 0.0126141\n",
      "[112]\tvalid_0's mape: 0.0125338\n",
      "[113]\tvalid_0's mape: 0.0124546\n",
      "[114]\tvalid_0's mape: 0.0123807\n",
      "[115]\tvalid_0's mape: 0.0123092\n",
      "[116]\tvalid_0's mape: 0.0122369\n",
      "[117]\tvalid_0's mape: 0.0121636\n",
      "[118]\tvalid_0's mape: 0.0121025\n",
      "[119]\tvalid_0's mape: 0.0120362\n",
      "[120]\tvalid_0's mape: 0.0119706\n",
      "[121]\tvalid_0's mape: 0.0119103\n",
      "[122]\tvalid_0's mape: 0.0118543\n",
      "[123]\tvalid_0's mape: 0.0117971\n",
      "[124]\tvalid_0's mape: 0.0117381\n",
      "[125]\tvalid_0's mape: 0.0116841\n",
      "[126]\tvalid_0's mape: 0.0116291\n",
      "[127]\tvalid_0's mape: 0.0115765\n",
      "[128]\tvalid_0's mape: 0.011529\n",
      "[129]\tvalid_0's mape: 0.01148\n",
      "[130]\tvalid_0's mape: 0.0114307\n",
      "[131]\tvalid_0's mape: 0.011385\n",
      "[132]\tvalid_0's mape: 0.0113433\n",
      "[133]\tvalid_0's mape: 0.0112988\n",
      "[134]\tvalid_0's mape: 0.0112577\n",
      "[135]\tvalid_0's mape: 0.0112149\n",
      "[136]\tvalid_0's mape: 0.0111772\n",
      "[137]\tvalid_0's mape: 0.0111418\n",
      "[138]\tvalid_0's mape: 0.0111035\n",
      "[139]\tvalid_0's mape: 0.0110675\n",
      "[140]\tvalid_0's mape: 0.0110327\n",
      "[141]\tvalid_0's mape: 0.0110001\n",
      "[142]\tvalid_0's mape: 0.0109663\n",
      "[143]\tvalid_0's mape: 0.0109341\n",
      "[144]\tvalid_0's mape: 0.0108987\n",
      "[145]\tvalid_0's mape: 0.0108691\n",
      "[146]\tvalid_0's mape: 0.0108379\n",
      "[147]\tvalid_0's mape: 0.010807\n",
      "[148]\tvalid_0's mape: 0.0107776\n",
      "[149]\tvalid_0's mape: 0.01075\n",
      "[150]\tvalid_0's mape: 0.0107232\n",
      "[151]\tvalid_0's mape: 0.0106968\n",
      "[152]\tvalid_0's mape: 0.0106705\n",
      "[153]\tvalid_0's mape: 0.0106463\n",
      "[154]\tvalid_0's mape: 0.0106224\n",
      "[155]\tvalid_0's mape: 0.0105998\n",
      "[156]\tvalid_0's mape: 0.0105782\n",
      "[157]\tvalid_0's mape: 0.0105537\n",
      "[158]\tvalid_0's mape: 0.0105331\n",
      "[159]\tvalid_0's mape: 0.0105113\n",
      "[160]\tvalid_0's mape: 0.0104886\n",
      "[161]\tvalid_0's mape: 0.0104692\n",
      "[162]\tvalid_0's mape: 0.01045\n",
      "[163]\tvalid_0's mape: 0.0104331\n",
      "[164]\tvalid_0's mape: 0.0104162\n",
      "[165]\tvalid_0's mape: 0.010399\n",
      "[166]\tvalid_0's mape: 0.010384\n",
      "[167]\tvalid_0's mape: 0.0103677\n",
      "[168]\tvalid_0's mape: 0.0103492\n",
      "[169]\tvalid_0's mape: 0.0103297\n",
      "[170]\tvalid_0's mape: 0.0103146\n",
      "[171]\tvalid_0's mape: 0.0102995\n",
      "[172]\tvalid_0's mape: 0.0102819\n",
      "[173]\tvalid_0's mape: 0.0102676\n",
      "[174]\tvalid_0's mape: 0.0102533\n",
      "[175]\tvalid_0's mape: 0.0102408\n",
      "[176]\tvalid_0's mape: 0.0102288\n",
      "[177]\tvalid_0's mape: 0.0102133\n",
      "[178]\tvalid_0's mape: 0.0102003\n",
      "[179]\tvalid_0's mape: 0.0101905\n",
      "[180]\tvalid_0's mape: 0.010179\n",
      "[181]\tvalid_0's mape: 0.0101667\n",
      "[182]\tvalid_0's mape: 0.0101569\n",
      "[183]\tvalid_0's mape: 0.010144\n",
      "[184]\tvalid_0's mape: 0.0101349\n",
      "[185]\tvalid_0's mape: 0.010127\n",
      "[186]\tvalid_0's mape: 0.0101134\n",
      "[187]\tvalid_0's mape: 0.0100998\n",
      "[188]\tvalid_0's mape: 0.0100902\n",
      "[189]\tvalid_0's mape: 0.0100788\n",
      "[190]\tvalid_0's mape: 0.0100675\n",
      "[191]\tvalid_0's mape: 0.0100596\n",
      "[192]\tvalid_0's mape: 0.0100503\n",
      "[193]\tvalid_0's mape: 0.0100423\n",
      "[194]\tvalid_0's mape: 0.0100342\n",
      "[195]\tvalid_0's mape: 0.0100252\n",
      "[196]\tvalid_0's mape: 0.0100174\n",
      "[197]\tvalid_0's mape: 0.0100091\n",
      "[198]\tvalid_0's mape: 0.00999994\n",
      "[199]\tvalid_0's mape: 0.0099909\n",
      "[200]\tvalid_0's mape: 0.00998494\n",
      "[201]\tvalid_0's mape: 0.00997557\n",
      "[202]\tvalid_0's mape: 0.00997\n",
      "[203]\tvalid_0's mape: 0.00996188\n",
      "[204]\tvalid_0's mape: 0.00995312\n",
      "[205]\tvalid_0's mape: 0.00994719\n",
      "[206]\tvalid_0's mape: 0.00993947\n",
      "[207]\tvalid_0's mape: 0.00993418\n",
      "[208]\tvalid_0's mape: 0.00992777\n",
      "[209]\tvalid_0's mape: 0.00992344\n",
      "[210]\tvalid_0's mape: 0.00991736\n",
      "[211]\tvalid_0's mape: 0.0099116\n",
      "[212]\tvalid_0's mape: 0.00990753\n",
      "[213]\tvalid_0's mape: 0.00990186\n",
      "[214]\tvalid_0's mape: 0.00989525\n",
      "[215]\tvalid_0's mape: 0.00989161\n",
      "[216]\tvalid_0's mape: 0.00988582\n",
      "[217]\tvalid_0's mape: 0.00988081\n",
      "[218]\tvalid_0's mape: 0.00987633\n",
      "[219]\tvalid_0's mape: 0.00987002\n",
      "[220]\tvalid_0's mape: 0.00986264\n",
      "[221]\tvalid_0's mape: 0.00985902\n",
      "[222]\tvalid_0's mape: 0.00985548\n",
      "[223]\tvalid_0's mape: 0.00985327\n",
      "[224]\tvalid_0's mape: 0.0098499\n",
      "[225]\tvalid_0's mape: 0.00984546\n",
      "[226]\tvalid_0's mape: 0.00983853\n",
      "[227]\tvalid_0's mape: 0.00983303\n",
      "[228]\tvalid_0's mape: 0.0098296\n",
      "[229]\tvalid_0's mape: 0.0098239\n",
      "[230]\tvalid_0's mape: 0.00981811\n",
      "[231]\tvalid_0's mape: 0.00981573\n",
      "[232]\tvalid_0's mape: 0.00981169\n",
      "[233]\tvalid_0's mape: 0.00980332\n",
      "[234]\tvalid_0's mape: 0.00979922\n",
      "[235]\tvalid_0's mape: 0.00979239\n",
      "[236]\tvalid_0's mape: 0.00979052\n",
      "[237]\tvalid_0's mape: 0.00978869\n",
      "[238]\tvalid_0's mape: 0.00978349\n",
      "[239]\tvalid_0's mape: 0.00977782\n",
      "[240]\tvalid_0's mape: 0.00977365\n",
      "[241]\tvalid_0's mape: 0.00977003\n",
      "[242]\tvalid_0's mape: 0.00976734\n",
      "[243]\tvalid_0's mape: 0.009765\n",
      "[244]\tvalid_0's mape: 0.00976136\n",
      "[245]\tvalid_0's mape: 0.00975658\n",
      "[246]\tvalid_0's mape: 0.00975252\n",
      "[247]\tvalid_0's mape: 0.0097513\n",
      "[248]\tvalid_0's mape: 0.00974676\n",
      "[249]\tvalid_0's mape: 0.00974291\n",
      "[250]\tvalid_0's mape: 0.00974234\n",
      "[251]\tvalid_0's mape: 0.00974005\n",
      "[252]\tvalid_0's mape: 0.00973591\n",
      "[253]\tvalid_0's mape: 0.00973298\n",
      "[254]\tvalid_0's mape: 0.0097298\n",
      "[255]\tvalid_0's mape: 0.00972819\n",
      "[256]\tvalid_0's mape: 0.00972621\n",
      "[257]\tvalid_0's mape: 0.00972447\n",
      "[258]\tvalid_0's mape: 0.00972213\n",
      "[259]\tvalid_0's mape: 0.00972009\n",
      "[260]\tvalid_0's mape: 0.0097188\n",
      "[261]\tvalid_0's mape: 0.00971744\n",
      "[262]\tvalid_0's mape: 0.00971569\n",
      "[263]\tvalid_0's mape: 0.00971142\n",
      "[264]\tvalid_0's mape: 0.00970953\n",
      "[265]\tvalid_0's mape: 0.00970572\n",
      "[266]\tvalid_0's mape: 0.00970382\n",
      "[267]\tvalid_0's mape: 0.00969998\n",
      "[268]\tvalid_0's mape: 0.00969733\n",
      "[269]\tvalid_0's mape: 0.00969691\n",
      "[270]\tvalid_0's mape: 0.00969296\n",
      "[271]\tvalid_0's mape: 0.00969144\n",
      "[272]\tvalid_0's mape: 0.0096901\n",
      "[273]\tvalid_0's mape: 0.00968868\n",
      "[274]\tvalid_0's mape: 0.00968646\n",
      "[275]\tvalid_0's mape: 0.00968518\n",
      "[276]\tvalid_0's mape: 0.00968471\n",
      "[277]\tvalid_0's mape: 0.00968302\n",
      "[278]\tvalid_0's mape: 0.00968097\n",
      "[279]\tvalid_0's mape: 0.00967994\n",
      "[280]\tvalid_0's mape: 0.00967904\n",
      "[281]\tvalid_0's mape: 0.00967802\n",
      "[282]\tvalid_0's mape: 0.00967371\n",
      "[283]\tvalid_0's mape: 0.00966999\n",
      "[284]\tvalid_0's mape: 0.00966939\n",
      "[285]\tvalid_0's mape: 0.00966598\n",
      "[286]\tvalid_0's mape: 0.0096648\n",
      "[287]\tvalid_0's mape: 0.00966328\n",
      "[288]\tvalid_0's mape: 0.0096602\n",
      "[289]\tvalid_0's mape: 0.00965941\n",
      "[290]\tvalid_0's mape: 0.00965614\n",
      "[291]\tvalid_0's mape: 0.00965517\n",
      "[292]\tvalid_0's mape: 0.00965249\n",
      "[293]\tvalid_0's mape: 0.00965064\n",
      "[294]\tvalid_0's mape: 0.00964854\n",
      "[295]\tvalid_0's mape: 0.00964752\n",
      "[296]\tvalid_0's mape: 0.00964642\n",
      "[297]\tvalid_0's mape: 0.00964569\n",
      "[298]\tvalid_0's mape: 0.0096444\n",
      "[299]\tvalid_0's mape: 0.00964174\n",
      "[300]\tvalid_0's mape: 0.00964047\n",
      "[301]\tvalid_0's mape: 0.00963686\n",
      "[302]\tvalid_0's mape: 0.00963624\n",
      "[303]\tvalid_0's mape: 0.00963364\n",
      "[304]\tvalid_0's mape: 0.00963265\n",
      "[305]\tvalid_0's mape: 0.0096313\n",
      "[306]\tvalid_0's mape: 0.00963081\n",
      "[307]\tvalid_0's mape: 0.00962995\n",
      "[308]\tvalid_0's mape: 0.00962886\n",
      "[309]\tvalid_0's mape: 0.00962828\n",
      "[310]\tvalid_0's mape: 0.00962575\n",
      "[311]\tvalid_0's mape: 0.00962392\n",
      "[312]\tvalid_0's mape: 0.00962237\n",
      "[313]\tvalid_0's mape: 0.00962132\n",
      "[314]\tvalid_0's mape: 0.00961758\n",
      "[315]\tvalid_0's mape: 0.00961651\n",
      "[316]\tvalid_0's mape: 0.00961006\n",
      "[317]\tvalid_0's mape: 0.00960425\n",
      "[318]\tvalid_0's mape: 0.00960176\n",
      "[319]\tvalid_0's mape: 0.00960057\n",
      "[320]\tvalid_0's mape: 0.00959644\n",
      "[321]\tvalid_0's mape: 0.00959129\n",
      "[322]\tvalid_0's mape: 0.00958932\n",
      "[323]\tvalid_0's mape: 0.00958841\n",
      "[324]\tvalid_0's mape: 0.00958616\n",
      "[325]\tvalid_0's mape: 0.00957957\n",
      "[326]\tvalid_0's mape: 0.00957879\n",
      "[327]\tvalid_0's mape: 0.00957436\n",
      "[328]\tvalid_0's mape: 0.00957388\n",
      "[329]\tvalid_0's mape: 0.00957244\n",
      "[330]\tvalid_0's mape: 0.00957146\n",
      "[331]\tvalid_0's mape: 0.00956851\n",
      "[332]\tvalid_0's mape: 0.00956676\n",
      "[333]\tvalid_0's mape: 0.00956581\n",
      "[334]\tvalid_0's mape: 0.0095649\n",
      "[335]\tvalid_0's mape: 0.00956211\n",
      "[336]\tvalid_0's mape: 0.00956177\n",
      "[337]\tvalid_0's mape: 0.00955981\n",
      "[338]\tvalid_0's mape: 0.00955781\n",
      "[339]\tvalid_0's mape: 0.00955609\n",
      "[340]\tvalid_0's mape: 0.009552\n",
      "[341]\tvalid_0's mape: 0.00954811\n",
      "[342]\tvalid_0's mape: 0.00954758\n",
      "[343]\tvalid_0's mape: 0.00954246\n",
      "[344]\tvalid_0's mape: 0.00954213\n",
      "[345]\tvalid_0's mape: 0.00954172\n",
      "[346]\tvalid_0's mape: 0.00953946\n",
      "[347]\tvalid_0's mape: 0.00953629\n",
      "[348]\tvalid_0's mape: 0.00953533\n",
      "[349]\tvalid_0's mape: 0.00953253\n",
      "[350]\tvalid_0's mape: 0.00953217\n",
      "[351]\tvalid_0's mape: 0.00952716\n",
      "[352]\tvalid_0's mape: 0.00952663\n",
      "[353]\tvalid_0's mape: 0.00952438\n",
      "[354]\tvalid_0's mape: 0.00952375\n",
      "[355]\tvalid_0's mape: 0.00952379\n",
      "[356]\tvalid_0's mape: 0.00952139\n",
      "[357]\tvalid_0's mape: 0.00951958\n",
      "[358]\tvalid_0's mape: 0.00951811\n",
      "[359]\tvalid_0's mape: 0.00951589\n",
      "[360]\tvalid_0's mape: 0.00951428\n",
      "[361]\tvalid_0's mape: 0.00951296\n",
      "[362]\tvalid_0's mape: 0.0095113\n",
      "[363]\tvalid_0's mape: 0.00950984\n",
      "[364]\tvalid_0's mape: 0.00950813\n",
      "[365]\tvalid_0's mape: 0.00950672\n",
      "[366]\tvalid_0's mape: 0.00950631\n",
      "[367]\tvalid_0's mape: 0.00950525\n",
      "[368]\tvalid_0's mape: 0.0095052\n",
      "[369]\tvalid_0's mape: 0.00950395\n",
      "[370]\tvalid_0's mape: 0.00950182\n",
      "[371]\tvalid_0's mape: 0.00950007\n",
      "[372]\tvalid_0's mape: 0.00949914\n",
      "[373]\tvalid_0's mape: 0.00949817\n",
      "[374]\tvalid_0's mape: 0.00949695\n",
      "[375]\tvalid_0's mape: 0.00949586\n",
      "[376]\tvalid_0's mape: 0.00949211\n",
      "[377]\tvalid_0's mape: 0.00949072\n",
      "[378]\tvalid_0's mape: 0.00948734\n",
      "[379]\tvalid_0's mape: 0.00948706\n",
      "[380]\tvalid_0's mape: 0.0094865\n",
      "[381]\tvalid_0's mape: 0.00948584\n",
      "[382]\tvalid_0's mape: 0.00948545\n",
      "[383]\tvalid_0's mape: 0.00948499\n",
      "[384]\tvalid_0's mape: 0.00948228\n",
      "[385]\tvalid_0's mape: 0.00947854\n",
      "[386]\tvalid_0's mape: 0.00947494\n",
      "[387]\tvalid_0's mape: 0.00947418\n",
      "[388]\tvalid_0's mape: 0.00947181\n",
      "[389]\tvalid_0's mape: 0.00947159\n",
      "[390]\tvalid_0's mape: 0.00947133\n",
      "[391]\tvalid_0's mape: 0.00947069\n",
      "[392]\tvalid_0's mape: 0.00947048\n",
      "[393]\tvalid_0's mape: 0.00947039\n",
      "[394]\tvalid_0's mape: 0.00946987\n",
      "[395]\tvalid_0's mape: 0.00946974\n",
      "[396]\tvalid_0's mape: 0.00946663\n",
      "[397]\tvalid_0's mape: 0.00946636\n",
      "[398]\tvalid_0's mape: 0.00946435\n",
      "[399]\tvalid_0's mape: 0.00946201\n",
      "[400]\tvalid_0's mape: 0.0094617\n",
      "[401]\tvalid_0's mape: 0.00946027\n",
      "[402]\tvalid_0's mape: 0.00945927\n",
      "[403]\tvalid_0's mape: 0.00945772\n",
      "[404]\tvalid_0's mape: 0.00945585\n",
      "[405]\tvalid_0's mape: 0.0094553\n",
      "[406]\tvalid_0's mape: 0.00945516\n",
      "[407]\tvalid_0's mape: 0.00945412\n",
      "[408]\tvalid_0's mape: 0.00945363\n",
      "[409]\tvalid_0's mape: 0.0094534\n",
      "[410]\tvalid_0's mape: 0.00945288\n",
      "[411]\tvalid_0's mape: 0.00945149\n",
      "[412]\tvalid_0's mape: 0.00945044\n",
      "[413]\tvalid_0's mape: 0.00945007\n",
      "[414]\tvalid_0's mape: 0.00944968\n",
      "[415]\tvalid_0's mape: 0.00944823\n",
      "[416]\tvalid_0's mape: 0.00944798\n",
      "[417]\tvalid_0's mape: 0.00944758\n",
      "[418]\tvalid_0's mape: 0.00944644\n",
      "[419]\tvalid_0's mape: 0.00944592\n",
      "[420]\tvalid_0's mape: 0.00944532\n",
      "[421]\tvalid_0's mape: 0.00944557\n",
      "[422]\tvalid_0's mape: 0.00944341\n",
      "[423]\tvalid_0's mape: 0.00944259\n",
      "[424]\tvalid_0's mape: 0.00944224\n",
      "[425]\tvalid_0's mape: 0.00944135\n",
      "[426]\tvalid_0's mape: 0.00944038\n",
      "[427]\tvalid_0's mape: 0.00943999\n",
      "[428]\tvalid_0's mape: 0.00943942\n",
      "[429]\tvalid_0's mape: 0.00943846\n",
      "[430]\tvalid_0's mape: 0.00943704\n",
      "[431]\tvalid_0's mape: 0.00943619\n",
      "[432]\tvalid_0's mape: 0.00943486\n",
      "[433]\tvalid_0's mape: 0.00943451\n",
      "[434]\tvalid_0's mape: 0.00943411\n",
      "[435]\tvalid_0's mape: 0.00943335\n",
      "[436]\tvalid_0's mape: 0.00943298\n",
      "[437]\tvalid_0's mape: 0.00943226\n",
      "[438]\tvalid_0's mape: 0.00943192\n",
      "[439]\tvalid_0's mape: 0.00943163\n",
      "[440]\tvalid_0's mape: 0.00943085\n",
      "[441]\tvalid_0's mape: 0.00943055\n",
      "[442]\tvalid_0's mape: 0.00942958\n",
      "[443]\tvalid_0's mape: 0.00942916\n",
      "[444]\tvalid_0's mape: 0.00942865\n",
      "[445]\tvalid_0's mape: 0.0094281\n",
      "[446]\tvalid_0's mape: 0.0094263\n",
      "[447]\tvalid_0's mape: 0.00942581\n",
      "[448]\tvalid_0's mape: 0.00942542\n",
      "[449]\tvalid_0's mape: 0.00942499\n",
      "[450]\tvalid_0's mape: 0.00942464\n",
      "[451]\tvalid_0's mape: 0.00942395\n",
      "[452]\tvalid_0's mape: 0.00942349\n",
      "[453]\tvalid_0's mape: 0.00942232\n",
      "[454]\tvalid_0's mape: 0.00942215\n",
      "[455]\tvalid_0's mape: 0.00942175\n",
      "[456]\tvalid_0's mape: 0.00942073\n",
      "[457]\tvalid_0's mape: 0.00942054\n",
      "[458]\tvalid_0's mape: 0.00942023\n",
      "[459]\tvalid_0's mape: 0.00941878\n",
      "[460]\tvalid_0's mape: 0.00941846\n",
      "[461]\tvalid_0's mape: 0.00941781\n",
      "[462]\tvalid_0's mape: 0.00941746\n",
      "[463]\tvalid_0's mape: 0.00941751\n",
      "[464]\tvalid_0's mape: 0.00941689\n",
      "[465]\tvalid_0's mape: 0.00941618\n",
      "[466]\tvalid_0's mape: 0.0094162\n",
      "[467]\tvalid_0's mape: 0.00941599\n",
      "[468]\tvalid_0's mape: 0.00941404\n",
      "[469]\tvalid_0's mape: 0.00941363\n",
      "[470]\tvalid_0's mape: 0.00941337\n",
      "[471]\tvalid_0's mape: 0.00941273\n",
      "[472]\tvalid_0's mape: 0.00941234\n",
      "[473]\tvalid_0's mape: 0.00941226\n",
      "[474]\tvalid_0's mape: 0.00941111\n",
      "[475]\tvalid_0's mape: 0.00941046\n",
      "[476]\tvalid_0's mape: 0.00941032\n",
      "[477]\tvalid_0's mape: 0.00940731\n",
      "[478]\tvalid_0's mape: 0.00940718\n",
      "[479]\tvalid_0's mape: 0.00940469\n",
      "[480]\tvalid_0's mape: 0.00940411\n",
      "[481]\tvalid_0's mape: 0.00940347\n",
      "[482]\tvalid_0's mape: 0.00940316\n",
      "[483]\tvalid_0's mape: 0.00940295\n",
      "[484]\tvalid_0's mape: 0.00940291\n",
      "[485]\tvalid_0's mape: 0.00940241\n",
      "[486]\tvalid_0's mape: 0.00940197\n",
      "[487]\tvalid_0's mape: 0.00940022\n",
      "[488]\tvalid_0's mape: 0.00939994\n",
      "[489]\tvalid_0's mape: 0.0093995\n",
      "[490]\tvalid_0's mape: 0.00939917\n",
      "[491]\tvalid_0's mape: 0.00939894\n",
      "[492]\tvalid_0's mape: 0.0093985\n",
      "[493]\tvalid_0's mape: 0.009397\n",
      "[494]\tvalid_0's mape: 0.00939587\n",
      "[495]\tvalid_0's mape: 0.00939387\n",
      "[496]\tvalid_0's mape: 0.00939315\n",
      "[497]\tvalid_0's mape: 0.00939295\n",
      "[498]\tvalid_0's mape: 0.00939295\n",
      "[499]\tvalid_0's mape: 0.00939275\n",
      "[500]\tvalid_0's mape: 0.00939063\n",
      "[501]\tvalid_0's mape: 0.00938961\n",
      "[502]\tvalid_0's mape: 0.00938919\n",
      "[503]\tvalid_0's mape: 0.00938874\n",
      "[504]\tvalid_0's mape: 0.0093885\n",
      "[505]\tvalid_0's mape: 0.00938803\n",
      "[506]\tvalid_0's mape: 0.00938723\n",
      "[507]\tvalid_0's mape: 0.00938664\n",
      "[508]\tvalid_0's mape: 0.00938637\n",
      "[509]\tvalid_0's mape: 0.0093854\n",
      "[510]\tvalid_0's mape: 0.00938553\n",
      "[511]\tvalid_0's mape: 0.00938497\n",
      "[512]\tvalid_0's mape: 0.00938436\n",
      "[513]\tvalid_0's mape: 0.0093843\n",
      "[514]\tvalid_0's mape: 0.00938333\n",
      "[515]\tvalid_0's mape: 0.00938282\n",
      "[516]\tvalid_0's mape: 0.00938271\n",
      "[517]\tvalid_0's mape: 0.00938264\n",
      "[518]\tvalid_0's mape: 0.00938244\n",
      "[519]\tvalid_0's mape: 0.00938239\n",
      "[520]\tvalid_0's mape: 0.00938049\n",
      "[521]\tvalid_0's mape: 0.00937982\n",
      "[522]\tvalid_0's mape: 0.00937974\n",
      "[523]\tvalid_0's mape: 0.00937967\n",
      "[524]\tvalid_0's mape: 0.0093793\n",
      "[525]\tvalid_0's mape: 0.0093785\n",
      "[526]\tvalid_0's mape: 0.00937797\n",
      "[527]\tvalid_0's mape: 0.0093777\n",
      "[528]\tvalid_0's mape: 0.00937653\n",
      "[529]\tvalid_0's mape: 0.00937639\n",
      "[530]\tvalid_0's mape: 0.00937623\n",
      "[531]\tvalid_0's mape: 0.00937578\n",
      "[532]\tvalid_0's mape: 0.0093752\n",
      "[533]\tvalid_0's mape: 0.00937496\n",
      "[534]\tvalid_0's mape: 0.00937323\n",
      "[535]\tvalid_0's mape: 0.00937248\n",
      "[536]\tvalid_0's mape: 0.00937211\n",
      "[537]\tvalid_0's mape: 0.00937209\n",
      "[538]\tvalid_0's mape: 0.0093719\n",
      "[539]\tvalid_0's mape: 0.00937167\n",
      "[540]\tvalid_0's mape: 0.0093712\n",
      "[541]\tvalid_0's mape: 0.00937049\n",
      "[542]\tvalid_0's mape: 0.0093685\n",
      "[543]\tvalid_0's mape: 0.00936678\n",
      "[544]\tvalid_0's mape: 0.0093654\n",
      "[545]\tvalid_0's mape: 0.00936529\n",
      "[546]\tvalid_0's mape: 0.00936528\n",
      "[547]\tvalid_0's mape: 0.00936517\n",
      "[548]\tvalid_0's mape: 0.00936512\n",
      "[549]\tvalid_0's mape: 0.00936493\n",
      "[550]\tvalid_0's mape: 0.00936406\n",
      "[551]\tvalid_0's mape: 0.00936352\n",
      "[552]\tvalid_0's mape: 0.0093638\n",
      "[553]\tvalid_0's mape: 0.00936298\n",
      "[554]\tvalid_0's mape: 0.00936131\n",
      "[555]\tvalid_0's mape: 0.00936095\n",
      "[556]\tvalid_0's mape: 0.00936073\n",
      "[557]\tvalid_0's mape: 0.00935939\n",
      "[558]\tvalid_0's mape: 0.00935899\n",
      "[559]\tvalid_0's mape: 0.00935796\n",
      "[560]\tvalid_0's mape: 0.00935766\n",
      "[561]\tvalid_0's mape: 0.00935679\n",
      "[562]\tvalid_0's mape: 0.00935604\n",
      "[563]\tvalid_0's mape: 0.00935513\n",
      "[564]\tvalid_0's mape: 0.00935481\n",
      "[565]\tvalid_0's mape: 0.00935468\n",
      "[566]\tvalid_0's mape: 0.00935451\n",
      "[567]\tvalid_0's mape: 0.00935319\n",
      "[568]\tvalid_0's mape: 0.00935325\n",
      "[569]\tvalid_0's mape: 0.00935202\n",
      "[570]\tvalid_0's mape: 0.00935199\n",
      "[571]\tvalid_0's mape: 0.0093515\n",
      "[572]\tvalid_0's mape: 0.00935154\n",
      "[573]\tvalid_0's mape: 0.00934962\n",
      "[574]\tvalid_0's mape: 0.00934919\n",
      "[575]\tvalid_0's mape: 0.00934751\n",
      "[576]\tvalid_0's mape: 0.00934779\n",
      "[577]\tvalid_0's mape: 0.00934782\n",
      "[578]\tvalid_0's mape: 0.00934785\n",
      "[579]\tvalid_0's mape: 0.00934763\n",
      "[580]\tvalid_0's mape: 0.00934753\n",
      "[581]\tvalid_0's mape: 0.00934655\n",
      "[582]\tvalid_0's mape: 0.00934674\n",
      "[583]\tvalid_0's mape: 0.00934697\n",
      "[584]\tvalid_0's mape: 0.00934608\n",
      "[585]\tvalid_0's mape: 0.00934505\n",
      "[586]\tvalid_0's mape: 0.00934385\n",
      "[587]\tvalid_0's mape: 0.00934391\n",
      "[588]\tvalid_0's mape: 0.00934359\n",
      "[589]\tvalid_0's mape: 0.00934323\n",
      "[590]\tvalid_0's mape: 0.00934269\n",
      "[591]\tvalid_0's mape: 0.00934246\n",
      "[592]\tvalid_0's mape: 0.00934192\n",
      "[593]\tvalid_0's mape: 0.00934124\n",
      "[594]\tvalid_0's mape: 0.00934083\n",
      "[595]\tvalid_0's mape: 0.00934049\n",
      "[596]\tvalid_0's mape: 0.00933982\n",
      "[597]\tvalid_0's mape: 0.00933985\n",
      "[598]\tvalid_0's mape: 0.00933958\n",
      "[599]\tvalid_0's mape: 0.00933896\n",
      "[600]\tvalid_0's mape: 0.00933844\n",
      "[601]\tvalid_0's mape: 0.00933845\n",
      "[602]\tvalid_0's mape: 0.00933805\n",
      "[603]\tvalid_0's mape: 0.00933759\n",
      "[604]\tvalid_0's mape: 0.00933713\n",
      "[605]\tvalid_0's mape: 0.00933708\n",
      "[606]\tvalid_0's mape: 0.00933678\n",
      "[607]\tvalid_0's mape: 0.00933654\n",
      "[608]\tvalid_0's mape: 0.00933668\n",
      "[609]\tvalid_0's mape: 0.00933606\n",
      "[610]\tvalid_0's mape: 0.00933589\n",
      "[611]\tvalid_0's mape: 0.00933604\n",
      "[612]\tvalid_0's mape: 0.00933556\n",
      "[613]\tvalid_0's mape: 0.0093354\n",
      "[614]\tvalid_0's mape: 0.00933487\n",
      "[615]\tvalid_0's mape: 0.0093347\n",
      "[616]\tvalid_0's mape: 0.00933447\n",
      "[617]\tvalid_0's mape: 0.00933488\n",
      "[618]\tvalid_0's mape: 0.00933426\n",
      "[619]\tvalid_0's mape: 0.00933325\n",
      "[620]\tvalid_0's mape: 0.00933328\n",
      "[621]\tvalid_0's mape: 0.00933283\n",
      "[622]\tvalid_0's mape: 0.00933296\n",
      "[623]\tvalid_0's mape: 0.00933235\n",
      "[624]\tvalid_0's mape: 0.00933189\n",
      "[625]\tvalid_0's mape: 0.00933076\n",
      "[626]\tvalid_0's mape: 0.00933063\n",
      "[627]\tvalid_0's mape: 0.00933063\n",
      "[628]\tvalid_0's mape: 0.00932978\n",
      "[629]\tvalid_0's mape: 0.00932949\n",
      "[630]\tvalid_0's mape: 0.00932913\n",
      "[631]\tvalid_0's mape: 0.00932776\n",
      "[632]\tvalid_0's mape: 0.00932793\n",
      "[633]\tvalid_0's mape: 0.00932696\n",
      "[634]\tvalid_0's mape: 0.00932674\n",
      "[635]\tvalid_0's mape: 0.00932647\n",
      "[636]\tvalid_0's mape: 0.00932625\n",
      "[637]\tvalid_0's mape: 0.00932614\n",
      "[638]\tvalid_0's mape: 0.00932619\n",
      "[639]\tvalid_0's mape: 0.00932616\n",
      "[640]\tvalid_0's mape: 0.00932606\n",
      "[641]\tvalid_0's mape: 0.00932586\n",
      "[642]\tvalid_0's mape: 0.00932583\n",
      "[643]\tvalid_0's mape: 0.00932593\n",
      "[644]\tvalid_0's mape: 0.00932574\n",
      "[645]\tvalid_0's mape: 0.00932507\n",
      "[646]\tvalid_0's mape: 0.00932478\n",
      "[647]\tvalid_0's mape: 0.00932363\n",
      "[648]\tvalid_0's mape: 0.00932356\n",
      "[649]\tvalid_0's mape: 0.00932323\n",
      "[650]\tvalid_0's mape: 0.00932328\n",
      "[651]\tvalid_0's mape: 0.00932318\n",
      "[652]\tvalid_0's mape: 0.00932205\n",
      "[653]\tvalid_0's mape: 0.00932175\n",
      "[654]\tvalid_0's mape: 0.00932172\n",
      "[655]\tvalid_0's mape: 0.00932174\n",
      "[656]\tvalid_0's mape: 0.0093213\n",
      "[657]\tvalid_0's mape: 0.00932092\n",
      "[658]\tvalid_0's mape: 0.00932051\n",
      "[659]\tvalid_0's mape: 0.00932055\n",
      "[660]\tvalid_0's mape: 0.00931935\n",
      "[661]\tvalid_0's mape: 0.00931923\n",
      "[662]\tvalid_0's mape: 0.00931874\n",
      "[663]\tvalid_0's mape: 0.00931877\n",
      "[664]\tvalid_0's mape: 0.00931866\n",
      "[665]\tvalid_0's mape: 0.0093187\n",
      "[666]\tvalid_0's mape: 0.00931855\n",
      "[667]\tvalid_0's mape: 0.0093183\n",
      "[668]\tvalid_0's mape: 0.00931831\n",
      "[669]\tvalid_0's mape: 0.0093181\n",
      "[670]\tvalid_0's mape: 0.00931738\n",
      "[671]\tvalid_0's mape: 0.00931715\n",
      "[672]\tvalid_0's mape: 0.00931685\n",
      "[673]\tvalid_0's mape: 0.00931665\n",
      "[674]\tvalid_0's mape: 0.00931583\n",
      "[675]\tvalid_0's mape: 0.00931576\n",
      "[676]\tvalid_0's mape: 0.00931603\n",
      "[677]\tvalid_0's mape: 0.00931605\n",
      "[678]\tvalid_0's mape: 0.00931569\n",
      "[679]\tvalid_0's mape: 0.00931574\n",
      "[680]\tvalid_0's mape: 0.00931597\n",
      "[681]\tvalid_0's mape: 0.00931595\n",
      "[682]\tvalid_0's mape: 0.00931557\n",
      "[683]\tvalid_0's mape: 0.00931556\n",
      "[684]\tvalid_0's mape: 0.00931541\n",
      "[685]\tvalid_0's mape: 0.00931515\n",
      "[686]\tvalid_0's mape: 0.00931499\n",
      "[687]\tvalid_0's mape: 0.00931491\n",
      "[688]\tvalid_0's mape: 0.00931461\n",
      "[689]\tvalid_0's mape: 0.00931477\n",
      "[690]\tvalid_0's mape: 0.00931442\n",
      "[691]\tvalid_0's mape: 0.00931426\n",
      "[692]\tvalid_0's mape: 0.00931393\n",
      "[693]\tvalid_0's mape: 0.00931385\n",
      "[694]\tvalid_0's mape: 0.009314\n",
      "[695]\tvalid_0's mape: 0.00931423\n",
      "[696]\tvalid_0's mape: 0.00931389\n",
      "[697]\tvalid_0's mape: 0.00931272\n",
      "[698]\tvalid_0's mape: 0.00931243\n",
      "[699]\tvalid_0's mape: 0.00931222\n",
      "[700]\tvalid_0's mape: 0.00931215\n",
      "[701]\tvalid_0's mape: 0.00931168\n",
      "[702]\tvalid_0's mape: 0.00931176\n",
      "[703]\tvalid_0's mape: 0.00931159\n",
      "[704]\tvalid_0's mape: 0.00931129\n",
      "[705]\tvalid_0's mape: 0.00931105\n",
      "[706]\tvalid_0's mape: 0.00931102\n",
      "[707]\tvalid_0's mape: 0.00931063\n",
      "[708]\tvalid_0's mape: 0.00930982\n",
      "[709]\tvalid_0's mape: 0.00930991\n",
      "[710]\tvalid_0's mape: 0.00930927\n",
      "[711]\tvalid_0's mape: 0.00930899\n",
      "[712]\tvalid_0's mape: 0.00930886\n",
      "[713]\tvalid_0's mape: 0.00930877\n",
      "[714]\tvalid_0's mape: 0.00930879\n",
      "[715]\tvalid_0's mape: 0.00930799\n",
      "[716]\tvalid_0's mape: 0.00930781\n",
      "[717]\tvalid_0's mape: 0.00930744\n",
      "[718]\tvalid_0's mape: 0.00930723\n",
      "[719]\tvalid_0's mape: 0.00930696\n",
      "[720]\tvalid_0's mape: 0.00930728\n",
      "[721]\tvalid_0's mape: 0.00930719\n",
      "[722]\tvalid_0's mape: 0.00930717\n",
      "[723]\tvalid_0's mape: 0.00930711\n",
      "[724]\tvalid_0's mape: 0.00930712\n",
      "[725]\tvalid_0's mape: 0.00930693\n",
      "[726]\tvalid_0's mape: 0.00930723\n",
      "[727]\tvalid_0's mape: 0.00930695\n",
      "[728]\tvalid_0's mape: 0.00930689\n",
      "[729]\tvalid_0's mape: 0.00930679\n",
      "[730]\tvalid_0's mape: 0.00930611\n",
      "[731]\tvalid_0's mape: 0.00930597\n",
      "[732]\tvalid_0's mape: 0.00930611\n",
      "[733]\tvalid_0's mape: 0.00930557\n",
      "[734]\tvalid_0's mape: 0.00930503\n",
      "[735]\tvalid_0's mape: 0.00930478\n",
      "[736]\tvalid_0's mape: 0.00930437\n",
      "[737]\tvalid_0's mape: 0.0093048\n",
      "[738]\tvalid_0's mape: 0.00930426\n",
      "[739]\tvalid_0's mape: 0.00930366\n",
      "[740]\tvalid_0's mape: 0.00930387\n",
      "[741]\tvalid_0's mape: 0.00930337\n",
      "[742]\tvalid_0's mape: 0.00930279\n",
      "[743]\tvalid_0's mape: 0.00930301\n",
      "[744]\tvalid_0's mape: 0.00930288\n",
      "[745]\tvalid_0's mape: 0.00930285\n",
      "[746]\tvalid_0's mape: 0.00930251\n",
      "[747]\tvalid_0's mape: 0.0093027\n",
      "[748]\tvalid_0's mape: 0.00930261\n",
      "[749]\tvalid_0's mape: 0.00930256\n",
      "[750]\tvalid_0's mape: 0.00930248\n",
      "[751]\tvalid_0's mape: 0.00930206\n",
      "[752]\tvalid_0's mape: 0.0093018\n",
      "[753]\tvalid_0's mape: 0.00930128\n",
      "[754]\tvalid_0's mape: 0.00930122\n",
      "[755]\tvalid_0's mape: 0.00930112\n",
      "[756]\tvalid_0's mape: 0.0093007\n",
      "[757]\tvalid_0's mape: 0.00930065\n",
      "[758]\tvalid_0's mape: 0.00930061\n",
      "[759]\tvalid_0's mape: 0.00930021\n",
      "[760]\tvalid_0's mape: 0.00930006\n",
      "[761]\tvalid_0's mape: 0.00929992\n",
      "[762]\tvalid_0's mape: 0.00929917\n",
      "[763]\tvalid_0's mape: 0.00929924\n",
      "[764]\tvalid_0's mape: 0.00929928\n",
      "[765]\tvalid_0's mape: 0.0092991\n",
      "[766]\tvalid_0's mape: 0.00929907\n",
      "[767]\tvalid_0's mape: 0.00929882\n",
      "[768]\tvalid_0's mape: 0.00929852\n",
      "[769]\tvalid_0's mape: 0.00929862\n",
      "[770]\tvalid_0's mape: 0.00929839\n",
      "[771]\tvalid_0's mape: 0.00929848\n",
      "[772]\tvalid_0's mape: 0.00929833\n",
      "[773]\tvalid_0's mape: 0.00929731\n",
      "[774]\tvalid_0's mape: 0.00929721\n",
      "[775]\tvalid_0's mape: 0.00929701\n",
      "[776]\tvalid_0's mape: 0.00929675\n",
      "[777]\tvalid_0's mape: 0.00929672\n",
      "[778]\tvalid_0's mape: 0.00929623\n",
      "[779]\tvalid_0's mape: 0.0092962\n",
      "[780]\tvalid_0's mape: 0.00929609\n",
      "[781]\tvalid_0's mape: 0.00929594\n",
      "[782]\tvalid_0's mape: 0.00929547\n",
      "[783]\tvalid_0's mape: 0.00929571\n",
      "[784]\tvalid_0's mape: 0.00929536\n",
      "[785]\tvalid_0's mape: 0.00929532\n",
      "[786]\tvalid_0's mape: 0.00929506\n",
      "[787]\tvalid_0's mape: 0.00929486\n",
      "[788]\tvalid_0's mape: 0.00929458\n",
      "[789]\tvalid_0's mape: 0.00929427\n",
      "[790]\tvalid_0's mape: 0.00929361\n",
      "[791]\tvalid_0's mape: 0.00929353\n",
      "[792]\tvalid_0's mape: 0.00929347\n",
      "[793]\tvalid_0's mape: 0.00929334\n",
      "[794]\tvalid_0's mape: 0.00929321\n",
      "[795]\tvalid_0's mape: 0.00929292\n",
      "[796]\tvalid_0's mape: 0.00929294\n",
      "[797]\tvalid_0's mape: 0.00929324\n",
      "[798]\tvalid_0's mape: 0.00929303\n",
      "[799]\tvalid_0's mape: 0.0092931\n",
      "[800]\tvalid_0's mape: 0.00929334\n",
      "[801]\tvalid_0's mape: 0.00929318\n",
      "[802]\tvalid_0's mape: 0.00929278\n",
      "[803]\tvalid_0's mape: 0.00929258\n",
      "[804]\tvalid_0's mape: 0.00929263\n",
      "[805]\tvalid_0's mape: 0.00929166\n",
      "[806]\tvalid_0's mape: 0.00929146\n",
      "[807]\tvalid_0's mape: 0.00929121\n",
      "[808]\tvalid_0's mape: 0.00929138\n",
      "[809]\tvalid_0's mape: 0.00929154\n",
      "[810]\tvalid_0's mape: 0.00929173\n",
      "[811]\tvalid_0's mape: 0.00929213\n",
      "[812]\tvalid_0's mape: 0.00929206\n",
      "[813]\tvalid_0's mape: 0.00929168\n",
      "[814]\tvalid_0's mape: 0.00929116\n",
      "[815]\tvalid_0's mape: 0.00929108\n",
      "[816]\tvalid_0's mape: 0.00929119\n",
      "[817]\tvalid_0's mape: 0.00929125\n",
      "[818]\tvalid_0's mape: 0.00929108\n",
      "[819]\tvalid_0's mape: 0.00929108\n",
      "[820]\tvalid_0's mape: 0.00929095\n",
      "[821]\tvalid_0's mape: 0.0092909\n",
      "[822]\tvalid_0's mape: 0.00929102\n",
      "[823]\tvalid_0's mape: 0.00929121\n",
      "[824]\tvalid_0's mape: 0.00929034\n",
      "[825]\tvalid_0's mape: 0.00929016\n",
      "[826]\tvalid_0's mape: 0.00929027\n",
      "[827]\tvalid_0's mape: 0.00929042\n",
      "[828]\tvalid_0's mape: 0.00929057\n",
      "[829]\tvalid_0's mape: 0.00929065\n",
      "[830]\tvalid_0's mape: 0.00929068\n",
      "[831]\tvalid_0's mape: 0.00929058\n",
      "[832]\tvalid_0's mape: 0.00929037\n",
      "[833]\tvalid_0's mape: 0.00929019\n",
      "[834]\tvalid_0's mape: 0.00929012\n",
      "[835]\tvalid_0's mape: 0.00929034\n",
      "[836]\tvalid_0's mape: 0.00929012\n",
      "[837]\tvalid_0's mape: 0.00928998\n",
      "[838]\tvalid_0's mape: 0.00929018\n",
      "[839]\tvalid_0's mape: 0.00929004\n",
      "[840]\tvalid_0's mape: 0.00929014\n",
      "[841]\tvalid_0's mape: 0.0092904\n",
      "[842]\tvalid_0's mape: 0.0092901\n",
      "[843]\tvalid_0's mape: 0.00928976\n",
      "[844]\tvalid_0's mape: 0.00928961\n",
      "[845]\tvalid_0's mape: 0.00928945\n",
      "[846]\tvalid_0's mape: 0.00928922\n",
      "[847]\tvalid_0's mape: 0.00928842\n",
      "[848]\tvalid_0's mape: 0.00928836\n",
      "[849]\tvalid_0's mape: 0.00928819\n",
      "[850]\tvalid_0's mape: 0.00928819\n",
      "[851]\tvalid_0's mape: 0.00928817\n",
      "[852]\tvalid_0's mape: 0.00928812\n",
      "[853]\tvalid_0's mape: 0.00928757\n",
      "[854]\tvalid_0's mape: 0.00928756\n",
      "[855]\tvalid_0's mape: 0.00928723\n",
      "[856]\tvalid_0's mape: 0.00928731\n",
      "[857]\tvalid_0's mape: 0.00928674\n",
      "[858]\tvalid_0's mape: 0.00928671\n",
      "[859]\tvalid_0's mape: 0.00928698\n",
      "[860]\tvalid_0's mape: 0.00928699\n",
      "[861]\tvalid_0's mape: 0.00928702\n",
      "[862]\tvalid_0's mape: 0.00928701\n",
      "[863]\tvalid_0's mape: 0.00928694\n",
      "[864]\tvalid_0's mape: 0.00928685\n",
      "[865]\tvalid_0's mape: 0.00928692\n",
      "[866]\tvalid_0's mape: 0.00928698\n",
      "[867]\tvalid_0's mape: 0.00928698\n",
      "[868]\tvalid_0's mape: 0.00928683\n",
      "[869]\tvalid_0's mape: 0.00928665\n",
      "[870]\tvalid_0's mape: 0.00928665\n",
      "[871]\tvalid_0's mape: 0.0092866\n",
      "[872]\tvalid_0's mape: 0.00928663\n",
      "[873]\tvalid_0's mape: 0.00928661\n",
      "[874]\tvalid_0's mape: 0.00928676\n",
      "[875]\tvalid_0's mape: 0.0092866\n",
      "[876]\tvalid_0's mape: 0.00928654\n",
      "[877]\tvalid_0's mape: 0.00928641\n",
      "[878]\tvalid_0's mape: 0.00928593\n",
      "[879]\tvalid_0's mape: 0.00928583\n",
      "[880]\tvalid_0's mape: 0.00928585\n",
      "[881]\tvalid_0's mape: 0.00928564\n",
      "[882]\tvalid_0's mape: 0.00928524\n",
      "[883]\tvalid_0's mape: 0.00928497\n",
      "[884]\tvalid_0's mape: 0.00928516\n",
      "[885]\tvalid_0's mape: 0.0092851\n",
      "[886]\tvalid_0's mape: 0.00928511\n",
      "[887]\tvalid_0's mape: 0.00928513\n",
      "[888]\tvalid_0's mape: 0.00928513\n",
      "[889]\tvalid_0's mape: 0.00928434\n",
      "[890]\tvalid_0's mape: 0.00928431\n",
      "[891]\tvalid_0's mape: 0.00928422\n",
      "[892]\tvalid_0's mape: 0.00928409\n",
      "[893]\tvalid_0's mape: 0.00928416\n",
      "[894]\tvalid_0's mape: 0.00928425\n",
      "[895]\tvalid_0's mape: 0.00928438\n",
      "[896]\tvalid_0's mape: 0.00928431\n",
      "[897]\tvalid_0's mape: 0.00928387\n",
      "[898]\tvalid_0's mape: 0.00928349\n",
      "[899]\tvalid_0's mape: 0.00928335\n",
      "[900]\tvalid_0's mape: 0.00928315\n",
      "[901]\tvalid_0's mape: 0.0092829\n",
      "[902]\tvalid_0's mape: 0.00928296\n",
      "[903]\tvalid_0's mape: 0.00928303\n",
      "[904]\tvalid_0's mape: 0.00928302\n",
      "[905]\tvalid_0's mape: 0.00928278\n",
      "[906]\tvalid_0's mape: 0.00928275\n",
      "[907]\tvalid_0's mape: 0.00928217\n",
      "[908]\tvalid_0's mape: 0.00928198\n",
      "[909]\tvalid_0's mape: 0.00928197\n",
      "[910]\tvalid_0's mape: 0.00928147\n",
      "[911]\tvalid_0's mape: 0.00928124\n",
      "[912]\tvalid_0's mape: 0.00928134\n",
      "[913]\tvalid_0's mape: 0.00928156\n",
      "[914]\tvalid_0's mape: 0.00928145\n",
      "[915]\tvalid_0's mape: 0.00928145\n",
      "[916]\tvalid_0's mape: 0.00928149\n",
      "[917]\tvalid_0's mape: 0.00928148\n",
      "[918]\tvalid_0's mape: 0.00928157\n",
      "[919]\tvalid_0's mape: 0.00928147\n",
      "[920]\tvalid_0's mape: 0.00928068\n",
      "[921]\tvalid_0's mape: 0.0092805\n",
      "[922]\tvalid_0's mape: 0.00928094\n",
      "[923]\tvalid_0's mape: 0.00928073\n",
      "[924]\tvalid_0's mape: 0.00928082\n",
      "[925]\tvalid_0's mape: 0.00928089\n",
      "[926]\tvalid_0's mape: 0.00928096\n",
      "[927]\tvalid_0's mape: 0.00928097\n",
      "[928]\tvalid_0's mape: 0.00928093\n",
      "[929]\tvalid_0's mape: 0.00928084\n",
      "[930]\tvalid_0's mape: 0.00928064\n",
      "[931]\tvalid_0's mape: 0.00928025\n",
      "[932]\tvalid_0's mape: 0.00928048\n",
      "[933]\tvalid_0's mape: 0.0092806\n",
      "[934]\tvalid_0's mape: 0.00928055\n",
      "[935]\tvalid_0's mape: 0.00928068\n",
      "[936]\tvalid_0's mape: 0.00928068\n",
      "[937]\tvalid_0's mape: 0.00928048\n",
      "[938]\tvalid_0's mape: 0.00928025\n",
      "[939]\tvalid_0's mape: 0.00927996\n",
      "[940]\tvalid_0's mape: 0.00927997\n",
      "[941]\tvalid_0's mape: 0.0092802\n",
      "[942]\tvalid_0's mape: 0.00927998\n",
      "[943]\tvalid_0's mape: 0.00927967\n",
      "[944]\tvalid_0's mape: 0.00927969\n",
      "[945]\tvalid_0's mape: 0.00927965\n",
      "[946]\tvalid_0's mape: 0.00927957\n",
      "[947]\tvalid_0's mape: 0.0092795\n",
      "[948]\tvalid_0's mape: 0.00927889\n",
      "[949]\tvalid_0's mape: 0.00927864\n",
      "[950]\tvalid_0's mape: 0.0092786\n",
      "[951]\tvalid_0's mape: 0.00927842\n",
      "[952]\tvalid_0's mape: 0.00927815\n",
      "[953]\tvalid_0's mape: 0.00927806\n",
      "[954]\tvalid_0's mape: 0.00927807\n",
      "[955]\tvalid_0's mape: 0.00927837\n",
      "[956]\tvalid_0's mape: 0.00927865\n",
      "[957]\tvalid_0's mape: 0.00927807\n",
      "[958]\tvalid_0's mape: 0.00927803\n",
      "[959]\tvalid_0's mape: 0.00927817\n",
      "[960]\tvalid_0's mape: 0.00927817\n",
      "[961]\tvalid_0's mape: 0.00927754\n",
      "[962]\tvalid_0's mape: 0.00927754\n",
      "[963]\tvalid_0's mape: 0.00927787\n",
      "[964]\tvalid_0's mape: 0.00927805\n",
      "[965]\tvalid_0's mape: 0.0092776\n",
      "[966]\tvalid_0's mape: 0.00927735\n",
      "[967]\tvalid_0's mape: 0.00927731\n",
      "[968]\tvalid_0's mape: 0.0092774\n",
      "[969]\tvalid_0's mape: 0.00927777\n",
      "[970]\tvalid_0's mape: 0.00927781\n",
      "[971]\tvalid_0's mape: 0.00927746\n",
      "[972]\tvalid_0's mape: 0.00927742\n",
      "[973]\tvalid_0's mape: 0.00927766\n",
      "[974]\tvalid_0's mape: 0.00927768\n",
      "[975]\tvalid_0's mape: 0.00927756\n",
      "[976]\tvalid_0's mape: 0.00927782\n",
      "[977]\tvalid_0's mape: 0.00927756\n",
      "[978]\tvalid_0's mape: 0.00927763\n",
      "[979]\tvalid_0's mape: 0.00927738\n",
      "[980]\tvalid_0's mape: 0.00927733\n",
      "[981]\tvalid_0's mape: 0.00927701\n",
      "[982]\tvalid_0's mape: 0.00927706\n",
      "[983]\tvalid_0's mape: 0.00927707\n",
      "[984]\tvalid_0's mape: 0.00927702\n",
      "[985]\tvalid_0's mape: 0.00927713\n",
      "[986]\tvalid_0's mape: 0.00927709\n",
      "[987]\tvalid_0's mape: 0.00927687\n",
      "[988]\tvalid_0's mape: 0.00927679\n",
      "[989]\tvalid_0's mape: 0.00927693\n",
      "[990]\tvalid_0's mape: 0.00927688\n",
      "[991]\tvalid_0's mape: 0.00927723\n",
      "[992]\tvalid_0's mape: 0.00927709\n",
      "[993]\tvalid_0's mape: 0.00927728\n",
      "[994]\tvalid_0's mape: 0.0092772\n",
      "[995]\tvalid_0's mape: 0.00927712\n",
      "[996]\tvalid_0's mape: 0.00927706\n",
      "[997]\tvalid_0's mape: 0.00927672\n",
      "[998]\tvalid_0's mape: 0.00927685\n",
      "[999]\tvalid_0's mape: 0.0092771\n",
      "[1000]\tvalid_0's mape: 0.00927712\n",
      "[1001]\tvalid_0's mape: 0.00927732\n",
      "[1002]\tvalid_0's mape: 0.00927716\n",
      "[1003]\tvalid_0's mape: 0.00927717\n",
      "[1004]\tvalid_0's mape: 0.00927703\n",
      "[1005]\tvalid_0's mape: 0.00927711\n",
      "[1006]\tvalid_0's mape: 0.00927692\n",
      "[1007]\tvalid_0's mape: 0.00927713\n",
      "[1008]\tvalid_0's mape: 0.00927684\n",
      "[1009]\tvalid_0's mape: 0.00927643\n",
      "[1010]\tvalid_0's mape: 0.00927623\n",
      "[1011]\tvalid_0's mape: 0.00927609\n",
      "[1012]\tvalid_0's mape: 0.00927597\n",
      "[1013]\tvalid_0's mape: 0.00927577\n",
      "[1014]\tvalid_0's mape: 0.00927558\n",
      "[1015]\tvalid_0's mape: 0.00927537\n",
      "[1016]\tvalid_0's mape: 0.00927556\n",
      "[1017]\tvalid_0's mape: 0.00927548\n",
      "[1018]\tvalid_0's mape: 0.00927466\n",
      "[1019]\tvalid_0's mape: 0.00927458\n",
      "[1020]\tvalid_0's mape: 0.00927433\n",
      "[1021]\tvalid_0's mape: 0.00927445\n",
      "[1022]\tvalid_0's mape: 0.00927427\n",
      "[1023]\tvalid_0's mape: 0.00927409\n",
      "[1024]\tvalid_0's mape: 0.00927424\n",
      "[1025]\tvalid_0's mape: 0.00927437\n",
      "[1026]\tvalid_0's mape: 0.00927409\n",
      "[1027]\tvalid_0's mape: 0.00927404\n",
      "[1028]\tvalid_0's mape: 0.00927408\n",
      "[1029]\tvalid_0's mape: 0.00927419\n",
      "[1030]\tvalid_0's mape: 0.0092741\n",
      "[1031]\tvalid_0's mape: 0.00927409\n",
      "[1032]\tvalid_0's mape: 0.00927402\n",
      "[1033]\tvalid_0's mape: 0.00927394\n",
      "[1034]\tvalid_0's mape: 0.00927395\n",
      "[1035]\tvalid_0's mape: 0.00927397\n",
      "[1036]\tvalid_0's mape: 0.00927403\n",
      "[1037]\tvalid_0's mape: 0.00927388\n",
      "[1038]\tvalid_0's mape: 0.00927373\n",
      "[1039]\tvalid_0's mape: 0.00927371\n",
      "[1040]\tvalid_0's mape: 0.00927357\n",
      "[1041]\tvalid_0's mape: 0.0092734\n",
      "[1042]\tvalid_0's mape: 0.00927309\n",
      "[1043]\tvalid_0's mape: 0.00927307\n",
      "[1044]\tvalid_0's mape: 0.00927323\n",
      "[1045]\tvalid_0's mape: 0.00927318\n",
      "[1046]\tvalid_0's mape: 0.00927301\n",
      "[1047]\tvalid_0's mape: 0.00927304\n",
      "[1048]\tvalid_0's mape: 0.00927287\n",
      "[1049]\tvalid_0's mape: 0.0092727\n",
      "[1050]\tvalid_0's mape: 0.00927247\n",
      "[1051]\tvalid_0's mape: 0.00927251\n",
      "[1052]\tvalid_0's mape: 0.00927255\n",
      "[1053]\tvalid_0's mape: 0.00927221\n",
      "[1054]\tvalid_0's mape: 0.00927222\n",
      "[1055]\tvalid_0's mape: 0.00927222\n",
      "[1056]\tvalid_0's mape: 0.00927219\n",
      "[1057]\tvalid_0's mape: 0.00927203\n",
      "[1058]\tvalid_0's mape: 0.00927203\n",
      "[1059]\tvalid_0's mape: 0.00927209\n",
      "[1060]\tvalid_0's mape: 0.00927225\n",
      "[1061]\tvalid_0's mape: 0.00927243\n",
      "[1062]\tvalid_0's mape: 0.00927227\n",
      "[1063]\tvalid_0's mape: 0.00927232\n",
      "[1064]\tvalid_0's mape: 0.00927239\n",
      "[1065]\tvalid_0's mape: 0.00927211\n",
      "[1066]\tvalid_0's mape: 0.00927186\n",
      "[1067]\tvalid_0's mape: 0.00927161\n",
      "[1068]\tvalid_0's mape: 0.00927131\n",
      "[1069]\tvalid_0's mape: 0.0092713\n",
      "[1070]\tvalid_0's mape: 0.00927093\n",
      "[1071]\tvalid_0's mape: 0.00927104\n",
      "[1072]\tvalid_0's mape: 0.00927111\n",
      "[1073]\tvalid_0's mape: 0.00927122\n",
      "[1074]\tvalid_0's mape: 0.00927154\n",
      "[1075]\tvalid_0's mape: 0.00927147\n",
      "[1076]\tvalid_0's mape: 0.00927114\n",
      "[1077]\tvalid_0's mape: 0.00927064\n",
      "[1078]\tvalid_0's mape: 0.00927039\n",
      "[1079]\tvalid_0's mape: 0.0092703\n",
      "[1080]\tvalid_0's mape: 0.00927028\n",
      "[1081]\tvalid_0's mape: 0.00927006\n",
      "[1082]\tvalid_0's mape: 0.00927005\n",
      "[1083]\tvalid_0's mape: 0.00927001\n",
      "[1084]\tvalid_0's mape: 0.00927028\n",
      "[1085]\tvalid_0's mape: 0.00926968\n",
      "[1086]\tvalid_0's mape: 0.00926977\n",
      "[1087]\tvalid_0's mape: 0.00926951\n",
      "[1088]\tvalid_0's mape: 0.00926957\n",
      "[1089]\tvalid_0's mape: 0.0092699\n",
      "[1090]\tvalid_0's mape: 0.00926966\n",
      "[1091]\tvalid_0's mape: 0.00926958\n",
      "[1092]\tvalid_0's mape: 0.00926926\n",
      "[1093]\tvalid_0's mape: 0.00926953\n",
      "[1094]\tvalid_0's mape: 0.00926958\n",
      "[1095]\tvalid_0's mape: 0.00926927\n",
      "[1096]\tvalid_0's mape: 0.00926921\n",
      "[1097]\tvalid_0's mape: 0.00926928\n",
      "[1098]\tvalid_0's mape: 0.00926912\n",
      "[1099]\tvalid_0's mape: 0.0092689\n",
      "[1100]\tvalid_0's mape: 0.00926905\n",
      "[1101]\tvalid_0's mape: 0.00926906\n",
      "[1102]\tvalid_0's mape: 0.00926891\n",
      "[1103]\tvalid_0's mape: 0.00926865\n",
      "[1104]\tvalid_0's mape: 0.00926832\n",
      "[1105]\tvalid_0's mape: 0.0092684\n",
      "[1106]\tvalid_0's mape: 0.00926852\n",
      "[1107]\tvalid_0's mape: 0.0092686\n",
      "[1108]\tvalid_0's mape: 0.00926863\n",
      "[1109]\tvalid_0's mape: 0.00926838\n",
      "[1110]\tvalid_0's mape: 0.00926822\n",
      "[1111]\tvalid_0's mape: 0.0092683\n",
      "[1112]\tvalid_0's mape: 0.00926826\n",
      "[1113]\tvalid_0's mape: 0.00926843\n",
      "[1114]\tvalid_0's mape: 0.00926832\n",
      "[1115]\tvalid_0's mape: 0.009268\n",
      "[1116]\tvalid_0's mape: 0.00926816\n",
      "[1117]\tvalid_0's mape: 0.00926823\n",
      "[1118]\tvalid_0's mape: 0.00926805\n",
      "[1119]\tvalid_0's mape: 0.00926797\n",
      "[1120]\tvalid_0's mape: 0.00926784\n",
      "[1121]\tvalid_0's mape: 0.00926786\n",
      "[1122]\tvalid_0's mape: 0.00926804\n",
      "[1123]\tvalid_0's mape: 0.00926797\n",
      "[1124]\tvalid_0's mape: 0.00926797\n",
      "[1125]\tvalid_0's mape: 0.00926776\n",
      "[1126]\tvalid_0's mape: 0.00926794\n",
      "[1127]\tvalid_0's mape: 0.00926793\n",
      "[1128]\tvalid_0's mape: 0.00926795\n",
      "[1129]\tvalid_0's mape: 0.00926793\n",
      "[1130]\tvalid_0's mape: 0.00926805\n",
      "[1131]\tvalid_0's mape: 0.00926787\n",
      "[1132]\tvalid_0's mape: 0.00926754\n",
      "[1133]\tvalid_0's mape: 0.0092677\n",
      "[1134]\tvalid_0's mape: 0.00926755\n",
      "[1135]\tvalid_0's mape: 0.00926755\n",
      "[1136]\tvalid_0's mape: 0.00926731\n",
      "[1137]\tvalid_0's mape: 0.00926717\n",
      "[1138]\tvalid_0's mape: 0.00926693\n",
      "[1139]\tvalid_0's mape: 0.00926695\n",
      "[1140]\tvalid_0's mape: 0.00926694\n",
      "[1141]\tvalid_0's mape: 0.00926706\n",
      "[1142]\tvalid_0's mape: 0.00926717\n",
      "[1143]\tvalid_0's mape: 0.00926719\n",
      "[1144]\tvalid_0's mape: 0.00926707\n",
      "[1145]\tvalid_0's mape: 0.00926694\n",
      "[1146]\tvalid_0's mape: 0.00926708\n",
      "[1147]\tvalid_0's mape: 0.00926691\n",
      "[1148]\tvalid_0's mape: 0.00926681\n",
      "[1149]\tvalid_0's mape: 0.00926655\n",
      "[1150]\tvalid_0's mape: 0.00926659\n",
      "[1151]\tvalid_0's mape: 0.00926627\n",
      "[1152]\tvalid_0's mape: 0.00926622\n",
      "[1153]\tvalid_0's mape: 0.00926635\n",
      "[1154]\tvalid_0's mape: 0.00926649\n",
      "[1155]\tvalid_0's mape: 0.00926641\n",
      "[1156]\tvalid_0's mape: 0.00926616\n",
      "[1157]\tvalid_0's mape: 0.00926634\n",
      "[1158]\tvalid_0's mape: 0.00926596\n",
      "[1159]\tvalid_0's mape: 0.00926609\n",
      "[1160]\tvalid_0's mape: 0.009266\n",
      "[1161]\tvalid_0's mape: 0.00926589\n",
      "[1162]\tvalid_0's mape: 0.00926565\n",
      "[1163]\tvalid_0's mape: 0.00926557\n",
      "[1164]\tvalid_0's mape: 0.00926558\n",
      "[1165]\tvalid_0's mape: 0.00926536\n",
      "[1166]\tvalid_0's mape: 0.00926524\n",
      "[1167]\tvalid_0's mape: 0.00926507\n",
      "[1168]\tvalid_0's mape: 0.00926488\n",
      "[1169]\tvalid_0's mape: 0.00926477\n",
      "[1170]\tvalid_0's mape: 0.00926461\n",
      "[1171]\tvalid_0's mape: 0.00926491\n",
      "[1172]\tvalid_0's mape: 0.00926506\n",
      "[1173]\tvalid_0's mape: 0.00926494\n",
      "[1174]\tvalid_0's mape: 0.00926477\n",
      "[1175]\tvalid_0's mape: 0.00926507\n",
      "[1176]\tvalid_0's mape: 0.00926546\n",
      "[1177]\tvalid_0's mape: 0.00926536\n",
      "[1178]\tvalid_0's mape: 0.00926534\n",
      "[1179]\tvalid_0's mape: 0.00926554\n",
      "[1180]\tvalid_0's mape: 0.00926513\n",
      "[1181]\tvalid_0's mape: 0.00926541\n",
      "[1182]\tvalid_0's mape: 0.00926526\n",
      "[1183]\tvalid_0's mape: 0.00926523\n",
      "[1184]\tvalid_0's mape: 0.00926494\n",
      "[1185]\tvalid_0's mape: 0.00926509\n",
      "[1186]\tvalid_0's mape: 0.00926503\n",
      "[1187]\tvalid_0's mape: 0.00926506\n",
      "[1188]\tvalid_0's mape: 0.00926478\n",
      "[1189]\tvalid_0's mape: 0.00926476\n",
      "[1190]\tvalid_0's mape: 0.00926454\n",
      "[1191]\tvalid_0's mape: 0.00926456\n",
      "[1192]\tvalid_0's mape: 0.0092645\n",
      "[1193]\tvalid_0's mape: 0.0092643\n",
      "[1194]\tvalid_0's mape: 0.00926421\n",
      "[1195]\tvalid_0's mape: 0.00926442\n",
      "[1196]\tvalid_0's mape: 0.00926446\n",
      "[1197]\tvalid_0's mape: 0.00926447\n",
      "[1198]\tvalid_0's mape: 0.00926429\n",
      "[1199]\tvalid_0's mape: 0.00926438\n",
      "[1200]\tvalid_0's mape: 0.00926403\n",
      "[1201]\tvalid_0's mape: 0.00926425\n",
      "[1202]\tvalid_0's mape: 0.00926445\n",
      "[1203]\tvalid_0's mape: 0.00926433\n",
      "[1204]\tvalid_0's mape: 0.00926442\n",
      "[1205]\tvalid_0's mape: 0.00926408\n",
      "[1206]\tvalid_0's mape: 0.00926357\n",
      "[1207]\tvalid_0's mape: 0.00926349\n",
      "[1208]\tvalid_0's mape: 0.00926336\n",
      "[1209]\tvalid_0's mape: 0.0092632\n",
      "[1210]\tvalid_0's mape: 0.00926335\n",
      "[1211]\tvalid_0's mape: 0.00926357\n",
      "[1212]\tvalid_0's mape: 0.00926298\n",
      "[1213]\tvalid_0's mape: 0.00926297\n",
      "[1214]\tvalid_0's mape: 0.00926301\n",
      "[1215]\tvalid_0's mape: 0.00926303\n",
      "[1216]\tvalid_0's mape: 0.00926279\n",
      "[1217]\tvalid_0's mape: 0.00926267\n",
      "[1218]\tvalid_0's mape: 0.0092623\n",
      "[1219]\tvalid_0's mape: 0.00926231\n",
      "[1220]\tvalid_0's mape: 0.00926189\n",
      "[1221]\tvalid_0's mape: 0.00926195\n",
      "[1222]\tvalid_0's mape: 0.00926149\n",
      "[1223]\tvalid_0's mape: 0.00926132\n",
      "[1224]\tvalid_0's mape: 0.00926143\n",
      "[1225]\tvalid_0's mape: 0.00926121\n",
      "[1226]\tvalid_0's mape: 0.0092615\n",
      "[1227]\tvalid_0's mape: 0.00926143\n",
      "[1228]\tvalid_0's mape: 0.00926143\n",
      "[1229]\tvalid_0's mape: 0.00926136\n",
      "[1230]\tvalid_0's mape: 0.00926138\n",
      "[1231]\tvalid_0's mape: 0.00926148\n",
      "[1232]\tvalid_0's mape: 0.00926173\n",
      "[1233]\tvalid_0's mape: 0.00926182\n",
      "[1234]\tvalid_0's mape: 0.00926177\n",
      "[1235]\tvalid_0's mape: 0.00926133\n",
      "[1236]\tvalid_0's mape: 0.00926133\n",
      "[1237]\tvalid_0's mape: 0.00926142\n",
      "[1238]\tvalid_0's mape: 0.00926126\n",
      "[1239]\tvalid_0's mape: 0.00926139\n",
      "[1240]\tvalid_0's mape: 0.00926139\n",
      "[1241]\tvalid_0's mape: 0.00926135\n",
      "[1242]\tvalid_0's mape: 0.00926143\n",
      "[1243]\tvalid_0's mape: 0.00926155\n",
      "[1244]\tvalid_0's mape: 0.00926155\n",
      "[1245]\tvalid_0's mape: 0.00926137\n",
      "[1246]\tvalid_0's mape: 0.00926094\n",
      "[1247]\tvalid_0's mape: 0.00926073\n",
      "[1248]\tvalid_0's mape: 0.0092608\n",
      "[1249]\tvalid_0's mape: 0.00926057\n",
      "[1250]\tvalid_0's mape: 0.0092605\n",
      "[1251]\tvalid_0's mape: 0.00926049\n",
      "[1252]\tvalid_0's mape: 0.00926091\n",
      "[1253]\tvalid_0's mape: 0.00926088\n",
      "[1254]\tvalid_0's mape: 0.00926081\n",
      "[1255]\tvalid_0's mape: 0.00926051\n",
      "[1256]\tvalid_0's mape: 0.00926055\n",
      "[1257]\tvalid_0's mape: 0.00926041\n",
      "[1258]\tvalid_0's mape: 0.00926016\n",
      "[1259]\tvalid_0's mape: 0.0092602\n",
      "[1260]\tvalid_0's mape: 0.00926019\n",
      "[1261]\tvalid_0's mape: 0.00926012\n",
      "[1262]\tvalid_0's mape: 0.00926009\n",
      "[1263]\tvalid_0's mape: 0.00925993\n",
      "[1264]\tvalid_0's mape: 0.00926006\n",
      "[1265]\tvalid_0's mape: 0.00926014\n",
      "[1266]\tvalid_0's mape: 0.00926\n",
      "[1267]\tvalid_0's mape: 0.00925982\n",
      "[1268]\tvalid_0's mape: 0.00925961\n",
      "[1269]\tvalid_0's mape: 0.0092596\n",
      "[1270]\tvalid_0's mape: 0.00925943\n",
      "[1271]\tvalid_0's mape: 0.00925946\n",
      "[1272]\tvalid_0's mape: 0.00925941\n",
      "[1273]\tvalid_0's mape: 0.00925959\n",
      "[1274]\tvalid_0's mape: 0.00925957\n",
      "[1275]\tvalid_0's mape: 0.0092597\n",
      "[1276]\tvalid_0's mape: 0.00925964\n",
      "[1277]\tvalid_0's mape: 0.00925962\n",
      "[1278]\tvalid_0's mape: 0.00925958\n",
      "[1279]\tvalid_0's mape: 0.00925943\n",
      "[1280]\tvalid_0's mape: 0.00925945\n",
      "[1281]\tvalid_0's mape: 0.00925931\n",
      "[1282]\tvalid_0's mape: 0.00925914\n",
      "[1283]\tvalid_0's mape: 0.00925925\n",
      "[1284]\tvalid_0's mape: 0.00925929\n",
      "[1285]\tvalid_0's mape: 0.00925931\n",
      "[1286]\tvalid_0's mape: 0.00925943\n",
      "[1287]\tvalid_0's mape: 0.0092594\n",
      "[1288]\tvalid_0's mape: 0.00925927\n",
      "[1289]\tvalid_0's mape: 0.00925898\n",
      "[1290]\tvalid_0's mape: 0.00925894\n",
      "[1291]\tvalid_0's mape: 0.00925881\n",
      "[1292]\tvalid_0's mape: 0.00925882\n",
      "[1293]\tvalid_0's mape: 0.00925887\n",
      "[1294]\tvalid_0's mape: 0.00925876\n",
      "[1295]\tvalid_0's mape: 0.00925876\n",
      "[1296]\tvalid_0's mape: 0.00925871\n",
      "[1297]\tvalid_0's mape: 0.00925864\n",
      "[1298]\tvalid_0's mape: 0.00925878\n",
      "[1299]\tvalid_0's mape: 0.00925862\n",
      "[1300]\tvalid_0's mape: 0.0092586\n",
      "[1301]\tvalid_0's mape: 0.00925867\n",
      "[1302]\tvalid_0's mape: 0.00925861\n",
      "[1303]\tvalid_0's mape: 0.00925863\n",
      "[1304]\tvalid_0's mape: 0.00925865\n",
      "[1305]\tvalid_0's mape: 0.00925846\n",
      "[1306]\tvalid_0's mape: 0.0092582\n",
      "[1307]\tvalid_0's mape: 0.00925803\n",
      "[1308]\tvalid_0's mape: 0.00925813\n",
      "[1309]\tvalid_0's mape: 0.00925806\n",
      "[1310]\tvalid_0's mape: 0.0092581\n",
      "[1311]\tvalid_0's mape: 0.00925823\n",
      "[1312]\tvalid_0's mape: 0.00925838\n",
      "[1313]\tvalid_0's mape: 0.0092583\n",
      "[1314]\tvalid_0's mape: 0.00925822\n",
      "[1315]\tvalid_0's mape: 0.00925836\n",
      "[1316]\tvalid_0's mape: 0.00925837\n",
      "[1317]\tvalid_0's mape: 0.00925819\n",
      "[1318]\tvalid_0's mape: 0.00925807\n",
      "[1319]\tvalid_0's mape: 0.00925805\n",
      "[1320]\tvalid_0's mape: 0.00925816\n",
      "[1321]\tvalid_0's mape: 0.00925832\n",
      "[1322]\tvalid_0's mape: 0.00925818\n",
      "[1323]\tvalid_0's mape: 0.0092583\n",
      "[1324]\tvalid_0's mape: 0.0092578\n",
      "[1325]\tvalid_0's mape: 0.00925784\n",
      "[1326]\tvalid_0's mape: 0.00925766\n",
      "[1327]\tvalid_0's mape: 0.00925763\n",
      "[1328]\tvalid_0's mape: 0.00925771\n",
      "[1329]\tvalid_0's mape: 0.00925783\n",
      "[1330]\tvalid_0's mape: 0.00925775\n",
      "[1331]\tvalid_0's mape: 0.00925791\n",
      "[1332]\tvalid_0's mape: 0.00925811\n",
      "[1333]\tvalid_0's mape: 0.00925789\n",
      "[1334]\tvalid_0's mape: 0.00925807\n",
      "[1335]\tvalid_0's mape: 0.00925795\n",
      "[1336]\tvalid_0's mape: 0.00925815\n",
      "[1337]\tvalid_0's mape: 0.00925813\n",
      "[1338]\tvalid_0's mape: 0.00925802\n",
      "[1339]\tvalid_0's mape: 0.00925789\n",
      "[1340]\tvalid_0's mape: 0.00925794\n",
      "[1341]\tvalid_0's mape: 0.00925824\n",
      "[1342]\tvalid_0's mape: 0.00925817\n",
      "[1343]\tvalid_0's mape: 0.00925789\n",
      "[1344]\tvalid_0's mape: 0.00925779\n",
      "[1345]\tvalid_0's mape: 0.00925769\n",
      "[1346]\tvalid_0's mape: 0.00925762\n",
      "[1347]\tvalid_0's mape: 0.00925768\n",
      "[1348]\tvalid_0's mape: 0.00925757\n",
      "[1349]\tvalid_0's mape: 0.00925772\n",
      "[1350]\tvalid_0's mape: 0.00925767\n",
      "[1351]\tvalid_0's mape: 0.00925783\n",
      "[1352]\tvalid_0's mape: 0.00925782\n",
      "[1353]\tvalid_0's mape: 0.00925764\n",
      "[1354]\tvalid_0's mape: 0.00925759\n",
      "[1355]\tvalid_0's mape: 0.0092574\n",
      "[1356]\tvalid_0's mape: 0.00925733\n",
      "[1357]\tvalid_0's mape: 0.00925737\n",
      "[1358]\tvalid_0's mape: 0.0092574\n",
      "[1359]\tvalid_0's mape: 0.00925742\n",
      "[1360]\tvalid_0's mape: 0.00925746\n",
      "[1361]\tvalid_0's mape: 0.0092574\n",
      "[1362]\tvalid_0's mape: 0.00925753\n",
      "[1363]\tvalid_0's mape: 0.00925751\n",
      "[1364]\tvalid_0's mape: 0.00925748\n",
      "[1365]\tvalid_0's mape: 0.00925759\n",
      "[1366]\tvalid_0's mape: 0.00925748\n",
      "[1367]\tvalid_0's mape: 0.00925759\n",
      "[1368]\tvalid_0's mape: 0.00925758\n",
      "[1369]\tvalid_0's mape: 0.00925761\n",
      "[1370]\tvalid_0's mape: 0.00925751\n",
      "[1371]\tvalid_0's mape: 0.00925782\n",
      "[1372]\tvalid_0's mape: 0.0092579\n",
      "[1373]\tvalid_0's mape: 0.00925776\n",
      "[1374]\tvalid_0's mape: 0.0092579\n",
      "[1375]\tvalid_0's mape: 0.0092581\n",
      "[1376]\tvalid_0's mape: 0.00925819\n",
      "[1377]\tvalid_0's mape: 0.00925797\n",
      "[1378]\tvalid_0's mape: 0.00925822\n",
      "[1379]\tvalid_0's mape: 0.00925823\n",
      "[1380]\tvalid_0's mape: 0.00925833\n",
      "[1381]\tvalid_0's mape: 0.0092583\n",
      "[1382]\tvalid_0's mape: 0.00925833\n",
      "[1383]\tvalid_0's mape: 0.00925829\n",
      "[1384]\tvalid_0's mape: 0.00925837\n",
      "[1385]\tvalid_0's mape: 0.00925829\n",
      "[1386]\tvalid_0's mape: 0.0092584\n",
      "[1387]\tvalid_0's mape: 0.00925843\n",
      "[1388]\tvalid_0's mape: 0.00925827\n",
      "[1389]\tvalid_0's mape: 0.00925842\n",
      "[1390]\tvalid_0's mape: 0.0092583\n",
      "[1391]\tvalid_0's mape: 0.00925847\n",
      "[1392]\tvalid_0's mape: 0.00925864\n",
      "[1393]\tvalid_0's mape: 0.00925867\n",
      "[1394]\tvalid_0's mape: 0.00925879\n",
      "[1395]\tvalid_0's mape: 0.00925859\n",
      "[1396]\tvalid_0's mape: 0.00925851\n",
      "[1397]\tvalid_0's mape: 0.00925871\n",
      "[1398]\tvalid_0's mape: 0.00925873\n",
      "[1399]\tvalid_0's mape: 0.00925901\n",
      "[1400]\tvalid_0's mape: 0.00925877\n",
      "[1401]\tvalid_0's mape: 0.00925877\n",
      "[1402]\tvalid_0's mape: 0.00925876\n",
      "[1403]\tvalid_0's mape: 0.00925884\n",
      "[1404]\tvalid_0's mape: 0.00925894\n",
      "[1405]\tvalid_0's mape: 0.00925898\n",
      "[1406]\tvalid_0's mape: 0.00925896\n",
      "[1407]\tvalid_0's mape: 0.00925904\n",
      "[1408]\tvalid_0's mape: 0.00925895\n",
      "[1409]\tvalid_0's mape: 0.00925919\n",
      "[1410]\tvalid_0's mape: 0.00925914\n",
      "[1411]\tvalid_0's mape: 0.00925902\n",
      "[1412]\tvalid_0's mape: 0.00925904\n",
      "[1413]\tvalid_0's mape: 0.00925917\n",
      "[1414]\tvalid_0's mape: 0.00925928\n",
      "[1415]\tvalid_0's mape: 0.00925933\n",
      "[1416]\tvalid_0's mape: 0.00925917\n",
      "[1417]\tvalid_0's mape: 0.00925901\n",
      "[1418]\tvalid_0's mape: 0.00925912\n",
      "[1419]\tvalid_0's mape: 0.00925917\n",
      "[1420]\tvalid_0's mape: 0.0092591\n",
      "[1421]\tvalid_0's mape: 0.00925896\n",
      "[1422]\tvalid_0's mape: 0.00925892\n",
      "[1423]\tvalid_0's mape: 0.00925889\n",
      "[1424]\tvalid_0's mape: 0.00925905\n",
      "[1425]\tvalid_0's mape: 0.00925918\n",
      "[1426]\tvalid_0's mape: 0.00925927\n",
      "[1427]\tvalid_0's mape: 0.0092593\n",
      "[1428]\tvalid_0's mape: 0.00925913\n",
      "[1429]\tvalid_0's mape: 0.00925921\n",
      "[1430]\tvalid_0's mape: 0.00925928\n",
      "[1431]\tvalid_0's mape: 0.0092592\n",
      "[1432]\tvalid_0's mape: 0.0092592\n",
      "[1433]\tvalid_0's mape: 0.00925912\n",
      "[1434]\tvalid_0's mape: 0.00925887\n",
      "[1435]\tvalid_0's mape: 0.00925887\n",
      "[1436]\tvalid_0's mape: 0.00925922\n",
      "[1437]\tvalid_0's mape: 0.00925913\n",
      "[1438]\tvalid_0's mape: 0.00925919\n",
      "[1439]\tvalid_0's mape: 0.00925921\n",
      "[1440]\tvalid_0's mape: 0.00925943\n",
      "[1441]\tvalid_0's mape: 0.00925954\n",
      "[1442]\tvalid_0's mape: 0.00925971\n",
      "[1443]\tvalid_0's mape: 0.00925969\n",
      "[1444]\tvalid_0's mape: 0.00925971\n",
      "[1445]\tvalid_0's mape: 0.0092598\n",
      "[1446]\tvalid_0's mape: 0.00925987\n",
      "[1447]\tvalid_0's mape: 0.00925996\n",
      "[1448]\tvalid_0's mape: 0.00925995\n",
      "[1449]\tvalid_0's mape: 0.00925977\n",
      "[1450]\tvalid_0's mape: 0.00925965\n",
      "[1451]\tvalid_0's mape: 0.00925956\n",
      "[1452]\tvalid_0's mape: 0.00925982\n",
      "[1453]\tvalid_0's mape: 0.00925973\n",
      "[1454]\tvalid_0's mape: 0.00925977\n",
      "[1455]\tvalid_0's mape: 0.00925996\n",
      "[1456]\tvalid_0's mape: 0.00925998\n",
      "Early stopping, best iteration is:\n",
      "[1356]\tvalid_0's mape: 0.00925733\n"
     ]
    },
    {
     "data": {
      "text/plain": [
       "LGBMRegressor(colsample_bytree=0.75, learning_rate=0.02, max_depth=25,\n",
       "              metric=['mape'], min_child_samples=10, n_estimators=5000,\n",
       "              num_leaves=512, objective='regression', random_state=42,\n",
       "              task='train', verbose=-1)"
      ]
     },
     "execution_count": 131,
     "metadata": {},
     "output_type": "execute_result"
    }
   ],
   "source": [
    "hyper_params = {\n",
    "    'task': 'train',\n",
    "    'objective': 'regression',\n",
    "    'metric': ['mape'],\n",
    "    'learning_rate': 0.02,\n",
    "    'colsample_bytree': 0.75,\n",
    "    'min_child_samples': 10,\n",
    "    'max_depth': 25,\n",
    "#     'max_bins': 61,\n",
    "    'num_leaves': 512,  \n",
    "    'n_estimators': 5000,\n",
    "    'random_state': RANDOM_SEED,\n",
    "#     'device': 'gpu',\n",
    "#     'gpu_platform_id': 0,\n",
    "#     'gpu_device_id': 0,\n",
    "    'verbose': -1\n",
    "}\n",
    "\n",
    "\n",
    "lgbm = lgb.LGBMRegressor(**hyper_params)\n",
    "lgbm.fit(X_train, y_train,\n",
    "         eval_set=[(X_test, y_test)],\n",
    "         eval_metric='mape',\n",
    "         early_stopping_rounds=100\n",
    "        )"
   ]
  },
  {
   "cell_type": "code",
   "execution_count": 132,
   "metadata": {
    "execution": {
     "iopub.execute_input": "2021-01-16T15:14:42.368129Z",
     "iopub.status.busy": "2021-01-16T15:14:42.367238Z",
     "iopub.status.idle": "2021-01-16T15:14:46.992067Z",
     "shell.execute_reply": "2021-01-16T15:14:46.992699Z"
    },
    "papermill": {
     "duration": 4.906904,
     "end_time": "2021-01-16T15:14:46.992877",
     "exception": false,
     "start_time": "2021-01-16T15:14:42.085973",
     "status": "completed"
    },
    "tags": []
   },
   "outputs": [
    {
     "name": "stdout",
     "output_type": "stream",
     "text": [
      "Точность модели по метрике MAPE: 12.42%\n"
     ]
    }
   ],
   "source": [
    "lgbm_pred = lgbm.predict(X_test)\n",
    "print(f\"Точность модели по метрике MAPE: {(mape(np.exp(y_test), np.exp(lgbm_pred)))*100:0.2f}%\")"
   ]
  },
  {
   "cell_type": "code",
   "execution_count": 133,
   "metadata": {
    "execution": {
     "iopub.execute_input": "2021-01-16T15:14:47.618760Z",
     "iopub.status.busy": "2021-01-16T15:14:47.617876Z",
     "iopub.status.idle": "2021-01-16T15:14:55.160346Z",
     "shell.execute_reply": "2021-01-16T15:14:55.159845Z"
    },
    "papermill": {
     "duration": 7.853174,
     "end_time": "2021-01-16T15:14:55.160454",
     "exception": false,
     "start_time": "2021-01-16T15:14:47.307280",
     "status": "completed"
    },
    "tags": []
   },
   "outputs": [
    {
     "data": {
      "text/html": [
       "<div>\n",
       "<style scoped>\n",
       "    .dataframe tbody tr th:only-of-type {\n",
       "        vertical-align: middle;\n",
       "    }\n",
       "\n",
       "    .dataframe tbody tr th {\n",
       "        vertical-align: top;\n",
       "    }\n",
       "\n",
       "    .dataframe thead th {\n",
       "        text-align: right;\n",
       "    }\n",
       "</style>\n",
       "<table border=\"1\" class=\"dataframe\">\n",
       "  <thead>\n",
       "    <tr style=\"text-align: right;\">\n",
       "      <th></th>\n",
       "      <th>sell_id</th>\n",
       "      <th>price</th>\n",
       "    </tr>\n",
       "  </thead>\n",
       "  <tbody>\n",
       "    <tr>\n",
       "      <th>0</th>\n",
       "      <td>1100575026</td>\n",
       "      <td>5.883854e+05</td>\n",
       "    </tr>\n",
       "    <tr>\n",
       "      <th>1</th>\n",
       "      <td>1100549428</td>\n",
       "      <td>9.320627e+05</td>\n",
       "    </tr>\n",
       "    <tr>\n",
       "      <th>2</th>\n",
       "      <td>1100658222</td>\n",
       "      <td>8.937097e+05</td>\n",
       "    </tr>\n",
       "    <tr>\n",
       "      <th>3</th>\n",
       "      <td>1100937408</td>\n",
       "      <td>7.669530e+05</td>\n",
       "    </tr>\n",
       "    <tr>\n",
       "      <th>4</th>\n",
       "      <td>1101037972</td>\n",
       "      <td>7.372900e+05</td>\n",
       "    </tr>\n",
       "    <tr>\n",
       "      <th>5</th>\n",
       "      <td>1100912634</td>\n",
       "      <td>7.660845e+05</td>\n",
       "    </tr>\n",
       "    <tr>\n",
       "      <th>6</th>\n",
       "      <td>1101228730</td>\n",
       "      <td>6.171297e+05</td>\n",
       "    </tr>\n",
       "    <tr>\n",
       "      <th>7</th>\n",
       "      <td>1100165896</td>\n",
       "      <td>3.729405e+05</td>\n",
       "    </tr>\n",
       "    <tr>\n",
       "      <th>8</th>\n",
       "      <td>1100768262</td>\n",
       "      <td>1.882795e+06</td>\n",
       "    </tr>\n",
       "    <tr>\n",
       "      <th>9</th>\n",
       "      <td>1101218501</td>\n",
       "      <td>8.271861e+05</td>\n",
       "    </tr>\n",
       "  </tbody>\n",
       "</table>\n",
       "</div>"
      ],
      "text/plain": [
       "      sell_id         price\n",
       "0  1100575026  5.883854e+05\n",
       "1  1100549428  9.320627e+05\n",
       "2  1100658222  8.937097e+05\n",
       "3  1100937408  7.669530e+05\n",
       "4  1101037972  7.372900e+05\n",
       "5  1100912634  7.660845e+05\n",
       "6  1101228730  6.171297e+05\n",
       "7  1100165896  3.729405e+05\n",
       "8  1100768262  1.882795e+06\n",
       "9  1101218501  8.271861e+05"
      ]
     },
     "execution_count": 133,
     "metadata": {},
     "output_type": "execute_result"
    }
   ],
   "source": [
    "predict_submission = np.exp(lgbm.predict(test))\n",
    "\n",
    "sample_submission_final['price_lgbm'] = predict_submission\n",
    "sample_submission['price'] = predict_submission\n",
    "sample_submission.to_csv(f'submission_lgbm_v{VERSION}.csv', index=False)\n",
    "sample_submission.head(10)"
   ]
  },
  {
   "cell_type": "markdown",
   "metadata": {
    "papermill": {
     "duration": 0.289913,
     "end_time": "2021-01-16T15:14:55.731801",
     "exception": false,
     "start_time": "2021-01-16T15:14:55.441888",
     "status": "completed"
    },
    "tags": []
   },
   "source": [
    "#### LGBM Regressor score in LB is 9.68420"
   ]
  },
  {
   "cell_type": "markdown",
   "metadata": {
    "papermill": {
     "duration": 0.278857,
     "end_time": "2021-01-16T15:14:56.289427",
     "exception": false,
     "start_time": "2021-01-16T15:14:56.010570",
     "status": "completed"
    },
    "tags": []
   },
   "source": [
    "### Stacking"
   ]
  },
  {
   "cell_type": "code",
   "execution_count": 134,
   "metadata": {
    "execution": {
     "iopub.execute_input": "2021-01-16T15:14:56.855388Z",
     "iopub.status.busy": "2021-01-16T15:14:56.854502Z",
     "iopub.status.idle": "2021-01-16T15:14:56.858744Z",
     "shell.execute_reply": "2021-01-16T15:14:56.858183Z"
    },
    "papermill": {
     "duration": 0.29069,
     "end_time": "2021-01-16T15:14:56.858866",
     "exception": false,
     "start_time": "2021-01-16T15:14:56.568176",
     "status": "completed"
    },
    "tags": []
   },
   "outputs": [],
   "source": [
    "# LB score --->  10.15683\n",
    "\n",
    "# estimators = [\n",
    "#     ('xgb', xgb_model),\n",
    "#     ('lgbm', lgbm),\n",
    "#     ('rf_reg', RandomForestRegressor(random_state=RANDOM_SEED, n_estimators=300))\n",
    "# ]\n",
    "\n",
    "# reg = StackingRegressor(\n",
    "#     estimators=estimators,\n",
    "#     final_estimator=xgb.XGBRegressor(objective='reg:squarederror', \n",
    "#                                      tree_method='gpu_hist', \n",
    "#                                      sampling_method='gradient_based', \n",
    "#                                      seed=RANDOM_SEED),\n",
    "#     passthrough=True\n",
    "# )\n",
    "\n",
    "# reg.fit(X_train, y_train)"
   ]
  },
  {
   "cell_type": "code",
   "execution_count": 135,
   "metadata": {
    "execution": {
     "iopub.execute_input": "2021-01-16T15:14:57.488364Z",
     "iopub.status.busy": "2021-01-16T15:14:57.487661Z",
     "iopub.status.idle": "2021-01-16T15:14:57.491253Z",
     "shell.execute_reply": "2021-01-16T15:14:57.490769Z"
    },
    "papermill": {
     "duration": 0.299949,
     "end_time": "2021-01-16T15:14:57.491354",
     "exception": false,
     "start_time": "2021-01-16T15:14:57.191405",
     "status": "completed"
    },
    "tags": []
   },
   "outputs": [],
   "source": [
    "# LB score --->  9.63778\n",
    "\n",
    "# estimators = [\n",
    "#     ('xgb', xgb_model),\n",
    "#     ('lgbm', lgbm)\n",
    "# ]\n",
    "\n",
    "# reg = StackingRegressor(\n",
    "#     estimators=estimators,\n",
    "#     final_estimator=lgb.LGBMRegressor(task='train',\n",
    "#                                       objective='regression',\n",
    "#                                       metric=['mape'],\n",
    "#                                       random_state=RANDOM_SEED,\n",
    "#                                      ),\n",
    "#     passthrough=True\n",
    "# )\n",
    "\n",
    "# reg.fit(X_train, y_train)"
   ]
  },
  {
   "cell_type": "code",
   "execution_count": 136,
   "metadata": {
    "execution": {
     "iopub.execute_input": "2021-01-16T15:14:58.066932Z",
     "iopub.status.busy": "2021-01-16T15:14:58.065873Z",
     "iopub.status.idle": "2021-01-16T15:14:58.068254Z",
     "shell.execute_reply": "2021-01-16T15:14:58.068839Z"
    },
    "papermill": {
     "duration": 0.296764,
     "end_time": "2021-01-16T15:14:58.068976",
     "exception": false,
     "start_time": "2021-01-16T15:14:57.772212",
     "status": "completed"
    },
    "tags": []
   },
   "outputs": [],
   "source": [
    "# LB score  --->  9.26548\n",
    "\n",
    "# estimators = [\n",
    "#     ('xgb', xgb_model),\n",
    "#     ('lgbm', lgbm),\n",
    "#     ('adab', AdaBoostRegressor(random_state=RANDOM_SEED))\n",
    "# ]\n",
    "\n",
    "# reg = StackingRegressor(\n",
    "#     estimators=estimators,\n",
    "#     final_estimator=RidgeCV(),\n",
    "#     cv=5,\n",
    "#     passthrough=False\n",
    "# )\n",
    "\n",
    "# reg.fit(X_train, y_train)"
   ]
  },
  {
   "cell_type": "code",
   "execution_count": 137,
   "metadata": {
    "execution": {
     "iopub.execute_input": "2021-01-16T15:14:58.685172Z",
     "iopub.status.busy": "2021-01-16T15:14:58.684287Z",
     "iopub.status.idle": "2021-01-16T15:46:43.296074Z",
     "shell.execute_reply": "2021-01-16T15:46:43.296642Z"
    },
    "papermill": {
     "duration": 1904.897804,
     "end_time": "2021-01-16T15:46:43.296825",
     "exception": false,
     "start_time": "2021-01-16T15:14:58.399021",
     "status": "completed"
    },
    "tags": []
   },
   "outputs": [
    {
     "data": {
      "text/plain": [
       "StackingRegressor(cv=5,\n",
       "                  estimators=[('xgb',\n",
       "                               XGBRegressor(alpha=1, base_score=0.5,\n",
       "                                            booster='gbtree',\n",
       "                                            colsample_bylevel=1,\n",
       "                                            colsample_bynode=0.9,\n",
       "                                            colsample_bytree=0.8, gamma=0,\n",
       "                                            gpu_id=0, importance_type='gain',\n",
       "                                            interaction_constraints='',\n",
       "                                            learning_rate=0.05,\n",
       "                                            max_delta_step=0, max_depth=11,\n",
       "                                            min_child_weight=1, missing=nan,\n",
       "                                            monotone_constraints='(0,0,0,0,0,0,0,0,0,0,0,0...\n",
       "                                            scale_pos_weight=1, seed=42,\n",
       "                                            subsample=0.95,\n",
       "                                            tree_method='gpu_hist',\n",
       "                                            validate_parameters=1,\n",
       "                                            verbosity=None)),\n",
       "                              ('lgbm',\n",
       "                               LGBMRegressor(colsample_bytree=0.75,\n",
       "                                             learning_rate=0.02, max_depth=25,\n",
       "                                             metric=['mape'],\n",
       "                                             min_child_samples=10,\n",
       "                                             n_estimators=5000, num_leaves=512,\n",
       "                                             objective='regression',\n",
       "                                             random_state=42, task='train',\n",
       "                                             verbose=-1))],\n",
       "                  final_estimator=RidgeCV(alphas=array([ 0.1,  1. , 10. ])))"
      ]
     },
     "execution_count": 137,
     "metadata": {},
     "output_type": "execute_result"
    }
   ],
   "source": [
    "# best\n",
    "\n",
    "estimators = [\n",
    "    ('xgb', xgb_model),\n",
    "    ('lgbm', lgbm)\n",
    "]\n",
    "\n",
    "# scoring = make_scorer(mape)\n",
    "\n",
    "reg = StackingRegressor(\n",
    "    estimators=estimators,\n",
    "    final_estimator=RidgeCV(),\n",
    "    cv=5,\n",
    "    passthrough=False\n",
    ")\n",
    "\n",
    "reg.fit(X_train, y_train)"
   ]
  },
  {
   "cell_type": "code",
   "execution_count": 138,
   "metadata": {
    "execution": {
     "iopub.execute_input": "2021-01-16T15:46:43.878439Z",
     "iopub.status.busy": "2021-01-16T15:46:43.877502Z",
     "iopub.status.idle": "2021-01-16T15:47:05.891417Z",
     "shell.execute_reply": "2021-01-16T15:47:05.890487Z"
    },
    "papermill": {
     "duration": 22.309543,
     "end_time": "2021-01-16T15:47:05.891606",
     "exception": false,
     "start_time": "2021-01-16T15:46:43.582063",
     "status": "completed"
    },
    "tags": []
   },
   "outputs": [
    {
     "name": "stdout",
     "output_type": "stream",
     "text": [
      "Точность модели по метрике MAPE: 12.34%\n"
     ]
    }
   ],
   "source": [
    "stack_pred = reg.predict(X_test)\n",
    "print(f\"Точность модели по метрике MAPE: {(mape(np.exp(y_test), np.exp(stack_pred)))*100:0.2f}%\")"
   ]
  },
  {
   "cell_type": "code",
   "execution_count": 139,
   "metadata": {
    "execution": {
     "iopub.execute_input": "2021-01-16T15:47:06.618555Z",
     "iopub.status.busy": "2021-01-16T15:47:06.617137Z",
     "iopub.status.idle": "2021-01-16T15:47:41.352635Z",
     "shell.execute_reply": "2021-01-16T15:47:41.353141Z"
    },
    "papermill": {
     "duration": 35.136211,
     "end_time": "2021-01-16T15:47:41.353274",
     "exception": false,
     "start_time": "2021-01-16T15:47:06.217063",
     "status": "completed"
    },
    "tags": []
   },
   "outputs": [
    {
     "data": {
      "text/html": [
       "<div>\n",
       "<style scoped>\n",
       "    .dataframe tbody tr th:only-of-type {\n",
       "        vertical-align: middle;\n",
       "    }\n",
       "\n",
       "    .dataframe tbody tr th {\n",
       "        vertical-align: top;\n",
       "    }\n",
       "\n",
       "    .dataframe thead th {\n",
       "        text-align: right;\n",
       "    }\n",
       "</style>\n",
       "<table border=\"1\" class=\"dataframe\">\n",
       "  <thead>\n",
       "    <tr style=\"text-align: right;\">\n",
       "      <th></th>\n",
       "      <th>sell_id</th>\n",
       "      <th>price</th>\n",
       "    </tr>\n",
       "  </thead>\n",
       "  <tbody>\n",
       "    <tr>\n",
       "      <th>0</th>\n",
       "      <td>1100575026</td>\n",
       "      <td>5.958119e+05</td>\n",
       "    </tr>\n",
       "    <tr>\n",
       "      <th>1</th>\n",
       "      <td>1100549428</td>\n",
       "      <td>9.185422e+05</td>\n",
       "    </tr>\n",
       "    <tr>\n",
       "      <th>2</th>\n",
       "      <td>1100658222</td>\n",
       "      <td>9.019044e+05</td>\n",
       "    </tr>\n",
       "    <tr>\n",
       "      <th>3</th>\n",
       "      <td>1100937408</td>\n",
       "      <td>7.456662e+05</td>\n",
       "    </tr>\n",
       "    <tr>\n",
       "      <th>4</th>\n",
       "      <td>1101037972</td>\n",
       "      <td>7.541345e+05</td>\n",
       "    </tr>\n",
       "    <tr>\n",
       "      <th>5</th>\n",
       "      <td>1100912634</td>\n",
       "      <td>7.695173e+05</td>\n",
       "    </tr>\n",
       "    <tr>\n",
       "      <th>6</th>\n",
       "      <td>1101228730</td>\n",
       "      <td>5.997698e+05</td>\n",
       "    </tr>\n",
       "    <tr>\n",
       "      <th>7</th>\n",
       "      <td>1100165896</td>\n",
       "      <td>3.625199e+05</td>\n",
       "    </tr>\n",
       "    <tr>\n",
       "      <th>8</th>\n",
       "      <td>1100768262</td>\n",
       "      <td>1.980725e+06</td>\n",
       "    </tr>\n",
       "    <tr>\n",
       "      <th>9</th>\n",
       "      <td>1101218501</td>\n",
       "      <td>8.133250e+05</td>\n",
       "    </tr>\n",
       "  </tbody>\n",
       "</table>\n",
       "</div>"
      ],
      "text/plain": [
       "      sell_id         price\n",
       "0  1100575026  5.958119e+05\n",
       "1  1100549428  9.185422e+05\n",
       "2  1100658222  9.019044e+05\n",
       "3  1100937408  7.456662e+05\n",
       "4  1101037972  7.541345e+05\n",
       "5  1100912634  7.695173e+05\n",
       "6  1101228730  5.997698e+05\n",
       "7  1100165896  3.625199e+05\n",
       "8  1100768262  1.980725e+06\n",
       "9  1101218501  8.133250e+05"
      ]
     },
     "execution_count": 139,
     "metadata": {},
     "output_type": "execute_result"
    }
   ],
   "source": [
    "predict_submission = np.exp(reg.predict(test))\n",
    "\n",
    "sample_submission_final['price_stack'] = predict_submission\n",
    "sample_submission['price'] = predict_submission\n",
    "sample_submission.to_csv(f'submission_stack_v{VERSION}.csv', index=False)\n",
    "sample_submission.head(10)"
   ]
  },
  {
   "cell_type": "code",
   "execution_count": 140,
   "metadata": {
    "execution": {
     "iopub.execute_input": "2021-01-16T15:47:41.929309Z",
     "iopub.status.busy": "2021-01-16T15:47:41.928397Z",
     "iopub.status.idle": "2021-01-16T15:47:42.072330Z",
     "shell.execute_reply": "2021-01-16T15:47:42.071813Z"
    },
    "papermill": {
     "duration": 0.436766,
     "end_time": "2021-01-16T15:47:42.072440",
     "exception": false,
     "start_time": "2021-01-16T15:47:41.635674",
     "status": "completed"
    },
    "tags": []
   },
   "outputs": [],
   "source": [
    "sample_submission_final['price'] = (0.8 * sample_submission_final['price_stack'] + \n",
    "                                    0.125 * sample_submission_final['price_lgbm'] + \n",
    "                                    0.075 * sample_submission_final['price_xgb'])\n",
    "\n",
    "sample_submission_final.drop(columns=['price_stack', 'price_xgb', 'price_lgbm'], inplace=True)\n",
    "sample_submission_final.to_csv(f'submission_stack_fianl_v{VERSION}.csv', index=False)"
   ]
  }
 ],
 "metadata": {
  "kernelspec": {
   "display_name": "Python 3",
   "language": "python",
   "name": "python3"
  },
  "language_info": {
   "codemirror_mode": {
    "name": "ipython",
    "version": 3
   },
   "file_extension": ".py",
   "mimetype": "text/x-python",
   "name": "python",
   "nbconvert_exporter": "python",
   "pygments_lexer": "ipython3",
   "version": "3.7.6"
  },
  "papermill": {
   "duration": 2212.149913,
   "end_time": "2021-01-16T15:47:43.366317",
   "environment_variables": {},
   "exception": null,
   "input_path": "__notebook__.ipynb",
   "output_path": "__notebook__.ipynb",
   "parameters": {},
   "start_time": "2021-01-16T15:10:51.216404",
   "version": "2.1.0"
  }
 },
 "nbformat": 4,
 "nbformat_minor": 4
}
